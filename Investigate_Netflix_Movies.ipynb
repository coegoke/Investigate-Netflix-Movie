{
  "cells": [
    {
      "cell_type": "markdown",
      "metadata": {
        "id": "view-in-github",
        "colab_type": "text"
      },
      "source": [
        "<a href=\"https://colab.research.google.com/github/coegoke/Investigate-Netflix-Movie/blob/main/Investigate_Netflix_Movies.ipynb\" target=\"_parent\"><img src=\"https://colab.research.google.com/assets/colab-badge.svg\" alt=\"Open In Colab\"/></a>"
      ]
    },
    {
      "source": [
        "# Netflix Movie Data\n",
        "\n",
        "This dataset contains more than 8,500 Netflix movies and TV shows, including cast members, duration, and genre. It contains titles added as recently as late September 2021.\n",
        "\n",
        "![1919380816.png](data:image/png;base64,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)\n"
      ],
      "metadata": {
        "id": "configured-phrase"
      },
      "id": "configured-phrase",
      "cell_type": "markdown"
    },
    {
      "cell_type": "markdown",
      "source": [
        "# Business Question\n",
        "1. Berapa persen dari setiap tipe konten netflix?\n",
        "2. Siapa director yang paling sering membuat film?\n",
        "3. Negara mana yang paling sering membuat film?\n",
        "4. bagaimana trend release film berdasarkan tipe film?\n",
        "5. rating apa yang paling banyak digemari?\n",
        "6. berapa durasi film yang paling banyak ditonton berdasarkan waktu dan season?\n",
        "7. sebaran waktu semua film yang rilis?\n",
        "8. sebaran film yang berdurasi panjang berdasarkan negara?"
      ],
      "metadata": {
        "id": "_uS04VujyDLh"
      },
      "id": "_uS04VujyDLh"
    },
    {
      "source": [
        "## Import Package"
      ],
      "metadata": {
        "id": "c142e886-32c0-43a8-9f7f-48ebfea556ed"
      },
      "cell_type": "markdown",
      "id": "c142e886-32c0-43a8-9f7f-48ebfea556ed"
    },
    {
      "source": [
        "import pandas as pd\n",
        "import numpy as np\n",
        "import matplotlib.pyplot as plt\n",
        "import seaborn as sns\n",
        "from plotly.subplots import make_subplots\n",
        "import plotly.graph_objects as go\n",
        "import plotly.express as px\n",
        "from collections import Counter\n",
        "!pip install plotly"
      ],
      "metadata": {
        "id": "dfc6153b-bdbc-43ea-b591-c134045ef697",
        "colab": {
          "base_uri": "https://localhost:8080/"
        },
        "outputId": "4face6da-de07-4873-f09e-a92af669124e"
      },
      "cell_type": "code",
      "id": "dfc6153b-bdbc-43ea-b591-c134045ef697",
      "execution_count": 1,
      "outputs": [
        {
          "output_type": "stream",
          "name": "stdout",
          "text": [
            "Looking in indexes: https://pypi.org/simple, https://us-python.pkg.dev/colab-wheels/public/simple/\n",
            "Requirement already satisfied: plotly in /usr/local/lib/python3.7/dist-packages (5.5.0)\n",
            "Requirement already satisfied: tenacity>=6.2.0 in /usr/local/lib/python3.7/dist-packages (from plotly) (8.0.1)\n",
            "Requirement already satisfied: six in /usr/local/lib/python3.7/dist-packages (from plotly) (1.15.0)\n"
          ]
        }
      ]
    },
    {
      "source": [
        "df = pd.read_csv(\"https://raw.githubusercontent.com/coegoke/Investigate-Netflix-Movie/main/netflix_dataset.csv\")"
      ],
      "metadata": {
        "id": "polyphonic-snapshot"
      },
      "id": "polyphonic-snapshot",
      "cell_type": "code",
      "execution_count": 2,
      "outputs": []
    },
    {
      "source": [
        "## Data Exploration"
      ],
      "metadata": {
        "id": "f80725d1-f623-4ed3-a96f-c4b2b0867bc3"
      },
      "cell_type": "markdown",
      "id": "f80725d1-f623-4ed3-a96f-c4b2b0867bc3"
    },
    {
      "source": [
        "df.head()"
      ],
      "metadata": {
        "id": "c4c12d29-9df9-4039-8838-722f032818cd",
        "outputId": "c2d6b699-e369-4728-8aa7-4543981b25b7",
        "colab": {
          "base_uri": "https://localhost:8080/",
          "height": 0
        }
      },
      "id": "c4c12d29-9df9-4039-8838-722f032818cd",
      "cell_type": "code",
      "execution_count": 3,
      "outputs": [
        {
          "output_type": "execute_result",
          "data": {
            "text/plain": [
              "  show_id     type                  title         director  \\\n",
              "0      s1    Movie   Dick Johnson Is Dead  Kirsten Johnson   \n",
              "1      s2  TV Show          Blood & Water              NaN   \n",
              "2      s3  TV Show              Ganglands  Julien Leclercq   \n",
              "3      s4  TV Show  Jailbirds New Orleans              NaN   \n",
              "4      s5  TV Show           Kota Factory              NaN   \n",
              "\n",
              "                                                cast        country  \\\n",
              "0                                                NaN  United States   \n",
              "1  Ama Qamata, Khosi Ngema, Gail Mabalane, Thaban...   South Africa   \n",
              "2  Sami Bouajila, Tracy Gotoas, Samuel Jouy, Nabi...            NaN   \n",
              "3                                                NaN            NaN   \n",
              "4  Mayur More, Jitendra Kumar, Ranjan Raj, Alam K...          India   \n",
              "\n",
              "           date_added  release_year rating   duration  \\\n",
              "0  September 25, 2021          2020  PG-13     90 min   \n",
              "1  September 24, 2021          2021  TV-MA  2 Seasons   \n",
              "2  September 24, 2021          2021  TV-MA   1 Season   \n",
              "3  September 24, 2021          2021  TV-MA   1 Season   \n",
              "4  September 24, 2021          2021  TV-MA  2 Seasons   \n",
              "\n",
              "                                           listed_in  \\\n",
              "0                                      Documentaries   \n",
              "1    International TV Shows, TV Dramas, TV Mysteries   \n",
              "2  Crime TV Shows, International TV Shows, TV Act...   \n",
              "3                             Docuseries, Reality TV   \n",
              "4  International TV Shows, Romantic TV Shows, TV ...   \n",
              "\n",
              "                                         description  \n",
              "0  As her father nears the end of his life, filmm...  \n",
              "1  After crossing paths at a party, a Cape Town t...  \n",
              "2  To protect his family from a powerful drug lor...  \n",
              "3  Feuds, flirtations and toilet talk go down amo...  \n",
              "4  In a city of coaching centers known to train I...  "
            ],
            "text/html": [
              "\n",
              "  <div id=\"df-78364d85-34a8-48d1-967d-f03542ffeabf\">\n",
              "    <div class=\"colab-df-container\">\n",
              "      <div>\n",
              "<style scoped>\n",
              "    .dataframe tbody tr th:only-of-type {\n",
              "        vertical-align: middle;\n",
              "    }\n",
              "\n",
              "    .dataframe tbody tr th {\n",
              "        vertical-align: top;\n",
              "    }\n",
              "\n",
              "    .dataframe thead th {\n",
              "        text-align: right;\n",
              "    }\n",
              "</style>\n",
              "<table border=\"1\" class=\"dataframe\">\n",
              "  <thead>\n",
              "    <tr style=\"text-align: right;\">\n",
              "      <th></th>\n",
              "      <th>show_id</th>\n",
              "      <th>type</th>\n",
              "      <th>title</th>\n",
              "      <th>director</th>\n",
              "      <th>cast</th>\n",
              "      <th>country</th>\n",
              "      <th>date_added</th>\n",
              "      <th>release_year</th>\n",
              "      <th>rating</th>\n",
              "      <th>duration</th>\n",
              "      <th>listed_in</th>\n",
              "      <th>description</th>\n",
              "    </tr>\n",
              "  </thead>\n",
              "  <tbody>\n",
              "    <tr>\n",
              "      <th>0</th>\n",
              "      <td>s1</td>\n",
              "      <td>Movie</td>\n",
              "      <td>Dick Johnson Is Dead</td>\n",
              "      <td>Kirsten Johnson</td>\n",
              "      <td>NaN</td>\n",
              "      <td>United States</td>\n",
              "      <td>September 25, 2021</td>\n",
              "      <td>2020</td>\n",
              "      <td>PG-13</td>\n",
              "      <td>90 min</td>\n",
              "      <td>Documentaries</td>\n",
              "      <td>As her father nears the end of his life, filmm...</td>\n",
              "    </tr>\n",
              "    <tr>\n",
              "      <th>1</th>\n",
              "      <td>s2</td>\n",
              "      <td>TV Show</td>\n",
              "      <td>Blood &amp; Water</td>\n",
              "      <td>NaN</td>\n",
              "      <td>Ama Qamata, Khosi Ngema, Gail Mabalane, Thaban...</td>\n",
              "      <td>South Africa</td>\n",
              "      <td>September 24, 2021</td>\n",
              "      <td>2021</td>\n",
              "      <td>TV-MA</td>\n",
              "      <td>2 Seasons</td>\n",
              "      <td>International TV Shows, TV Dramas, TV Mysteries</td>\n",
              "      <td>After crossing paths at a party, a Cape Town t...</td>\n",
              "    </tr>\n",
              "    <tr>\n",
              "      <th>2</th>\n",
              "      <td>s3</td>\n",
              "      <td>TV Show</td>\n",
              "      <td>Ganglands</td>\n",
              "      <td>Julien Leclercq</td>\n",
              "      <td>Sami Bouajila, Tracy Gotoas, Samuel Jouy, Nabi...</td>\n",
              "      <td>NaN</td>\n",
              "      <td>September 24, 2021</td>\n",
              "      <td>2021</td>\n",
              "      <td>TV-MA</td>\n",
              "      <td>1 Season</td>\n",
              "      <td>Crime TV Shows, International TV Shows, TV Act...</td>\n",
              "      <td>To protect his family from a powerful drug lor...</td>\n",
              "    </tr>\n",
              "    <tr>\n",
              "      <th>3</th>\n",
              "      <td>s4</td>\n",
              "      <td>TV Show</td>\n",
              "      <td>Jailbirds New Orleans</td>\n",
              "      <td>NaN</td>\n",
              "      <td>NaN</td>\n",
              "      <td>NaN</td>\n",
              "      <td>September 24, 2021</td>\n",
              "      <td>2021</td>\n",
              "      <td>TV-MA</td>\n",
              "      <td>1 Season</td>\n",
              "      <td>Docuseries, Reality TV</td>\n",
              "      <td>Feuds, flirtations and toilet talk go down amo...</td>\n",
              "    </tr>\n",
              "    <tr>\n",
              "      <th>4</th>\n",
              "      <td>s5</td>\n",
              "      <td>TV Show</td>\n",
              "      <td>Kota Factory</td>\n",
              "      <td>NaN</td>\n",
              "      <td>Mayur More, Jitendra Kumar, Ranjan Raj, Alam K...</td>\n",
              "      <td>India</td>\n",
              "      <td>September 24, 2021</td>\n",
              "      <td>2021</td>\n",
              "      <td>TV-MA</td>\n",
              "      <td>2 Seasons</td>\n",
              "      <td>International TV Shows, Romantic TV Shows, TV ...</td>\n",
              "      <td>In a city of coaching centers known to train I...</td>\n",
              "    </tr>\n",
              "  </tbody>\n",
              "</table>\n",
              "</div>\n",
              "      <button class=\"colab-df-convert\" onclick=\"convertToInteractive('df-78364d85-34a8-48d1-967d-f03542ffeabf')\"\n",
              "              title=\"Convert this dataframe to an interactive table.\"\n",
              "              style=\"display:none;\">\n",
              "        \n",
              "  <svg xmlns=\"http://www.w3.org/2000/svg\" height=\"24px\"viewBox=\"0 0 24 24\"\n",
              "       width=\"24px\">\n",
              "    <path d=\"M0 0h24v24H0V0z\" fill=\"none\"/>\n",
              "    <path d=\"M18.56 5.44l.94 2.06.94-2.06 2.06-.94-2.06-.94-.94-2.06-.94 2.06-2.06.94zm-11 1L8.5 8.5l.94-2.06 2.06-.94-2.06-.94L8.5 2.5l-.94 2.06-2.06.94zm10 10l.94 2.06.94-2.06 2.06-.94-2.06-.94-.94-2.06-.94 2.06-2.06.94z\"/><path d=\"M17.41 7.96l-1.37-1.37c-.4-.4-.92-.59-1.43-.59-.52 0-1.04.2-1.43.59L10.3 9.45l-7.72 7.72c-.78.78-.78 2.05 0 2.83L4 21.41c.39.39.9.59 1.41.59.51 0 1.02-.2 1.41-.59l7.78-7.78 2.81-2.81c.8-.78.8-2.07 0-2.86zM5.41 20L4 18.59l7.72-7.72 1.47 1.35L5.41 20z\"/>\n",
              "  </svg>\n",
              "      </button>\n",
              "      \n",
              "  <style>\n",
              "    .colab-df-container {\n",
              "      display:flex;\n",
              "      flex-wrap:wrap;\n",
              "      gap: 12px;\n",
              "    }\n",
              "\n",
              "    .colab-df-convert {\n",
              "      background-color: #E8F0FE;\n",
              "      border: none;\n",
              "      border-radius: 50%;\n",
              "      cursor: pointer;\n",
              "      display: none;\n",
              "      fill: #1967D2;\n",
              "      height: 32px;\n",
              "      padding: 0 0 0 0;\n",
              "      width: 32px;\n",
              "    }\n",
              "\n",
              "    .colab-df-convert:hover {\n",
              "      background-color: #E2EBFA;\n",
              "      box-shadow: 0px 1px 2px rgba(60, 64, 67, 0.3), 0px 1px 3px 1px rgba(60, 64, 67, 0.15);\n",
              "      fill: #174EA6;\n",
              "    }\n",
              "\n",
              "    [theme=dark] .colab-df-convert {\n",
              "      background-color: #3B4455;\n",
              "      fill: #D2E3FC;\n",
              "    }\n",
              "\n",
              "    [theme=dark] .colab-df-convert:hover {\n",
              "      background-color: #434B5C;\n",
              "      box-shadow: 0px 1px 3px 1px rgba(0, 0, 0, 0.15);\n",
              "      filter: drop-shadow(0px 1px 2px rgba(0, 0, 0, 0.3));\n",
              "      fill: #FFFFFF;\n",
              "    }\n",
              "  </style>\n",
              "\n",
              "      <script>\n",
              "        const buttonEl =\n",
              "          document.querySelector('#df-78364d85-34a8-48d1-967d-f03542ffeabf button.colab-df-convert');\n",
              "        buttonEl.style.display =\n",
              "          google.colab.kernel.accessAllowed ? 'block' : 'none';\n",
              "\n",
              "        async function convertToInteractive(key) {\n",
              "          const element = document.querySelector('#df-78364d85-34a8-48d1-967d-f03542ffeabf');\n",
              "          const dataTable =\n",
              "            await google.colab.kernel.invokeFunction('convertToInteractive',\n",
              "                                                     [key], {});\n",
              "          if (!dataTable) return;\n",
              "\n",
              "          const docLinkHtml = 'Like what you see? Visit the ' +\n",
              "            '<a target=\"_blank\" href=https://colab.research.google.com/notebooks/data_table.ipynb>data table notebook</a>'\n",
              "            + ' to learn more about interactive tables.';\n",
              "          element.innerHTML = '';\n",
              "          dataTable['output_type'] = 'display_data';\n",
              "          await google.colab.output.renderOutput(dataTable, element);\n",
              "          const docLink = document.createElement('div');\n",
              "          docLink.innerHTML = docLinkHtml;\n",
              "          element.appendChild(docLink);\n",
              "        }\n",
              "      </script>\n",
              "    </div>\n",
              "  </div>\n",
              "  "
            ]
          },
          "metadata": {},
          "execution_count": 3
        }
      ]
    },
    {
      "source": [
        "df.shape"
      ],
      "metadata": {
        "id": "11b691c6-52f8-46b2-bc41-7960a9a3b9b5",
        "outputId": "9dc5201e-259e-4eff-a7ed-d620cffbcf0c",
        "colab": {
          "base_uri": "https://localhost:8080/"
        }
      },
      "cell_type": "code",
      "id": "11b691c6-52f8-46b2-bc41-7960a9a3b9b5",
      "execution_count": 4,
      "outputs": [
        {
          "output_type": "execute_result",
          "data": {
            "text/plain": [
              "(8807, 12)"
            ]
          },
          "metadata": {},
          "execution_count": 4
        }
      ]
    },
    {
      "source": [
        "df.info()"
      ],
      "metadata": {
        "id": "2e951712-511d-47e6-9247-505f2891cd07",
        "outputId": "c894a3a4-020a-4719-d890-5d3bd4bd5310",
        "colab": {
          "base_uri": "https://localhost:8080/"
        }
      },
      "id": "2e951712-511d-47e6-9247-505f2891cd07",
      "cell_type": "code",
      "execution_count": 5,
      "outputs": [
        {
          "output_type": "stream",
          "name": "stdout",
          "text": [
            "<class 'pandas.core.frame.DataFrame'>\n",
            "RangeIndex: 8807 entries, 0 to 8806\n",
            "Data columns (total 12 columns):\n",
            " #   Column        Non-Null Count  Dtype \n",
            "---  ------        --------------  ----- \n",
            " 0   show_id       8807 non-null   object\n",
            " 1   type          8807 non-null   object\n",
            " 2   title         8807 non-null   object\n",
            " 3   director      6173 non-null   object\n",
            " 4   cast          7982 non-null   object\n",
            " 5   country       7976 non-null   object\n",
            " 6   date_added    8797 non-null   object\n",
            " 7   release_year  8807 non-null   int64 \n",
            " 8   rating        8803 non-null   object\n",
            " 9   duration      8804 non-null   object\n",
            " 10  listed_in     8807 non-null   object\n",
            " 11  description   8807 non-null   object\n",
            "dtypes: int64(1), object(11)\n",
            "memory usage: 825.8+ KB\n"
          ]
        }
      ]
    },
    {
      "source": [
        "df.describe()"
      ],
      "metadata": {
        "id": "a5967cf0-3703-44fe-9d46-4d60a0f9c369",
        "outputId": "3a609e30-1f14-4cec-de9a-6e5af5269223",
        "colab": {
          "base_uri": "https://localhost:8080/",
          "height": 0
        }
      },
      "cell_type": "code",
      "id": "a5967cf0-3703-44fe-9d46-4d60a0f9c369",
      "execution_count": 6,
      "outputs": [
        {
          "output_type": "execute_result",
          "data": {
            "text/plain": [
              "       release_year\n",
              "count   8807.000000\n",
              "mean    2014.180198\n",
              "std        8.819312\n",
              "min     1925.000000\n",
              "25%     2013.000000\n",
              "50%     2017.000000\n",
              "75%     2019.000000\n",
              "max     2021.000000"
            ],
            "text/html": [
              "\n",
              "  <div id=\"df-1a3e1ea7-c65a-4a8f-bf1a-abc43d0c6fe8\">\n",
              "    <div class=\"colab-df-container\">\n",
              "      <div>\n",
              "<style scoped>\n",
              "    .dataframe tbody tr th:only-of-type {\n",
              "        vertical-align: middle;\n",
              "    }\n",
              "\n",
              "    .dataframe tbody tr th {\n",
              "        vertical-align: top;\n",
              "    }\n",
              "\n",
              "    .dataframe thead th {\n",
              "        text-align: right;\n",
              "    }\n",
              "</style>\n",
              "<table border=\"1\" class=\"dataframe\">\n",
              "  <thead>\n",
              "    <tr style=\"text-align: right;\">\n",
              "      <th></th>\n",
              "      <th>release_year</th>\n",
              "    </tr>\n",
              "  </thead>\n",
              "  <tbody>\n",
              "    <tr>\n",
              "      <th>count</th>\n",
              "      <td>8807.000000</td>\n",
              "    </tr>\n",
              "    <tr>\n",
              "      <th>mean</th>\n",
              "      <td>2014.180198</td>\n",
              "    </tr>\n",
              "    <tr>\n",
              "      <th>std</th>\n",
              "      <td>8.819312</td>\n",
              "    </tr>\n",
              "    <tr>\n",
              "      <th>min</th>\n",
              "      <td>1925.000000</td>\n",
              "    </tr>\n",
              "    <tr>\n",
              "      <th>25%</th>\n",
              "      <td>2013.000000</td>\n",
              "    </tr>\n",
              "    <tr>\n",
              "      <th>50%</th>\n",
              "      <td>2017.000000</td>\n",
              "    </tr>\n",
              "    <tr>\n",
              "      <th>75%</th>\n",
              "      <td>2019.000000</td>\n",
              "    </tr>\n",
              "    <tr>\n",
              "      <th>max</th>\n",
              "      <td>2021.000000</td>\n",
              "    </tr>\n",
              "  </tbody>\n",
              "</table>\n",
              "</div>\n",
              "      <button class=\"colab-df-convert\" onclick=\"convertToInteractive('df-1a3e1ea7-c65a-4a8f-bf1a-abc43d0c6fe8')\"\n",
              "              title=\"Convert this dataframe to an interactive table.\"\n",
              "              style=\"display:none;\">\n",
              "        \n",
              "  <svg xmlns=\"http://www.w3.org/2000/svg\" height=\"24px\"viewBox=\"0 0 24 24\"\n",
              "       width=\"24px\">\n",
              "    <path d=\"M0 0h24v24H0V0z\" fill=\"none\"/>\n",
              "    <path d=\"M18.56 5.44l.94 2.06.94-2.06 2.06-.94-2.06-.94-.94-2.06-.94 2.06-2.06.94zm-11 1L8.5 8.5l.94-2.06 2.06-.94-2.06-.94L8.5 2.5l-.94 2.06-2.06.94zm10 10l.94 2.06.94-2.06 2.06-.94-2.06-.94-.94-2.06-.94 2.06-2.06.94z\"/><path d=\"M17.41 7.96l-1.37-1.37c-.4-.4-.92-.59-1.43-.59-.52 0-1.04.2-1.43.59L10.3 9.45l-7.72 7.72c-.78.78-.78 2.05 0 2.83L4 21.41c.39.39.9.59 1.41.59.51 0 1.02-.2 1.41-.59l7.78-7.78 2.81-2.81c.8-.78.8-2.07 0-2.86zM5.41 20L4 18.59l7.72-7.72 1.47 1.35L5.41 20z\"/>\n",
              "  </svg>\n",
              "      </button>\n",
              "      \n",
              "  <style>\n",
              "    .colab-df-container {\n",
              "      display:flex;\n",
              "      flex-wrap:wrap;\n",
              "      gap: 12px;\n",
              "    }\n",
              "\n",
              "    .colab-df-convert {\n",
              "      background-color: #E8F0FE;\n",
              "      border: none;\n",
              "      border-radius: 50%;\n",
              "      cursor: pointer;\n",
              "      display: none;\n",
              "      fill: #1967D2;\n",
              "      height: 32px;\n",
              "      padding: 0 0 0 0;\n",
              "      width: 32px;\n",
              "    }\n",
              "\n",
              "    .colab-df-convert:hover {\n",
              "      background-color: #E2EBFA;\n",
              "      box-shadow: 0px 1px 2px rgba(60, 64, 67, 0.3), 0px 1px 3px 1px rgba(60, 64, 67, 0.15);\n",
              "      fill: #174EA6;\n",
              "    }\n",
              "\n",
              "    [theme=dark] .colab-df-convert {\n",
              "      background-color: #3B4455;\n",
              "      fill: #D2E3FC;\n",
              "    }\n",
              "\n",
              "    [theme=dark] .colab-df-convert:hover {\n",
              "      background-color: #434B5C;\n",
              "      box-shadow: 0px 1px 3px 1px rgba(0, 0, 0, 0.15);\n",
              "      filter: drop-shadow(0px 1px 2px rgba(0, 0, 0, 0.3));\n",
              "      fill: #FFFFFF;\n",
              "    }\n",
              "  </style>\n",
              "\n",
              "      <script>\n",
              "        const buttonEl =\n",
              "          document.querySelector('#df-1a3e1ea7-c65a-4a8f-bf1a-abc43d0c6fe8 button.colab-df-convert');\n",
              "        buttonEl.style.display =\n",
              "          google.colab.kernel.accessAllowed ? 'block' : 'none';\n",
              "\n",
              "        async function convertToInteractive(key) {\n",
              "          const element = document.querySelector('#df-1a3e1ea7-c65a-4a8f-bf1a-abc43d0c6fe8');\n",
              "          const dataTable =\n",
              "            await google.colab.kernel.invokeFunction('convertToInteractive',\n",
              "                                                     [key], {});\n",
              "          if (!dataTable) return;\n",
              "\n",
              "          const docLinkHtml = 'Like what you see? Visit the ' +\n",
              "            '<a target=\"_blank\" href=https://colab.research.google.com/notebooks/data_table.ipynb>data table notebook</a>'\n",
              "            + ' to learn more about interactive tables.';\n",
              "          element.innerHTML = '';\n",
              "          dataTable['output_type'] = 'display_data';\n",
              "          await google.colab.output.renderOutput(dataTable, element);\n",
              "          const docLink = document.createElement('div');\n",
              "          docLink.innerHTML = docLinkHtml;\n",
              "          element.appendChild(docLink);\n",
              "        }\n",
              "      </script>\n",
              "    </div>\n",
              "  </div>\n",
              "  "
            ]
          },
          "metadata": {},
          "execution_count": 6
        }
      ]
    },
    {
      "cell_type": "markdown",
      "source": [
        "#Data Preprocessing"
      ],
      "metadata": {
        "id": "NkQXGxvutO6N"
      },
      "id": "NkQXGxvutO6N"
    },
    {
      "source": [
        "## Data Cleaning"
      ],
      "metadata": {
        "id": "66a3a5fd-5088-4816-b853-727a7cbd3bcf"
      },
      "cell_type": "markdown",
      "id": "66a3a5fd-5088-4816-b853-727a7cbd3bcf"
    },
    {
      "source": [
        "# Number of missing values\n",
        "num_null = df.isnull().sum()\n",
        "\n",
        "# percentage null values\n",
        "pct_null = round((num_null/df.shape[0] * 100), 2)\n",
        "\n",
        "# Create dataframe for number of null value and percentage of null values\n",
        "df_null = pd.DataFrame({\n",
        "    'Null Values':num_null,\n",
        "    'Percentage':pct_null}).reset_index()\n",
        "\n",
        "# Rename column index to Feature \n",
        "df_null.rename(columns={'index':'Features'}, inplace=True)\n",
        "\n",
        "# Filter only features with null values and sort as descending\n",
        "df_null = df_null[df_null['Null Values'] > 0].sort_values('Null Values', ascending=False).reset_index(drop=True)\n",
        "df_null"
      ],
      "metadata": {
        "id": "bf0f28d1-6499-4cf5-9dc8-5afe7c255aaa",
        "outputId": "b4906f29-a422-445f-e827-a29c607dc3bc",
        "colab": {
          "base_uri": "https://localhost:8080/",
          "height": 0
        }
      },
      "id": "bf0f28d1-6499-4cf5-9dc8-5afe7c255aaa",
      "cell_type": "code",
      "execution_count": 7,
      "outputs": [
        {
          "output_type": "execute_result",
          "data": {
            "text/plain": [
              "     Features  Null Values  Percentage\n",
              "0    director         2634       29.91\n",
              "1     country          831        9.44\n",
              "2        cast          825        9.37\n",
              "3  date_added           10        0.11\n",
              "4      rating            4        0.05\n",
              "5    duration            3        0.03"
            ],
            "text/html": [
              "\n",
              "  <div id=\"df-721e7215-8d28-4cbc-be79-1091cde21bc9\">\n",
              "    <div class=\"colab-df-container\">\n",
              "      <div>\n",
              "<style scoped>\n",
              "    .dataframe tbody tr th:only-of-type {\n",
              "        vertical-align: middle;\n",
              "    }\n",
              "\n",
              "    .dataframe tbody tr th {\n",
              "        vertical-align: top;\n",
              "    }\n",
              "\n",
              "    .dataframe thead th {\n",
              "        text-align: right;\n",
              "    }\n",
              "</style>\n",
              "<table border=\"1\" class=\"dataframe\">\n",
              "  <thead>\n",
              "    <tr style=\"text-align: right;\">\n",
              "      <th></th>\n",
              "      <th>Features</th>\n",
              "      <th>Null Values</th>\n",
              "      <th>Percentage</th>\n",
              "    </tr>\n",
              "  </thead>\n",
              "  <tbody>\n",
              "    <tr>\n",
              "      <th>0</th>\n",
              "      <td>director</td>\n",
              "      <td>2634</td>\n",
              "      <td>29.91</td>\n",
              "    </tr>\n",
              "    <tr>\n",
              "      <th>1</th>\n",
              "      <td>country</td>\n",
              "      <td>831</td>\n",
              "      <td>9.44</td>\n",
              "    </tr>\n",
              "    <tr>\n",
              "      <th>2</th>\n",
              "      <td>cast</td>\n",
              "      <td>825</td>\n",
              "      <td>9.37</td>\n",
              "    </tr>\n",
              "    <tr>\n",
              "      <th>3</th>\n",
              "      <td>date_added</td>\n",
              "      <td>10</td>\n",
              "      <td>0.11</td>\n",
              "    </tr>\n",
              "    <tr>\n",
              "      <th>4</th>\n",
              "      <td>rating</td>\n",
              "      <td>4</td>\n",
              "      <td>0.05</td>\n",
              "    </tr>\n",
              "    <tr>\n",
              "      <th>5</th>\n",
              "      <td>duration</td>\n",
              "      <td>3</td>\n",
              "      <td>0.03</td>\n",
              "    </tr>\n",
              "  </tbody>\n",
              "</table>\n",
              "</div>\n",
              "      <button class=\"colab-df-convert\" onclick=\"convertToInteractive('df-721e7215-8d28-4cbc-be79-1091cde21bc9')\"\n",
              "              title=\"Convert this dataframe to an interactive table.\"\n",
              "              style=\"display:none;\">\n",
              "        \n",
              "  <svg xmlns=\"http://www.w3.org/2000/svg\" height=\"24px\"viewBox=\"0 0 24 24\"\n",
              "       width=\"24px\">\n",
              "    <path d=\"M0 0h24v24H0V0z\" fill=\"none\"/>\n",
              "    <path d=\"M18.56 5.44l.94 2.06.94-2.06 2.06-.94-2.06-.94-.94-2.06-.94 2.06-2.06.94zm-11 1L8.5 8.5l.94-2.06 2.06-.94-2.06-.94L8.5 2.5l-.94 2.06-2.06.94zm10 10l.94 2.06.94-2.06 2.06-.94-2.06-.94-.94-2.06-.94 2.06-2.06.94z\"/><path d=\"M17.41 7.96l-1.37-1.37c-.4-.4-.92-.59-1.43-.59-.52 0-1.04.2-1.43.59L10.3 9.45l-7.72 7.72c-.78.78-.78 2.05 0 2.83L4 21.41c.39.39.9.59 1.41.59.51 0 1.02-.2 1.41-.59l7.78-7.78 2.81-2.81c.8-.78.8-2.07 0-2.86zM5.41 20L4 18.59l7.72-7.72 1.47 1.35L5.41 20z\"/>\n",
              "  </svg>\n",
              "      </button>\n",
              "      \n",
              "  <style>\n",
              "    .colab-df-container {\n",
              "      display:flex;\n",
              "      flex-wrap:wrap;\n",
              "      gap: 12px;\n",
              "    }\n",
              "\n",
              "    .colab-df-convert {\n",
              "      background-color: #E8F0FE;\n",
              "      border: none;\n",
              "      border-radius: 50%;\n",
              "      cursor: pointer;\n",
              "      display: none;\n",
              "      fill: #1967D2;\n",
              "      height: 32px;\n",
              "      padding: 0 0 0 0;\n",
              "      width: 32px;\n",
              "    }\n",
              "\n",
              "    .colab-df-convert:hover {\n",
              "      background-color: #E2EBFA;\n",
              "      box-shadow: 0px 1px 2px rgba(60, 64, 67, 0.3), 0px 1px 3px 1px rgba(60, 64, 67, 0.15);\n",
              "      fill: #174EA6;\n",
              "    }\n",
              "\n",
              "    [theme=dark] .colab-df-convert {\n",
              "      background-color: #3B4455;\n",
              "      fill: #D2E3FC;\n",
              "    }\n",
              "\n",
              "    [theme=dark] .colab-df-convert:hover {\n",
              "      background-color: #434B5C;\n",
              "      box-shadow: 0px 1px 3px 1px rgba(0, 0, 0, 0.15);\n",
              "      filter: drop-shadow(0px 1px 2px rgba(0, 0, 0, 0.3));\n",
              "      fill: #FFFFFF;\n",
              "    }\n",
              "  </style>\n",
              "\n",
              "      <script>\n",
              "        const buttonEl =\n",
              "          document.querySelector('#df-721e7215-8d28-4cbc-be79-1091cde21bc9 button.colab-df-convert');\n",
              "        buttonEl.style.display =\n",
              "          google.colab.kernel.accessAllowed ? 'block' : 'none';\n",
              "\n",
              "        async function convertToInteractive(key) {\n",
              "          const element = document.querySelector('#df-721e7215-8d28-4cbc-be79-1091cde21bc9');\n",
              "          const dataTable =\n",
              "            await google.colab.kernel.invokeFunction('convertToInteractive',\n",
              "                                                     [key], {});\n",
              "          if (!dataTable) return;\n",
              "\n",
              "          const docLinkHtml = 'Like what you see? Visit the ' +\n",
              "            '<a target=\"_blank\" href=https://colab.research.google.com/notebooks/data_table.ipynb>data table notebook</a>'\n",
              "            + ' to learn more about interactive tables.';\n",
              "          element.innerHTML = '';\n",
              "          dataTable['output_type'] = 'display_data';\n",
              "          await google.colab.output.renderOutput(dataTable, element);\n",
              "          const docLink = document.createElement('div');\n",
              "          docLink.innerHTML = docLinkHtml;\n",
              "          element.appendChild(docLink);\n",
              "        }\n",
              "      </script>\n",
              "    </div>\n",
              "  </div>\n",
              "  "
            ]
          },
          "metadata": {},
          "execution_count": 7
        }
      ]
    },
    {
      "source": [
        "# Plotting number of missing data\n",
        "fig, ax = plt.subplots(figsize=(15,6))\n",
        "\n",
        "g = sns.barplot(x = 'Features',y='Percentage',data=df_null,ax=ax, \n",
        "               palette=sns.color_palette(\"Blues_d\", n_colors=13, desat=1))\n",
        "\n",
        "# percentage of missing values\n",
        "x = np.arange(len(df_null['Features']))\n",
        "y = df_null['Percentage']\n",
        "\n",
        "for i, v in enumerate(y):\n",
        "    ax.text(x[i]-0.2, v+0.2, str(v)+'%', fontsize = 12, color='black', fontweight='bold')\n",
        "    \n",
        "text = 'There are '+str(len(df_null.Features)) +' ('+str(df_null.Percentage.sum())+'%) features that have missing value.'\n",
        "\n",
        "ax.text(0,40,text,horizontalalignment='left',color='black',fontsize=15, fontweight='normal')\n",
        "ax.set_title('Missing values distribution', color='black', fontsize=20, fontweight='bold')\n",
        "ax.set_xticklabels(ax.get_xticklabels(),rotation=90)\n",
        "ax.set_ylim(0,50)\n",
        "plt.show()"
      ],
      "metadata": {
        "id": "5f2ad545-62cc-4617-a65d-0ca743e0a797",
        "outputId": "db3cc216-033c-4227-8702-3eb43d5c6a16",
        "colab": {
          "base_uri": "https://localhost:8080/",
          "height": 0
        }
      },
      "cell_type": "code",
      "id": "5f2ad545-62cc-4617-a65d-0ca743e0a797",
      "execution_count": 8,
      "outputs": [
        {
          "output_type": "display_data",
          "data": {
            "text/plain": [
              "<Figure size 1080x432 with 1 Axes>"
            ],
            "image/png": "[encoded data removed]"
          },
          "metadata": {
            "needs_background": "light"
          }
        }
      ]
    },
    {
      "cell_type": "markdown",
      "source": [
        "### Handling Missing Value dan duplikat data\n",
        "1. Country - mengganti negara kosong dengan negara paling banyak\n",
        "2. Cast - mengganti nan value dengan 'Data tidak tersedia'\n",
        "3. Director - mengganti nan value dengan 'Data tidak tersedia'\n",
        "4. kolom lainnya akan dihapus karena hanya sedikit datanya"
      ],
      "metadata": {
        "id": "d_7mdEJOqwnv"
      },
      "id": "d_7mdEJOqwnv"
    },
    {
      "cell_type": "code",
      "source": [
        "df['country'] = df['country'].fillna(df['country'].mode()[0])\n",
        "\n",
        "df['cast'].replace(np.nan, 'No Data',inplace  = True)\n",
        "df['director'].replace(np.nan, 'No Data',inplace  = True)\n",
        "df.dropna(inplace=True)\n",
        "df.drop_duplicates(inplace=True)\n",
        "df.isnull().sum()"
      ],
      "metadata": {
        "id": "QeQpjOYIQc1m",
        "outputId": "17c00b42-8c06-4d4c-f3dc-7ac92ea082a1",
        "colab": {
          "base_uri": "https://localhost:8080/"
        }
      },
      "id": "QeQpjOYIQc1m",
      "execution_count": 9,
      "outputs": [
        {
          "output_type": "execute_result",
          "data": {
            "text/plain": [
              "show_id         0\n",
              "type            0\n",
              "title           0\n",
              "director        0\n",
              "cast            0\n",
              "country         0\n",
              "date_added      0\n",
              "release_year    0\n",
              "rating          0\n",
              "duration        0\n",
              "listed_in       0\n",
              "description     0\n",
              "dtype: int64"
            ]
          },
          "metadata": {},
          "execution_count": 9
        }
      ]
    },
    {
      "cell_type": "markdown",
      "source": [
        "## Update Value Data\n",
        "1. Rating - mengganti beberapa isi kolom sesuai dengan data netflix"
      ],
      "metadata": {
        "id": "NafrjyoptUiw"
      },
      "id": "NafrjyoptUiw"
    },
    {
      "source": [
        "df.rating.unique()"
      ],
      "metadata": {
        "id": "66c0fec0-ad0d-438e-a09f-9ff83c82269e",
        "outputId": "60eb31be-1f9e-4bbd-9a3e-4b99b4e6d6a0",
        "colab": {
          "base_uri": "https://localhost:8080/"
        }
      },
      "id": "66c0fec0-ad0d-438e-a09f-9ff83c82269e",
      "cell_type": "code",
      "execution_count": 10,
      "outputs": [
        {
          "output_type": "execute_result",
          "data": {
            "text/plain": [
              "array(['PG-13', 'TV-MA', 'PG', 'TV-14', 'TV-PG', 'TV-Y', 'TV-Y7', 'R',\n",
              "       'TV-G', 'G', 'NC-17', 'NR', 'TV-Y7-FV', 'UR'], dtype=object)"
            ]
          },
          "metadata": {},
          "execution_count": 10
        }
      ]
    },
    {
      "cell_type": "code",
      "source": [
        "df.rating = df.rating.replace({\n",
        "                'PG-13': 'Teens - Age above 12',\n",
        "                'TV-MA': 'Adults',\n",
        "                'PG': 'Kids - with Parental guidence',\n",
        "                'TV-14': 'Teens - Age above 14',\n",
        "                'TV-PG': 'Kids - with Parental guidence',\n",
        "                'TV-Y': 'Kids',\n",
        "                'TV-Y7': 'Kids - Age above 7',\n",
        "                'R': 'Adults',\n",
        "                'TV-G': 'Kids',\n",
        "                 'G': 'Kids',\n",
        "                'NC-17': 'Adults',\n",
        "                'NR': 'NR',\n",
        "                'UR' : 'UR'\n",
        "})"
      ],
      "metadata": {
        "id": "Qggsb73uuHpc"
      },
      "id": "Qggsb73uuHpc",
      "execution_count": 11,
      "outputs": []
    },
    {
      "cell_type": "code",
      "source": [
        "df.rating.unique()"
      ],
      "metadata": {
        "colab": {
          "base_uri": "https://localhost:8080/"
        },
        "id": "_2KW9sWgvZ7i",
        "outputId": "490cc4bb-f87d-4a01-c300-f9d8f51a7d39"
      },
      "id": "_2KW9sWgvZ7i",
      "execution_count": 12,
      "outputs": [
        {
          "output_type": "execute_result",
          "data": {
            "text/plain": [
              "array(['Teens - Age above 12', 'Adults', 'Kids - with Parental guidence',\n",
              "       'Teens - Age above 14', 'Kids', 'Kids - Age above 7', 'NR',\n",
              "       'TV-Y7-FV', 'UR'], dtype=object)"
            ]
          },
          "metadata": {},
          "execution_count": 12
        }
      ]
    },
    {
      "cell_type": "code",
      "source": [],
      "metadata": {
        "id": "CFAsr0XHwoPW"
      },
      "id": "CFAsr0XHwoPW",
      "execution_count": 12,
      "outputs": []
    },
    {
      "cell_type": "markdown",
      "source": [
        "# EDA"
      ],
      "metadata": {
        "id": "GA3ECwbdx13k"
      },
      "id": "GA3ECwbdx13k"
    },
    {
      "cell_type": "markdown",
      "source": [
        "##Berapa persen dari setiap tipe Konten Netflix?"
      ],
      "metadata": {
        "id": "ELpeHsU2TGZf"
      },
      "id": "ELpeHsU2TGZf"
    },
    {
      "cell_type": "code",
      "source": [
        "fig = go.Figure()\n",
        "fig = fig.update_layout(title_font_color=\"red\",\n",
        "        template = {'data' : {'indicator': [{\n",
        "        'title': {'text': \"Total content on Netflix\"},}]\n",
        "        }})\n",
        "\n",
        "fig = fig.update_layout(\n",
        "    #autosize=False,\n",
        "    #width=500,\n",
        "    height=100,\n",
        "    margin=dict(l=50,r=50,b=0,t=1),title_font_color=\"red\")\n",
        "\n",
        "fig.show()\n",
        "\n",
        "\n",
        "df_type = df.groupby('type')['show_id'].count().reset_index()\n",
        "df_type = df_type.rename(columns = {\"show_id\":\"count_showids\"})\n",
        "fig = make_subplots(rows=1, cols=2, specs=[[{'type':'bar'}, {'type':'pie'}]])\n",
        "fig.add_trace(\n",
        "    \n",
        "    go.Bar(x= df_type['count_showids'], y= df_type['type'], orientation = 'h', marker=dict(color=[\"Maroon\", \"black\"]), showlegend=False, \n",
        "           text = df_type['count_showids'], textposition='auto'),\n",
        "    row=1, col=1)\n",
        "\n",
        "fig.add_trace(\n",
        "    \n",
        "    go.Pie(labels=df_type['type'], values=df_type['count_showids'], marker_colors= [\"Maroon\", \"Black\"],textinfo='label+percent',pull=[0,0.1]),\n",
        "    row=1, col=2)\n",
        "\n",
        "fig.update_layout(\n",
        "    title_text=\"What type of content is more uploaded more on Netflix?\", title_font_color=\"red\")\n",
        "fig.show(renderer='colab')"
      ],
      "metadata": {
        "colab": {
          "base_uri": "https://localhost:8080/",
          "height": 642
        },
        "id": "TWJnsxRrx5jl",
        "outputId": "be8b50be-8b97-4620-d235-5425e59ae4da"
      },
      "id": "TWJnsxRrx5jl",
      "execution_count": 13,
      "outputs": [
        {
          "output_type": "display_data",
          "data": {
            "text/html": [
              "<html>\n",
              "<head><meta charset=\"utf-8\" /></head>\n",
              "<body>\n",
              "    <div>            <script src=\"https://cdnjs.cloudflare.com/ajax/libs/mathjax/2.7.5/MathJax.js?config=TeX-AMS-MML_SVG\"></script><script type=\"text/javascript\">if (window.MathJax) {MathJax.Hub.Config({SVG: {font: \"STIX-Web\"}});}</script>                <script type=\"text/javascript\">window.PlotlyConfig = {MathJaxConfig: 'local'};</script>\n",
              "        <script src=\"https://cdn.plot.ly/plotly-2.8.3.min.js\"></script>                <div id=\"c26d9945-d02a-424a-9541-9f823c1b97c4\" class=\"plotly-graph-div\" style=\"height:100px; width:100%;\"></div>            <script type=\"text/javascript\">                                    window.PLOTLYENV=window.PLOTLYENV || {};                                    if (document.getElementById(\"c26d9945-d02a-424a-9541-9f823c1b97c4\")) {                    Plotly.newPlot(                        \"c26d9945-d02a-424a-9541-9f823c1b97c4\",                        [],                        {\"template\":{\"data\":{\"bar\":[{\"error_x\":{\"color\":\"#2a3f5f\"},\"error_y\":{\"color\":\"#2a3f5f\"},\"marker\":{\"line\":{\"color\":\"#E5ECF6\",\"width\":0.5},\"pattern\":{\"fillmode\":\"overlay\",\"size\":10,\"solidity\":0.2}},\"type\":\"bar\"}],\"barpolar\":[{\"marker\":{\"line\":{\"color\":\"#E5ECF6\",\"width\":0.5},\"pattern\":{\"fillmode\":\"overlay\",\"size\":10,\"solidity\":0.2}},\"type\":\"barpolar\"}],\"carpet\":[{\"aaxis\":{\"endlinecolor\":\"#2a3f5f\",\"gridcolor\":\"white\",\"linecolor\":\"white\",\"minorgridcolor\":\"white\",\"startlinecolor\":\"#2a3f5f\"},\"baxis\":{\"endlinecolor\":\"#2a3f5f\",\"gridcolor\":\"white\",\"linecolor\":\"white\",\"minorgridcolor\":\"white\",\"startlinecolor\":\"#2a3f5f\"},\"type\":\"carpet\"}],\"choropleth\":[{\"colorbar\":{\"outlinewidth\":0,\"ticks\":\"\"},\"type\":\"choropleth\"}],\"contour\":[{\"colorbar\":{\"outlinewidth\":0,\"ticks\":\"\"},\"colorscale\":[[0.0,\"#0d0887\"],[0.1111111111111111,\"#46039f\"],[0.2222222222222222,\"#7201a8\"],[0.3333333333333333,\"#9c179e\"],[0.4444444444444444,\"#bd3786\"],[0.5555555555555556,\"#d8576b\"],[0.6666666666666666,\"#ed7953\"],[0.7777777777777778,\"#fb9f3a\"],[0.8888888888888888,\"#fdca26\"],[1.0,\"#f0f921\"]],\"type\":\"contour\"}],\"contourcarpet\":[{\"colorbar\":{\"outlinewidth\":0,\"ticks\":\"\"},\"type\":\"contourcarpet\"}],\"heatmap\":[{\"colorbar\":{\"outlinewidth\":0,\"ticks\":\"\"},\"colorscale\":[[0.0,\"#0d0887\"],[0.1111111111111111,\"#46039f\"],[0.2222222222222222,\"#7201a8\"],[0.3333333333333333,\"#9c179e\"],[0.4444444444444444,\"#bd3786\"],[0.5555555555555556,\"#d8576b\"],[0.6666666666666666,\"#ed7953\"],[0.7777777777777778,\"#fb9f3a\"],[0.8888888888888888,\"#fdca26\"],[1.0,\"#f0f921\"]],\"type\":\"heatmap\"}],\"heatmapgl\":[{\"colorbar\":{\"outlinewidth\":0,\"ticks\":\"\"},\"colorscale\":[[0.0,\"#0d0887\"],[0.1111111111111111,\"#46039f\"],[0.2222222222222222,\"#7201a8\"],[0.3333333333333333,\"#9c179e\"],[0.4444444444444444,\"#bd3786\"],[0.5555555555555556,\"#d8576b\"],[0.6666666666666666,\"#ed7953\"],[0.7777777777777778,\"#fb9f3a\"],[0.8888888888888888,\"#fdca26\"],[1.0,\"#f0f921\"]],\"type\":\"heatmapgl\"}],\"histogram\":[{\"marker\":{\"pattern\":{\"fillmode\":\"overlay\",\"size\":10,\"solidity\":0.2}},\"type\":\"histogram\"}],\"histogram2d\":[{\"colorbar\":{\"outlinewidth\":0,\"ticks\":\"\"},\"colorscale\":[[0.0,\"#0d0887\"],[0.1111111111111111,\"#46039f\"],[0.2222222222222222,\"#7201a8\"],[0.3333333333333333,\"#9c179e\"],[0.4444444444444444,\"#bd3786\"],[0.5555555555555556,\"#d8576b\"],[0.6666666666666666,\"#ed7953\"],[0.7777777777777778,\"#fb9f3a\"],[0.8888888888888888,\"#fdca26\"],[1.0,\"#f0f921\"]],\"type\":\"histogram2d\"}],\"histogram2dcontour\":[{\"colorbar\":{\"outlinewidth\":0,\"ticks\":\"\"},\"colorscale\":[[0.0,\"#0d0887\"],[0.1111111111111111,\"#46039f\"],[0.2222222222222222,\"#7201a8\"],[0.3333333333333333,\"#9c179e\"],[0.4444444444444444,\"#bd3786\"],[0.5555555555555556,\"#d8576b\"],[0.6666666666666666,\"#ed7953\"],[0.7777777777777778,\"#fb9f3a\"],[0.8888888888888888,\"#fdca26\"],[1.0,\"#f0f921\"]],\"type\":\"histogram2dcontour\"}],\"mesh3d\":[{\"colorbar\":{\"outlinewidth\":0,\"ticks\":\"\"},\"type\":\"mesh3d\"}],\"parcoords\":[{\"line\":{\"colorbar\":{\"outlinewidth\":0,\"ticks\":\"\"}},\"type\":\"parcoords\"}],\"pie\":[{\"automargin\":true,\"type\":\"pie\"}],\"scatter\":[{\"marker\":{\"colorbar\":{\"outlinewidth\":0,\"ticks\":\"\"}},\"type\":\"scatter\"}],\"scatter3d\":[{\"line\":{\"colorbar\":{\"outlinewidth\":0,\"ticks\":\"\"}},\"marker\":{\"colorbar\":{\"outlinewidth\":0,\"ticks\":\"\"}},\"type\":\"scatter3d\"}],\"scattercarpet\":[{\"marker\":{\"colorbar\":{\"outlinewidth\":0,\"ticks\":\"\"}},\"type\":\"scattercarpet\"}],\"scattergeo\":[{\"marker\":{\"colorbar\":{\"outlinewidth\":0,\"ticks\":\"\"}},\"type\":\"scattergeo\"}],\"scattergl\":[{\"marker\":{\"colorbar\":{\"outlinewidth\":0,\"ticks\":\"\"}},\"type\":\"scattergl\"}],\"scattermapbox\":[{\"marker\":{\"colorbar\":{\"outlinewidth\":0,\"ticks\":\"\"}},\"type\":\"scattermapbox\"}],\"scatterpolar\":[{\"marker\":{\"colorbar\":{\"outlinewidth\":0,\"ticks\":\"\"}},\"type\":\"scatterpolar\"}],\"scatterpolargl\":[{\"marker\":{\"colorbar\":{\"outlinewidth\":0,\"ticks\":\"\"}},\"type\":\"scatterpolargl\"}],\"scatterternary\":[{\"marker\":{\"colorbar\":{\"outlinewidth\":0,\"ticks\":\"\"}},\"type\":\"scatterternary\"}],\"surface\":[{\"colorbar\":{\"outlinewidth\":0,\"ticks\":\"\"},\"colorscale\":[[0.0,\"#0d0887\"],[0.1111111111111111,\"#46039f\"],[0.2222222222222222,\"#7201a8\"],[0.3333333333333333,\"#9c179e\"],[0.4444444444444444,\"#bd3786\"],[0.5555555555555556,\"#d8576b\"],[0.6666666666666666,\"#ed7953\"],[0.7777777777777778,\"#fb9f3a\"],[0.8888888888888888,\"#fdca26\"],[1.0,\"#f0f921\"]],\"type\":\"surface\"}],\"table\":[{\"cells\":{\"fill\":{\"color\":\"#EBF0F8\"},\"line\":{\"color\":\"white\"}},\"header\":{\"fill\":{\"color\":\"#C8D4E3\"},\"line\":{\"color\":\"white\"}},\"type\":\"table\"}],\"indicator\":[{\"title\":{\"text\":\"Total content on Netflix\"},\"type\":\"indicator\"}]},\"layout\":{\"annotationdefaults\":{\"arrowcolor\":\"#2a3f5f\",\"arrowhead\":0,\"arrowwidth\":1},\"autotypenumbers\":\"strict\",\"coloraxis\":{\"colorbar\":{\"outlinewidth\":0,\"ticks\":\"\"}},\"colorscale\":{\"diverging\":[[0,\"#8e0152\"],[0.1,\"#c51b7d\"],[0.2,\"#de77ae\"],[0.3,\"#f1b6da\"],[0.4,\"#fde0ef\"],[0.5,\"#f7f7f7\"],[0.6,\"#e6f5d0\"],[0.7,\"#b8e186\"],[0.8,\"#7fbc41\"],[0.9,\"#4d9221\"],[1,\"#276419\"]],\"sequential\":[[0.0,\"#0d0887\"],[0.1111111111111111,\"#46039f\"],[0.2222222222222222,\"#7201a8\"],[0.3333333333333333,\"#9c179e\"],[0.4444444444444444,\"#bd3786\"],[0.5555555555555556,\"#d8576b\"],[0.6666666666666666,\"#ed7953\"],[0.7777777777777778,\"#fb9f3a\"],[0.8888888888888888,\"#fdca26\"],[1.0,\"#f0f921\"]],\"sequentialminus\":[[0.0,\"#0d0887\"],[0.1111111111111111,\"#46039f\"],[0.2222222222222222,\"#7201a8\"],[0.3333333333333333,\"#9c179e\"],[0.4444444444444444,\"#bd3786\"],[0.5555555555555556,\"#d8576b\"],[0.6666666666666666,\"#ed7953\"],[0.7777777777777778,\"#fb9f3a\"],[0.8888888888888888,\"#fdca26\"],[1.0,\"#f0f921\"]]},\"colorway\":[\"#636efa\",\"#EF553B\",\"#00cc96\",\"#ab63fa\",\"#FFA15A\",\"#19d3f3\",\"#FF6692\",\"#B6E880\",\"#FF97FF\",\"#FECB52\"],\"font\":{\"color\":\"#2a3f5f\"},\"geo\":{\"bgcolor\":\"white\",\"lakecolor\":\"white\",\"landcolor\":\"#E5ECF6\",\"showlakes\":true,\"showland\":true,\"subunitcolor\":\"white\"},\"hoverlabel\":{\"align\":\"left\"},\"hovermode\":\"closest\",\"mapbox\":{\"style\":\"light\"},\"paper_bgcolor\":\"white\",\"plot_bgcolor\":\"#E5ECF6\",\"polar\":{\"angularaxis\":{\"gridcolor\":\"white\",\"linecolor\":\"white\",\"ticks\":\"\"},\"bgcolor\":\"#E5ECF6\",\"radialaxis\":{\"gridcolor\":\"white\",\"linecolor\":\"white\",\"ticks\":\"\"}},\"scene\":{\"xaxis\":{\"backgroundcolor\":\"#E5ECF6\",\"gridcolor\":\"white\",\"gridwidth\":2,\"linecolor\":\"white\",\"showbackground\":true,\"ticks\":\"\",\"zerolinecolor\":\"white\"},\"yaxis\":{\"backgroundcolor\":\"#E5ECF6\",\"gridcolor\":\"white\",\"gridwidth\":2,\"linecolor\":\"white\",\"showbackground\":true,\"ticks\":\"\",\"zerolinecolor\":\"white\"},\"zaxis\":{\"backgroundcolor\":\"#E5ECF6\",\"gridcolor\":\"white\",\"gridwidth\":2,\"linecolor\":\"white\",\"showbackground\":true,\"ticks\":\"\",\"zerolinecolor\":\"white\"}},\"shapedefaults\":{\"line\":{\"color\":\"#2a3f5f\"}},\"ternary\":{\"aaxis\":{\"gridcolor\":\"white\",\"linecolor\":\"white\",\"ticks\":\"\"},\"baxis\":{\"gridcolor\":\"white\",\"linecolor\":\"white\",\"ticks\":\"\"},\"bgcolor\":\"#E5ECF6\",\"caxis\":{\"gridcolor\":\"white\",\"linecolor\":\"white\",\"ticks\":\"\"}},\"title\":{\"x\":0.05},\"xaxis\":{\"automargin\":true,\"gridcolor\":\"white\",\"linecolor\":\"white\",\"ticks\":\"\",\"title\":{\"standoff\":15},\"zerolinecolor\":\"white\",\"zerolinewidth\":2},\"yaxis\":{\"automargin\":true,\"gridcolor\":\"white\",\"linecolor\":\"white\",\"ticks\":\"\",\"title\":{\"standoff\":15},\"zerolinecolor\":\"white\",\"zerolinewidth\":2}}},\"title\":{\"font\":{\"color\":\"red\"}},\"margin\":{\"l\":50,\"r\":50,\"b\":0,\"t\":1},\"height\":100},                        {\"responsive\": true}                    ).then(function(){\n",
              "                            \n",
              "var gd = document.getElementById('c26d9945-d02a-424a-9541-9f823c1b97c4');\n",
              "var x = new MutationObserver(function (mutations, observer) {{\n",
              "        var display = window.getComputedStyle(gd).display;\n",
              "        if (!display || display === 'none') {{\n",
              "            console.log([gd, 'removed!']);\n",
              "            Plotly.purge(gd);\n",
              "            observer.disconnect();\n",
              "        }}\n",
              "}});\n",
              "\n",
              "// Listen for the removal of the full notebook cells\n",
              "var notebookContainer = gd.closest('#notebook-container');\n",
              "if (notebookContainer) {{\n",
              "    x.observe(notebookContainer, {childList: true});\n",
              "}}\n",
              "\n",
              "// Listen for the clearing of the current output cell\n",
              "var outputEl = gd.closest('.output');\n",
              "if (outputEl) {{\n",
              "    x.observe(outputEl, {childList: true});\n",
              "}}\n",
              "\n",
              "                        })                };                            </script>        </div>\n",
              "</body>\n",
              "</html>"
            ]
          },
          "metadata": {}
        },
        {
          "output_type": "display_data",
          "data": {
            "text/html": [
              "<html>\n",
              "<head><meta charset=\"utf-8\" /></head>\n",
              "<body>\n",
              "    <div>            <script src=\"https://cdnjs.cloudflare.com/ajax/libs/mathjax/2.7.5/MathJax.js?config=TeX-AMS-MML_SVG\"></script><script type=\"text/javascript\">if (window.MathJax) {MathJax.Hub.Config({SVG: {font: \"STIX-Web\"}});}</script>                <script type=\"text/javascript\">window.PlotlyConfig = {MathJaxConfig: 'local'};</script>\n",
              "        <script src=\"https://cdn.plot.ly/plotly-2.8.3.min.js\"></script>                <div id=\"8b96819b-ac87-4c8c-80ce-2baff7494926\" class=\"plotly-graph-div\" style=\"height:525px; width:100%;\"></div>            <script type=\"text/javascript\">                                    window.PLOTLYENV=window.PLOTLYENV || {};                                    if (document.getElementById(\"8b96819b-ac87-4c8c-80ce-2baff7494926\")) {                    Plotly.newPlot(                        \"8b96819b-ac87-4c8c-80ce-2baff7494926\",                        [{\"marker\":{\"color\":[\"Maroon\",\"black\"]},\"orientation\":\"h\",\"showlegend\":false,\"text\":[6126.0,2664.0],\"textposition\":\"auto\",\"x\":[6126,2664],\"y\":[\"Movie\",\"TV Show\"],\"type\":\"bar\",\"xaxis\":\"x\",\"yaxis\":\"y\"},{\"labels\":[\"Movie\",\"TV Show\"],\"marker\":{\"colors\":[\"Maroon\",\"Black\"]},\"pull\":[0,0.1],\"textinfo\":\"label+percent\",\"values\":[6126,2664],\"type\":\"pie\",\"domain\":{\"x\":[0.55,1.0],\"y\":[0.0,1.0]}}],                        {\"template\":{\"data\":{\"bar\":[{\"error_x\":{\"color\":\"#2a3f5f\"},\"error_y\":{\"color\":\"#2a3f5f\"},\"marker\":{\"line\":{\"color\":\"#E5ECF6\",\"width\":0.5},\"pattern\":{\"fillmode\":\"overlay\",\"size\":10,\"solidity\":0.2}},\"type\":\"bar\"}],\"barpolar\":[{\"marker\":{\"line\":{\"color\":\"#E5ECF6\",\"width\":0.5},\"pattern\":{\"fillmode\":\"overlay\",\"size\":10,\"solidity\":0.2}},\"type\":\"barpolar\"}],\"carpet\":[{\"aaxis\":{\"endlinecolor\":\"#2a3f5f\",\"gridcolor\":\"white\",\"linecolor\":\"white\",\"minorgridcolor\":\"white\",\"startlinecolor\":\"#2a3f5f\"},\"baxis\":{\"endlinecolor\":\"#2a3f5f\",\"gridcolor\":\"white\",\"linecolor\":\"white\",\"minorgridcolor\":\"white\",\"startlinecolor\":\"#2a3f5f\"},\"type\":\"carpet\"}],\"choropleth\":[{\"colorbar\":{\"outlinewidth\":0,\"ticks\":\"\"},\"type\":\"choropleth\"}],\"contour\":[{\"colorbar\":{\"outlinewidth\":0,\"ticks\":\"\"},\"colorscale\":[[0.0,\"#0d0887\"],[0.1111111111111111,\"#46039f\"],[0.2222222222222222,\"#7201a8\"],[0.3333333333333333,\"#9c179e\"],[0.4444444444444444,\"#bd3786\"],[0.5555555555555556,\"#d8576b\"],[0.6666666666666666,\"#ed7953\"],[0.7777777777777778,\"#fb9f3a\"],[0.8888888888888888,\"#fdca26\"],[1.0,\"#f0f921\"]],\"type\":\"contour\"}],\"contourcarpet\":[{\"colorbar\":{\"outlinewidth\":0,\"ticks\":\"\"},\"type\":\"contourcarpet\"}],\"heatmap\":[{\"colorbar\":{\"outlinewidth\":0,\"ticks\":\"\"},\"colorscale\":[[0.0,\"#0d0887\"],[0.1111111111111111,\"#46039f\"],[0.2222222222222222,\"#7201a8\"],[0.3333333333333333,\"#9c179e\"],[0.4444444444444444,\"#bd3786\"],[0.5555555555555556,\"#d8576b\"],[0.6666666666666666,\"#ed7953\"],[0.7777777777777778,\"#fb9f3a\"],[0.8888888888888888,\"#fdca26\"],[1.0,\"#f0f921\"]],\"type\":\"heatmap\"}],\"heatmapgl\":[{\"colorbar\":{\"outlinewidth\":0,\"ticks\":\"\"},\"colorscale\":[[0.0,\"#0d0887\"],[0.1111111111111111,\"#46039f\"],[0.2222222222222222,\"#7201a8\"],[0.3333333333333333,\"#9c179e\"],[0.4444444444444444,\"#bd3786\"],[0.5555555555555556,\"#d8576b\"],[0.6666666666666666,\"#ed7953\"],[0.7777777777777778,\"#fb9f3a\"],[0.8888888888888888,\"#fdca26\"],[1.0,\"#f0f921\"]],\"type\":\"heatmapgl\"}],\"histogram\":[{\"marker\":{\"pattern\":{\"fillmode\":\"overlay\",\"size\":10,\"solidity\":0.2}},\"type\":\"histogram\"}],\"histogram2d\":[{\"colorbar\":{\"outlinewidth\":0,\"ticks\":\"\"},\"colorscale\":[[0.0,\"#0d0887\"],[0.1111111111111111,\"#46039f\"],[0.2222222222222222,\"#7201a8\"],[0.3333333333333333,\"#9c179e\"],[0.4444444444444444,\"#bd3786\"],[0.5555555555555556,\"#d8576b\"],[0.6666666666666666,\"#ed7953\"],[0.7777777777777778,\"#fb9f3a\"],[0.8888888888888888,\"#fdca26\"],[1.0,\"#f0f921\"]],\"type\":\"histogram2d\"}],\"histogram2dcontour\":[{\"colorbar\":{\"outlinewidth\":0,\"ticks\":\"\"},\"colorscale\":[[0.0,\"#0d0887\"],[0.1111111111111111,\"#46039f\"],[0.2222222222222222,\"#7201a8\"],[0.3333333333333333,\"#9c179e\"],[0.4444444444444444,\"#bd3786\"],[0.5555555555555556,\"#d8576b\"],[0.6666666666666666,\"#ed7953\"],[0.7777777777777778,\"#fb9f3a\"],[0.8888888888888888,\"#fdca26\"],[1.0,\"#f0f921\"]],\"type\":\"histogram2dcontour\"}],\"mesh3d\":[{\"colorbar\":{\"outlinewidth\":0,\"ticks\":\"\"},\"type\":\"mesh3d\"}],\"parcoords\":[{\"line\":{\"colorbar\":{\"outlinewidth\":0,\"ticks\":\"\"}},\"type\":\"parcoords\"}],\"pie\":[{\"automargin\":true,\"type\":\"pie\"}],\"scatter\":[{\"marker\":{\"colorbar\":{\"outlinewidth\":0,\"ticks\":\"\"}},\"type\":\"scatter\"}],\"scatter3d\":[{\"line\":{\"colorbar\":{\"outlinewidth\":0,\"ticks\":\"\"}},\"marker\":{\"colorbar\":{\"outlinewidth\":0,\"ticks\":\"\"}},\"type\":\"scatter3d\"}],\"scattercarpet\":[{\"marker\":{\"colorbar\":{\"outlinewidth\":0,\"ticks\":\"\"}},\"type\":\"scattercarpet\"}],\"scattergeo\":[{\"marker\":{\"colorbar\":{\"outlinewidth\":0,\"ticks\":\"\"}},\"type\":\"scattergeo\"}],\"scattergl\":[{\"marker\":{\"colorbar\":{\"outlinewidth\":0,\"ticks\":\"\"}},\"type\":\"scattergl\"}],\"scattermapbox\":[{\"marker\":{\"colorbar\":{\"outlinewidth\":0,\"ticks\":\"\"}},\"type\":\"scattermapbox\"}],\"scatterpolar\":[{\"marker\":{\"colorbar\":{\"outlinewidth\":0,\"ticks\":\"\"}},\"type\":\"scatterpolar\"}],\"scatterpolargl\":[{\"marker\":{\"colorbar\":{\"outlinewidth\":0,\"ticks\":\"\"}},\"type\":\"scatterpolargl\"}],\"scatterternary\":[{\"marker\":{\"colorbar\":{\"outlinewidth\":0,\"ticks\":\"\"}},\"type\":\"scatterternary\"}],\"surface\":[{\"colorbar\":{\"outlinewidth\":0,\"ticks\":\"\"},\"colorscale\":[[0.0,\"#0d0887\"],[0.1111111111111111,\"#46039f\"],[0.2222222222222222,\"#7201a8\"],[0.3333333333333333,\"#9c179e\"],[0.4444444444444444,\"#bd3786\"],[0.5555555555555556,\"#d8576b\"],[0.6666666666666666,\"#ed7953\"],[0.7777777777777778,\"#fb9f3a\"],[0.8888888888888888,\"#fdca26\"],[1.0,\"#f0f921\"]],\"type\":\"surface\"}],\"table\":[{\"cells\":{\"fill\":{\"color\":\"#EBF0F8\"},\"line\":{\"color\":\"white\"}},\"header\":{\"fill\":{\"color\":\"#C8D4E3\"},\"line\":{\"color\":\"white\"}},\"type\":\"table\"}]},\"layout\":{\"annotationdefaults\":{\"arrowcolor\":\"#2a3f5f\",\"arrowhead\":0,\"arrowwidth\":1},\"autotypenumbers\":\"strict\",\"coloraxis\":{\"colorbar\":{\"outlinewidth\":0,\"ticks\":\"\"}},\"colorscale\":{\"diverging\":[[0,\"#8e0152\"],[0.1,\"#c51b7d\"],[0.2,\"#de77ae\"],[0.3,\"#f1b6da\"],[0.4,\"#fde0ef\"],[0.5,\"#f7f7f7\"],[0.6,\"#e6f5d0\"],[0.7,\"#b8e186\"],[0.8,\"#7fbc41\"],[0.9,\"#4d9221\"],[1,\"#276419\"]],\"sequential\":[[0.0,\"#0d0887\"],[0.1111111111111111,\"#46039f\"],[0.2222222222222222,\"#7201a8\"],[0.3333333333333333,\"#9c179e\"],[0.4444444444444444,\"#bd3786\"],[0.5555555555555556,\"#d8576b\"],[0.6666666666666666,\"#ed7953\"],[0.7777777777777778,\"#fb9f3a\"],[0.8888888888888888,\"#fdca26\"],[1.0,\"#f0f921\"]],\"sequentialminus\":[[0.0,\"#0d0887\"],[0.1111111111111111,\"#46039f\"],[0.2222222222222222,\"#7201a8\"],[0.3333333333333333,\"#9c179e\"],[0.4444444444444444,\"#bd3786\"],[0.5555555555555556,\"#d8576b\"],[0.6666666666666666,\"#ed7953\"],[0.7777777777777778,\"#fb9f3a\"],[0.8888888888888888,\"#fdca26\"],[1.0,\"#f0f921\"]]},\"colorway\":[\"#636efa\",\"#EF553B\",\"#00cc96\",\"#ab63fa\",\"#FFA15A\",\"#19d3f3\",\"#FF6692\",\"#B6E880\",\"#FF97FF\",\"#FECB52\"],\"font\":{\"color\":\"#2a3f5f\"},\"geo\":{\"bgcolor\":\"white\",\"lakecolor\":\"white\",\"landcolor\":\"#E5ECF6\",\"showlakes\":true,\"showland\":true,\"subunitcolor\":\"white\"},\"hoverlabel\":{\"align\":\"left\"},\"hovermode\":\"closest\",\"mapbox\":{\"style\":\"light\"},\"paper_bgcolor\":\"white\",\"plot_bgcolor\":\"#E5ECF6\",\"polar\":{\"angularaxis\":{\"gridcolor\":\"white\",\"linecolor\":\"white\",\"ticks\":\"\"},\"bgcolor\":\"#E5ECF6\",\"radialaxis\":{\"gridcolor\":\"white\",\"linecolor\":\"white\",\"ticks\":\"\"}},\"scene\":{\"xaxis\":{\"backgroundcolor\":\"#E5ECF6\",\"gridcolor\":\"white\",\"gridwidth\":2,\"linecolor\":\"white\",\"showbackground\":true,\"ticks\":\"\",\"zerolinecolor\":\"white\"},\"yaxis\":{\"backgroundcolor\":\"#E5ECF6\",\"gridcolor\":\"white\",\"gridwidth\":2,\"linecolor\":\"white\",\"showbackground\":true,\"ticks\":\"\",\"zerolinecolor\":\"white\"},\"zaxis\":{\"backgroundcolor\":\"#E5ECF6\",\"gridcolor\":\"white\",\"gridwidth\":2,\"linecolor\":\"white\",\"showbackground\":true,\"ticks\":\"\",\"zerolinecolor\":\"white\"}},\"shapedefaults\":{\"line\":{\"color\":\"#2a3f5f\"}},\"ternary\":{\"aaxis\":{\"gridcolor\":\"white\",\"linecolor\":\"white\",\"ticks\":\"\"},\"baxis\":{\"gridcolor\":\"white\",\"linecolor\":\"white\",\"ticks\":\"\"},\"bgcolor\":\"#E5ECF6\",\"caxis\":{\"gridcolor\":\"white\",\"linecolor\":\"white\",\"ticks\":\"\"}},\"title\":{\"x\":0.05},\"xaxis\":{\"automargin\":true,\"gridcolor\":\"white\",\"linecolor\":\"white\",\"ticks\":\"\",\"title\":{\"standoff\":15},\"zerolinecolor\":\"white\",\"zerolinewidth\":2},\"yaxis\":{\"automargin\":true,\"gridcolor\":\"white\",\"linecolor\":\"white\",\"ticks\":\"\",\"title\":{\"standoff\":15},\"zerolinecolor\":\"white\",\"zerolinewidth\":2}}},\"xaxis\":{\"anchor\":\"y\",\"domain\":[0.0,0.45]},\"yaxis\":{\"anchor\":\"x\",\"domain\":[0.0,1.0]},\"title\":{\"font\":{\"color\":\"red\"},\"text\":\"What type of content is more uploaded more on Netflix?\"}},                        {\"responsive\": true}                    ).then(function(){\n",
              "                            \n",
              "var gd = document.getElementById('8b96819b-ac87-4c8c-80ce-2baff7494926');\n",
              "var x = new MutationObserver(function (mutations, observer) {{\n",
              "        var display = window.getComputedStyle(gd).display;\n",
              "        if (!display || display === 'none') {{\n",
              "            console.log([gd, 'removed!']);\n",
              "            Plotly.purge(gd);\n",
              "            observer.disconnect();\n",
              "        }}\n",
              "}});\n",
              "\n",
              "// Listen for the removal of the full notebook cells\n",
              "var notebookContainer = gd.closest('#notebook-container');\n",
              "if (notebookContainer) {{\n",
              "    x.observe(notebookContainer, {childList: true});\n",
              "}}\n",
              "\n",
              "// Listen for the clearing of the current output cell\n",
              "var outputEl = gd.closest('.output');\n",
              "if (outputEl) {{\n",
              "    x.observe(outputEl, {childList: true});\n",
              "}}\n",
              "\n",
              "                        })                };                            </script>        </div>\n",
              "</body>\n",
              "</html>"
            ]
          },
          "metadata": {}
        }
      ]
    },
    {
      "cell_type": "markdown",
      "source": [
        "##2. Siapa director yang paling sering membuat film?"
      ],
      "metadata": {
        "id": "3yalXzHwZ2FX"
      },
      "id": "3yalXzHwZ2FX"
    },
    {
      "cell_type": "code",
      "source": [
        "df1 = df.director.value_counts()\n",
        "df1 = df1.drop('No Data')\n",
        "df1 = df1.head(10).sort_values()\n",
        "fig = go.Figure()\n",
        "fig.add_trace(go.Bar(x=df1,y=df1.index,text=df1\n",
        "              ,marker_color='maroon', orientation = 'h'))\n",
        "fig.update_traces(texttemplate='%{text} Content')\n",
        "fig.update_layout(\n",
        "    title='Most Content Director in Netflix',title_font_color=\"maroon\",title_font_size=32,height=500,\n",
        "     xaxis_tickfont_size=14,xaxis_tickfont_color='maroon',xaxis_title='Content',xaxis_titlefont_color='maroon',\n",
        "    yaxis=dict(\n",
        "        title='Director',\n",
        "        titlefont_size=16,\n",
        "        tickfont_size=14,\n",
        "        titlefont_color='maroon',\n",
        "        tickfont_color='maroon'\n",
        "    ))\n",
        "fig.show()"
      ],
      "metadata": {
        "id": "NlHtGlS5Z-MW",
        "colab": {
          "base_uri": "https://localhost:8080/",
          "height": 0
        },
        "outputId": "3c5d235b-2bb0-428f-f5ef-787b61693dfd"
      },
      "id": "NlHtGlS5Z-MW",
      "execution_count": 14,
      "outputs": [
        {
          "output_type": "display_data",
          "data": {
            "text/html": [
              "<html>\n",
              "<head><meta charset=\"utf-8\" /></head>\n",
              "<body>\n",
              "    <div>            <script src=\"https://cdnjs.cloudflare.com/ajax/libs/mathjax/2.7.5/MathJax.js?config=TeX-AMS-MML_SVG\"></script><script type=\"text/javascript\">if (window.MathJax) {MathJax.Hub.Config({SVG: {font: \"STIX-Web\"}});}</script>                <script type=\"text/javascript\">window.PlotlyConfig = {MathJaxConfig: 'local'};</script>\n",
              "        <script src=\"https://cdn.plot.ly/plotly-2.8.3.min.js\"></script>                <div id=\"9f641be3-c2a6-4a7d-9a38-793c705db6c3\" class=\"plotly-graph-div\" style=\"height:500px; width:100%;\"></div>            <script type=\"text/javascript\">                                    window.PLOTLYENV=window.PLOTLYENV || {};                                    if (document.getElementById(\"9f641be3-c2a6-4a7d-9a38-793c705db6c3\")) {                    Plotly.newPlot(                        \"9f641be3-c2a6-4a7d-9a38-793c705db6c3\",                        [{\"marker\":{\"color\":\"maroon\"},\"orientation\":\"h\",\"text\":[11.0,12.0,12.0,12.0,13.0,14.0,16.0,16.0,18.0,19.0],\"x\":[11,12,12,12,13,14,16,16,18,19],\"y\":[\"Steven Spielberg\",\"Martin Scorsese\",\"Jay Chapman\",\"Youssef Chahine\",\"Cathy Garcia-Molina\",\"Jay Karas\",\"Suhas Kadav\",\"Marcus Raboy\",\"Ra\\u00fal Campos, Jan Suter\",\"Rajiv Chilaka\"],\"type\":\"bar\",\"texttemplate\":\"%{text} Content\"}],                        {\"template\":{\"data\":{\"bar\":[{\"error_x\":{\"color\":\"#2a3f5f\"},\"error_y\":{\"color\":\"#2a3f5f\"},\"marker\":{\"line\":{\"color\":\"#E5ECF6\",\"width\":0.5},\"pattern\":{\"fillmode\":\"overlay\",\"size\":10,\"solidity\":0.2}},\"type\":\"bar\"}],\"barpolar\":[{\"marker\":{\"line\":{\"color\":\"#E5ECF6\",\"width\":0.5},\"pattern\":{\"fillmode\":\"overlay\",\"size\":10,\"solidity\":0.2}},\"type\":\"barpolar\"}],\"carpet\":[{\"aaxis\":{\"endlinecolor\":\"#2a3f5f\",\"gridcolor\":\"white\",\"linecolor\":\"white\",\"minorgridcolor\":\"white\",\"startlinecolor\":\"#2a3f5f\"},\"baxis\":{\"endlinecolor\":\"#2a3f5f\",\"gridcolor\":\"white\",\"linecolor\":\"white\",\"minorgridcolor\":\"white\",\"startlinecolor\":\"#2a3f5f\"},\"type\":\"carpet\"}],\"choropleth\":[{\"colorbar\":{\"outlinewidth\":0,\"ticks\":\"\"},\"type\":\"choropleth\"}],\"contour\":[{\"colorbar\":{\"outlinewidth\":0,\"ticks\":\"\"},\"colorscale\":[[0.0,\"#0d0887\"],[0.1111111111111111,\"#46039f\"],[0.2222222222222222,\"#7201a8\"],[0.3333333333333333,\"#9c179e\"],[0.4444444444444444,\"#bd3786\"],[0.5555555555555556,\"#d8576b\"],[0.6666666666666666,\"#ed7953\"],[0.7777777777777778,\"#fb9f3a\"],[0.8888888888888888,\"#fdca26\"],[1.0,\"#f0f921\"]],\"type\":\"contour\"}],\"contourcarpet\":[{\"colorbar\":{\"outlinewidth\":0,\"ticks\":\"\"},\"type\":\"contourcarpet\"}],\"heatmap\":[{\"colorbar\":{\"outlinewidth\":0,\"ticks\":\"\"},\"colorscale\":[[0.0,\"#0d0887\"],[0.1111111111111111,\"#46039f\"],[0.2222222222222222,\"#7201a8\"],[0.3333333333333333,\"#9c179e\"],[0.4444444444444444,\"#bd3786\"],[0.5555555555555556,\"#d8576b\"],[0.6666666666666666,\"#ed7953\"],[0.7777777777777778,\"#fb9f3a\"],[0.8888888888888888,\"#fdca26\"],[1.0,\"#f0f921\"]],\"type\":\"heatmap\"}],\"heatmapgl\":[{\"colorbar\":{\"outlinewidth\":0,\"ticks\":\"\"},\"colorscale\":[[0.0,\"#0d0887\"],[0.1111111111111111,\"#46039f\"],[0.2222222222222222,\"#7201a8\"],[0.3333333333333333,\"#9c179e\"],[0.4444444444444444,\"#bd3786\"],[0.5555555555555556,\"#d8576b\"],[0.6666666666666666,\"#ed7953\"],[0.7777777777777778,\"#fb9f3a\"],[0.8888888888888888,\"#fdca26\"],[1.0,\"#f0f921\"]],\"type\":\"heatmapgl\"}],\"histogram\":[{\"marker\":{\"pattern\":{\"fillmode\":\"overlay\",\"size\":10,\"solidity\":0.2}},\"type\":\"histogram\"}],\"histogram2d\":[{\"colorbar\":{\"outlinewidth\":0,\"ticks\":\"\"},\"colorscale\":[[0.0,\"#0d0887\"],[0.1111111111111111,\"#46039f\"],[0.2222222222222222,\"#7201a8\"],[0.3333333333333333,\"#9c179e\"],[0.4444444444444444,\"#bd3786\"],[0.5555555555555556,\"#d8576b\"],[0.6666666666666666,\"#ed7953\"],[0.7777777777777778,\"#fb9f3a\"],[0.8888888888888888,\"#fdca26\"],[1.0,\"#f0f921\"]],\"type\":\"histogram2d\"}],\"histogram2dcontour\":[{\"colorbar\":{\"outlinewidth\":0,\"ticks\":\"\"},\"colorscale\":[[0.0,\"#0d0887\"],[0.1111111111111111,\"#46039f\"],[0.2222222222222222,\"#7201a8\"],[0.3333333333333333,\"#9c179e\"],[0.4444444444444444,\"#bd3786\"],[0.5555555555555556,\"#d8576b\"],[0.6666666666666666,\"#ed7953\"],[0.7777777777777778,\"#fb9f3a\"],[0.8888888888888888,\"#fdca26\"],[1.0,\"#f0f921\"]],\"type\":\"histogram2dcontour\"}],\"mesh3d\":[{\"colorbar\":{\"outlinewidth\":0,\"ticks\":\"\"},\"type\":\"mesh3d\"}],\"parcoords\":[{\"line\":{\"colorbar\":{\"outlinewidth\":0,\"ticks\":\"\"}},\"type\":\"parcoords\"}],\"pie\":[{\"automargin\":true,\"type\":\"pie\"}],\"scatter\":[{\"marker\":{\"colorbar\":{\"outlinewidth\":0,\"ticks\":\"\"}},\"type\":\"scatter\"}],\"scatter3d\":[{\"line\":{\"colorbar\":{\"outlinewidth\":0,\"ticks\":\"\"}},\"marker\":{\"colorbar\":{\"outlinewidth\":0,\"ticks\":\"\"}},\"type\":\"scatter3d\"}],\"scattercarpet\":[{\"marker\":{\"colorbar\":{\"outlinewidth\":0,\"ticks\":\"\"}},\"type\":\"scattercarpet\"}],\"scattergeo\":[{\"marker\":{\"colorbar\":{\"outlinewidth\":0,\"ticks\":\"\"}},\"type\":\"scattergeo\"}],\"scattergl\":[{\"marker\":{\"colorbar\":{\"outlinewidth\":0,\"ticks\":\"\"}},\"type\":\"scattergl\"}],\"scattermapbox\":[{\"marker\":{\"colorbar\":{\"outlinewidth\":0,\"ticks\":\"\"}},\"type\":\"scattermapbox\"}],\"scatterpolar\":[{\"marker\":{\"colorbar\":{\"outlinewidth\":0,\"ticks\":\"\"}},\"type\":\"scatterpolar\"}],\"scatterpolargl\":[{\"marker\":{\"colorbar\":{\"outlinewidth\":0,\"ticks\":\"\"}},\"type\":\"scatterpolargl\"}],\"scatterternary\":[{\"marker\":{\"colorbar\":{\"outlinewidth\":0,\"ticks\":\"\"}},\"type\":\"scatterternary\"}],\"surface\":[{\"colorbar\":{\"outlinewidth\":0,\"ticks\":\"\"},\"colorscale\":[[0.0,\"#0d0887\"],[0.1111111111111111,\"#46039f\"],[0.2222222222222222,\"#7201a8\"],[0.3333333333333333,\"#9c179e\"],[0.4444444444444444,\"#bd3786\"],[0.5555555555555556,\"#d8576b\"],[0.6666666666666666,\"#ed7953\"],[0.7777777777777778,\"#fb9f3a\"],[0.8888888888888888,\"#fdca26\"],[1.0,\"#f0f921\"]],\"type\":\"surface\"}],\"table\":[{\"cells\":{\"fill\":{\"color\":\"#EBF0F8\"},\"line\":{\"color\":\"white\"}},\"header\":{\"fill\":{\"color\":\"#C8D4E3\"},\"line\":{\"color\":\"white\"}},\"type\":\"table\"}]},\"layout\":{\"annotationdefaults\":{\"arrowcolor\":\"#2a3f5f\",\"arrowhead\":0,\"arrowwidth\":1},\"autotypenumbers\":\"strict\",\"coloraxis\":{\"colorbar\":{\"outlinewidth\":0,\"ticks\":\"\"}},\"colorscale\":{\"diverging\":[[0,\"#8e0152\"],[0.1,\"#c51b7d\"],[0.2,\"#de77ae\"],[0.3,\"#f1b6da\"],[0.4,\"#fde0ef\"],[0.5,\"#f7f7f7\"],[0.6,\"#e6f5d0\"],[0.7,\"#b8e186\"],[0.8,\"#7fbc41\"],[0.9,\"#4d9221\"],[1,\"#276419\"]],\"sequential\":[[0.0,\"#0d0887\"],[0.1111111111111111,\"#46039f\"],[0.2222222222222222,\"#7201a8\"],[0.3333333333333333,\"#9c179e\"],[0.4444444444444444,\"#bd3786\"],[0.5555555555555556,\"#d8576b\"],[0.6666666666666666,\"#ed7953\"],[0.7777777777777778,\"#fb9f3a\"],[0.8888888888888888,\"#fdca26\"],[1.0,\"#f0f921\"]],\"sequentialminus\":[[0.0,\"#0d0887\"],[0.1111111111111111,\"#46039f\"],[0.2222222222222222,\"#7201a8\"],[0.3333333333333333,\"#9c179e\"],[0.4444444444444444,\"#bd3786\"],[0.5555555555555556,\"#d8576b\"],[0.6666666666666666,\"#ed7953\"],[0.7777777777777778,\"#fb9f3a\"],[0.8888888888888888,\"#fdca26\"],[1.0,\"#f0f921\"]]},\"colorway\":[\"#636efa\",\"#EF553B\",\"#00cc96\",\"#ab63fa\",\"#FFA15A\",\"#19d3f3\",\"#FF6692\",\"#B6E880\",\"#FF97FF\",\"#FECB52\"],\"font\":{\"color\":\"#2a3f5f\"},\"geo\":{\"bgcolor\":\"white\",\"lakecolor\":\"white\",\"landcolor\":\"#E5ECF6\",\"showlakes\":true,\"showland\":true,\"subunitcolor\":\"white\"},\"hoverlabel\":{\"align\":\"left\"},\"hovermode\":\"closest\",\"mapbox\":{\"style\":\"light\"},\"paper_bgcolor\":\"white\",\"plot_bgcolor\":\"#E5ECF6\",\"polar\":{\"angularaxis\":{\"gridcolor\":\"white\",\"linecolor\":\"white\",\"ticks\":\"\"},\"bgcolor\":\"#E5ECF6\",\"radialaxis\":{\"gridcolor\":\"white\",\"linecolor\":\"white\",\"ticks\":\"\"}},\"scene\":{\"xaxis\":{\"backgroundcolor\":\"#E5ECF6\",\"gridcolor\":\"white\",\"gridwidth\":2,\"linecolor\":\"white\",\"showbackground\":true,\"ticks\":\"\",\"zerolinecolor\":\"white\"},\"yaxis\":{\"backgroundcolor\":\"#E5ECF6\",\"gridcolor\":\"white\",\"gridwidth\":2,\"linecolor\":\"white\",\"showbackground\":true,\"ticks\":\"\",\"zerolinecolor\":\"white\"},\"zaxis\":{\"backgroundcolor\":\"#E5ECF6\",\"gridcolor\":\"white\",\"gridwidth\":2,\"linecolor\":\"white\",\"showbackground\":true,\"ticks\":\"\",\"zerolinecolor\":\"white\"}},\"shapedefaults\":{\"line\":{\"color\":\"#2a3f5f\"}},\"ternary\":{\"aaxis\":{\"gridcolor\":\"white\",\"linecolor\":\"white\",\"ticks\":\"\"},\"baxis\":{\"gridcolor\":\"white\",\"linecolor\":\"white\",\"ticks\":\"\"},\"bgcolor\":\"#E5ECF6\",\"caxis\":{\"gridcolor\":\"white\",\"linecolor\":\"white\",\"ticks\":\"\"}},\"title\":{\"x\":0.05},\"xaxis\":{\"automargin\":true,\"gridcolor\":\"white\",\"linecolor\":\"white\",\"ticks\":\"\",\"title\":{\"standoff\":15},\"zerolinecolor\":\"white\",\"zerolinewidth\":2},\"yaxis\":{\"automargin\":true,\"gridcolor\":\"white\",\"linecolor\":\"white\",\"ticks\":\"\",\"title\":{\"standoff\":15},\"zerolinecolor\":\"white\",\"zerolinewidth\":2}}},\"title\":{\"text\":\"Most Content Director in Netflix\",\"font\":{\"color\":\"maroon\",\"size\":32}},\"xaxis\":{\"tickfont\":{\"size\":14,\"color\":\"maroon\"},\"title\":{\"text\":\"Content\",\"font\":{\"color\":\"maroon\"}}},\"yaxis\":{\"title\":{\"text\":\"Director\",\"font\":{\"size\":16,\"color\":\"maroon\"}},\"tickfont\":{\"size\":14,\"color\":\"maroon\"}},\"height\":500},                        {\"responsive\": true}                    ).then(function(){\n",
              "                            \n",
              "var gd = document.getElementById('9f641be3-c2a6-4a7d-9a38-793c705db6c3');\n",
              "var x = new MutationObserver(function (mutations, observer) {{\n",
              "        var display = window.getComputedStyle(gd).display;\n",
              "        if (!display || display === 'none') {{\n",
              "            console.log([gd, 'removed!']);\n",
              "            Plotly.purge(gd);\n",
              "            observer.disconnect();\n",
              "        }}\n",
              "}});\n",
              "\n",
              "// Listen for the removal of the full notebook cells\n",
              "var notebookContainer = gd.closest('#notebook-container');\n",
              "if (notebookContainer) {{\n",
              "    x.observe(notebookContainer, {childList: true});\n",
              "}}\n",
              "\n",
              "// Listen for the clearing of the current output cell\n",
              "var outputEl = gd.closest('.output');\n",
              "if (outputEl) {{\n",
              "    x.observe(outputEl, {childList: true});\n",
              "}}\n",
              "\n",
              "                        })                };                            </script>        </div>\n",
              "</body>\n",
              "</html>"
            ]
          },
          "metadata": {}
        }
      ]
    },
    {
      "cell_type": "code",
      "source": [
        "df3 = df.groupby(['director','type'])['show_id'].count().reset_index().sort_values(by='show_id',ascending=False).head(12).iloc[2:].sort_values(by='show_id')\n",
        "fig = go.Figure()\n",
        "fig.add_trace( go.Bar(name='Movie',marker_color='maroon',x= df3[df3['type']=='Movie']['show_id'], y= df3[df3['type']=='Movie']['director'], orientation = 'h'))\n",
        "fig.update_traces(texttemplate='%{text:} ss')\n",
        "fig.add_trace( go.Bar(name='TV Show',marker_color='Black',x= df3[df3['type']=='TV Show']['show_id'], y= df3[df3['type']=='TV Show']['director'], orientation = 'h'))\n",
        "fig.update_layout(barmode='stack',title='Most Content Director in Netflix',title_font_color=\"maroon\",title_font_size=32,height=500,\n",
        "     xaxis_tickfont_size=14,xaxis_tickfont_color='maroon',xaxis_title='Content',xaxis_titlefont_color='maroon',\n",
        "    yaxis=dict(\n",
        "        title='Director',\n",
        "        titlefont_size=16,\n",
        "        tickfont_size=14,\n",
        "        titlefont_color='maroon',\n",
        "        tickfont_color='maroon'\n",
        "    ))\n",
        "\n",
        "fig.show()"
      ],
      "metadata": {
        "colab": {
          "base_uri": "https://localhost:8080/",
          "height": 0
        },
        "id": "3PiquGXW67jb",
        "outputId": "4a55bc8b-7ee4-44b3-92ab-78a42511f3dc"
      },
      "id": "3PiquGXW67jb",
      "execution_count": 15,
      "outputs": [
        {
          "output_type": "display_data",
          "data": {
            "text/html": [
              "<html>\n",
              "<head><meta charset=\"utf-8\" /></head>\n",
              "<body>\n",
              "    <div>            <script src=\"https://cdnjs.cloudflare.com/ajax/libs/mathjax/2.7.5/MathJax.js?config=TeX-AMS-MML_SVG\"></script><script type=\"text/javascript\">if (window.MathJax) {MathJax.Hub.Config({SVG: {font: \"STIX-Web\"}});}</script>                <script type=\"text/javascript\">window.PlotlyConfig = {MathJaxConfig: 'local'};</script>\n",
              "        <script src=\"https://cdn.plot.ly/plotly-2.8.3.min.js\"></script>                <div id=\"5a9006b6-e6b6-4cef-883d-eaf0b2e47827\" class=\"plotly-graph-div\" style=\"height:500px; width:100%;\"></div>            <script type=\"text/javascript\">                                    window.PLOTLYENV=window.PLOTLYENV || {};                                    if (document.getElementById(\"5a9006b6-e6b6-4cef-883d-eaf0b2e47827\")) {                    Plotly.newPlot(                        \"5a9006b6-e6b6-4cef-883d-eaf0b2e47827\",                        [{\"marker\":{\"color\":\"maroon\"},\"name\":\"Movie\",\"orientation\":\"h\",\"x\":[11,12,12,12,13,14,15,16,18,19],\"y\":[\"Steven Spielberg\",\"Youssef Chahine\",\"Jay Chapman\",\"Martin Scorsese\",\"Cathy Garcia-Molina\",\"Jay Karas\",\"Marcus Raboy\",\"Suhas Kadav\",\"Ra\\u00fal Campos, Jan Suter\",\"Rajiv Chilaka\"],\"type\":\"bar\",\"texttemplate\":\"%{text:} ss\"},{\"marker\":{\"color\":\"Black\"},\"name\":\"TV Show\",\"orientation\":\"h\",\"x\":[],\"y\":[],\"type\":\"bar\"}],                        {\"template\":{\"data\":{\"bar\":[{\"error_x\":{\"color\":\"#2a3f5f\"},\"error_y\":{\"color\":\"#2a3f5f\"},\"marker\":{\"line\":{\"color\":\"#E5ECF6\",\"width\":0.5},\"pattern\":{\"fillmode\":\"overlay\",\"size\":10,\"solidity\":0.2}},\"type\":\"bar\"}],\"barpolar\":[{\"marker\":{\"line\":{\"color\":\"#E5ECF6\",\"width\":0.5},\"pattern\":{\"fillmode\":\"overlay\",\"size\":10,\"solidity\":0.2}},\"type\":\"barpolar\"}],\"carpet\":[{\"aaxis\":{\"endlinecolor\":\"#2a3f5f\",\"gridcolor\":\"white\",\"linecolor\":\"white\",\"minorgridcolor\":\"white\",\"startlinecolor\":\"#2a3f5f\"},\"baxis\":{\"endlinecolor\":\"#2a3f5f\",\"gridcolor\":\"white\",\"linecolor\":\"white\",\"minorgridcolor\":\"white\",\"startlinecolor\":\"#2a3f5f\"},\"type\":\"carpet\"}],\"choropleth\":[{\"colorbar\":{\"outlinewidth\":0,\"ticks\":\"\"},\"type\":\"choropleth\"}],\"contour\":[{\"colorbar\":{\"outlinewidth\":0,\"ticks\":\"\"},\"colorscale\":[[0.0,\"#0d0887\"],[0.1111111111111111,\"#46039f\"],[0.2222222222222222,\"#7201a8\"],[0.3333333333333333,\"#9c179e\"],[0.4444444444444444,\"#bd3786\"],[0.5555555555555556,\"#d8576b\"],[0.6666666666666666,\"#ed7953\"],[0.7777777777777778,\"#fb9f3a\"],[0.8888888888888888,\"#fdca26\"],[1.0,\"#f0f921\"]],\"type\":\"contour\"}],\"contourcarpet\":[{\"colorbar\":{\"outlinewidth\":0,\"ticks\":\"\"},\"type\":\"contourcarpet\"}],\"heatmap\":[{\"colorbar\":{\"outlinewidth\":0,\"ticks\":\"\"},\"colorscale\":[[0.0,\"#0d0887\"],[0.1111111111111111,\"#46039f\"],[0.2222222222222222,\"#7201a8\"],[0.3333333333333333,\"#9c179e\"],[0.4444444444444444,\"#bd3786\"],[0.5555555555555556,\"#d8576b\"],[0.6666666666666666,\"#ed7953\"],[0.7777777777777778,\"#fb9f3a\"],[0.8888888888888888,\"#fdca26\"],[1.0,\"#f0f921\"]],\"type\":\"heatmap\"}],\"heatmapgl\":[{\"colorbar\":{\"outlinewidth\":0,\"ticks\":\"\"},\"colorscale\":[[0.0,\"#0d0887\"],[0.1111111111111111,\"#46039f\"],[0.2222222222222222,\"#7201a8\"],[0.3333333333333333,\"#9c179e\"],[0.4444444444444444,\"#bd3786\"],[0.5555555555555556,\"#d8576b\"],[0.6666666666666666,\"#ed7953\"],[0.7777777777777778,\"#fb9f3a\"],[0.8888888888888888,\"#fdca26\"],[1.0,\"#f0f921\"]],\"type\":\"heatmapgl\"}],\"histogram\":[{\"marker\":{\"pattern\":{\"fillmode\":\"overlay\",\"size\":10,\"solidity\":0.2}},\"type\":\"histogram\"}],\"histogram2d\":[{\"colorbar\":{\"outlinewidth\":0,\"ticks\":\"\"},\"colorscale\":[[0.0,\"#0d0887\"],[0.1111111111111111,\"#46039f\"],[0.2222222222222222,\"#7201a8\"],[0.3333333333333333,\"#9c179e\"],[0.4444444444444444,\"#bd3786\"],[0.5555555555555556,\"#d8576b\"],[0.6666666666666666,\"#ed7953\"],[0.7777777777777778,\"#fb9f3a\"],[0.8888888888888888,\"#fdca26\"],[1.0,\"#f0f921\"]],\"type\":\"histogram2d\"}],\"histogram2dcontour\":[{\"colorbar\":{\"outlinewidth\":0,\"ticks\":\"\"},\"colorscale\":[[0.0,\"#0d0887\"],[0.1111111111111111,\"#46039f\"],[0.2222222222222222,\"#7201a8\"],[0.3333333333333333,\"#9c179e\"],[0.4444444444444444,\"#bd3786\"],[0.5555555555555556,\"#d8576b\"],[0.6666666666666666,\"#ed7953\"],[0.7777777777777778,\"#fb9f3a\"],[0.8888888888888888,\"#fdca26\"],[1.0,\"#f0f921\"]],\"type\":\"histogram2dcontour\"}],\"mesh3d\":[{\"colorbar\":{\"outlinewidth\":0,\"ticks\":\"\"},\"type\":\"mesh3d\"}],\"parcoords\":[{\"line\":{\"colorbar\":{\"outlinewidth\":0,\"ticks\":\"\"}},\"type\":\"parcoords\"}],\"pie\":[{\"automargin\":true,\"type\":\"pie\"}],\"scatter\":[{\"marker\":{\"colorbar\":{\"outlinewidth\":0,\"ticks\":\"\"}},\"type\":\"scatter\"}],\"scatter3d\":[{\"line\":{\"colorbar\":{\"outlinewidth\":0,\"ticks\":\"\"}},\"marker\":{\"colorbar\":{\"outlinewidth\":0,\"ticks\":\"\"}},\"type\":\"scatter3d\"}],\"scattercarpet\":[{\"marker\":{\"colorbar\":{\"outlinewidth\":0,\"ticks\":\"\"}},\"type\":\"scattercarpet\"}],\"scattergeo\":[{\"marker\":{\"colorbar\":{\"outlinewidth\":0,\"ticks\":\"\"}},\"type\":\"scattergeo\"}],\"scattergl\":[{\"marker\":{\"colorbar\":{\"outlinewidth\":0,\"ticks\":\"\"}},\"type\":\"scattergl\"}],\"scattermapbox\":[{\"marker\":{\"colorbar\":{\"outlinewidth\":0,\"ticks\":\"\"}},\"type\":\"scattermapbox\"}],\"scatterpolar\":[{\"marker\":{\"colorbar\":{\"outlinewidth\":0,\"ticks\":\"\"}},\"type\":\"scatterpolar\"}],\"scatterpolargl\":[{\"marker\":{\"colorbar\":{\"outlinewidth\":0,\"ticks\":\"\"}},\"type\":\"scatterpolargl\"}],\"scatterternary\":[{\"marker\":{\"colorbar\":{\"outlinewidth\":0,\"ticks\":\"\"}},\"type\":\"scatterternary\"}],\"surface\":[{\"colorbar\":{\"outlinewidth\":0,\"ticks\":\"\"},\"colorscale\":[[0.0,\"#0d0887\"],[0.1111111111111111,\"#46039f\"],[0.2222222222222222,\"#7201a8\"],[0.3333333333333333,\"#9c179e\"],[0.4444444444444444,\"#bd3786\"],[0.5555555555555556,\"#d8576b\"],[0.6666666666666666,\"#ed7953\"],[0.7777777777777778,\"#fb9f3a\"],[0.8888888888888888,\"#fdca26\"],[1.0,\"#f0f921\"]],\"type\":\"surface\"}],\"table\":[{\"cells\":{\"fill\":{\"color\":\"#EBF0F8\"},\"line\":{\"color\":\"white\"}},\"header\":{\"fill\":{\"color\":\"#C8D4E3\"},\"line\":{\"color\":\"white\"}},\"type\":\"table\"}]},\"layout\":{\"annotationdefaults\":{\"arrowcolor\":\"#2a3f5f\",\"arrowhead\":0,\"arrowwidth\":1},\"autotypenumbers\":\"strict\",\"coloraxis\":{\"colorbar\":{\"outlinewidth\":0,\"ticks\":\"\"}},\"colorscale\":{\"diverging\":[[0,\"#8e0152\"],[0.1,\"#c51b7d\"],[0.2,\"#de77ae\"],[0.3,\"#f1b6da\"],[0.4,\"#fde0ef\"],[0.5,\"#f7f7f7\"],[0.6,\"#e6f5d0\"],[0.7,\"#b8e186\"],[0.8,\"#7fbc41\"],[0.9,\"#4d9221\"],[1,\"#276419\"]],\"sequential\":[[0.0,\"#0d0887\"],[0.1111111111111111,\"#46039f\"],[0.2222222222222222,\"#7201a8\"],[0.3333333333333333,\"#9c179e\"],[0.4444444444444444,\"#bd3786\"],[0.5555555555555556,\"#d8576b\"],[0.6666666666666666,\"#ed7953\"],[0.7777777777777778,\"#fb9f3a\"],[0.8888888888888888,\"#fdca26\"],[1.0,\"#f0f921\"]],\"sequentialminus\":[[0.0,\"#0d0887\"],[0.1111111111111111,\"#46039f\"],[0.2222222222222222,\"#7201a8\"],[0.3333333333333333,\"#9c179e\"],[0.4444444444444444,\"#bd3786\"],[0.5555555555555556,\"#d8576b\"],[0.6666666666666666,\"#ed7953\"],[0.7777777777777778,\"#fb9f3a\"],[0.8888888888888888,\"#fdca26\"],[1.0,\"#f0f921\"]]},\"colorway\":[\"#636efa\",\"#EF553B\",\"#00cc96\",\"#ab63fa\",\"#FFA15A\",\"#19d3f3\",\"#FF6692\",\"#B6E880\",\"#FF97FF\",\"#FECB52\"],\"font\":{\"color\":\"#2a3f5f\"},\"geo\":{\"bgcolor\":\"white\",\"lakecolor\":\"white\",\"landcolor\":\"#E5ECF6\",\"showlakes\":true,\"showland\":true,\"subunitcolor\":\"white\"},\"hoverlabel\":{\"align\":\"left\"},\"hovermode\":\"closest\",\"mapbox\":{\"style\":\"light\"},\"paper_bgcolor\":\"white\",\"plot_bgcolor\":\"#E5ECF6\",\"polar\":{\"angularaxis\":{\"gridcolor\":\"white\",\"linecolor\":\"white\",\"ticks\":\"\"},\"bgcolor\":\"#E5ECF6\",\"radialaxis\":{\"gridcolor\":\"white\",\"linecolor\":\"white\",\"ticks\":\"\"}},\"scene\":{\"xaxis\":{\"backgroundcolor\":\"#E5ECF6\",\"gridcolor\":\"white\",\"gridwidth\":2,\"linecolor\":\"white\",\"showbackground\":true,\"ticks\":\"\",\"zerolinecolor\":\"white\"},\"yaxis\":{\"backgroundcolor\":\"#E5ECF6\",\"gridcolor\":\"white\",\"gridwidth\":2,\"linecolor\":\"white\",\"showbackground\":true,\"ticks\":\"\",\"zerolinecolor\":\"white\"},\"zaxis\":{\"backgroundcolor\":\"#E5ECF6\",\"gridcolor\":\"white\",\"gridwidth\":2,\"linecolor\":\"white\",\"showbackground\":true,\"ticks\":\"\",\"zerolinecolor\":\"white\"}},\"shapedefaults\":{\"line\":{\"color\":\"#2a3f5f\"}},\"ternary\":{\"aaxis\":{\"gridcolor\":\"white\",\"linecolor\":\"white\",\"ticks\":\"\"},\"baxis\":{\"gridcolor\":\"white\",\"linecolor\":\"white\",\"ticks\":\"\"},\"bgcolor\":\"#E5ECF6\",\"caxis\":{\"gridcolor\":\"white\",\"linecolor\":\"white\",\"ticks\":\"\"}},\"title\":{\"x\":0.05},\"xaxis\":{\"automargin\":true,\"gridcolor\":\"white\",\"linecolor\":\"white\",\"ticks\":\"\",\"title\":{\"standoff\":15},\"zerolinecolor\":\"white\",\"zerolinewidth\":2},\"yaxis\":{\"automargin\":true,\"gridcolor\":\"white\",\"linecolor\":\"white\",\"ticks\":\"\",\"title\":{\"standoff\":15},\"zerolinecolor\":\"white\",\"zerolinewidth\":2}}},\"title\":{\"text\":\"Most Content Director in Netflix\",\"font\":{\"color\":\"maroon\",\"size\":32}},\"xaxis\":{\"tickfont\":{\"size\":14,\"color\":\"maroon\"},\"title\":{\"text\":\"Content\",\"font\":{\"color\":\"maroon\"}}},\"yaxis\":{\"title\":{\"text\":\"Director\",\"font\":{\"size\":16,\"color\":\"maroon\"}},\"tickfont\":{\"size\":14,\"color\":\"maroon\"}},\"barmode\":\"stack\",\"height\":500},                        {\"responsive\": true}                    ).then(function(){\n",
              "                            \n",
              "var gd = document.getElementById('5a9006b6-e6b6-4cef-883d-eaf0b2e47827');\n",
              "var x = new MutationObserver(function (mutations, observer) {{\n",
              "        var display = window.getComputedStyle(gd).display;\n",
              "        if (!display || display === 'none') {{\n",
              "            console.log([gd, 'removed!']);\n",
              "            Plotly.purge(gd);\n",
              "            observer.disconnect();\n",
              "        }}\n",
              "}});\n",
              "\n",
              "// Listen for the removal of the full notebook cells\n",
              "var notebookContainer = gd.closest('#notebook-container');\n",
              "if (notebookContainer) {{\n",
              "    x.observe(notebookContainer, {childList: true});\n",
              "}}\n",
              "\n",
              "// Listen for the clearing of the current output cell\n",
              "var outputEl = gd.closest('.output');\n",
              "if (outputEl) {{\n",
              "    x.observe(outputEl, {childList: true});\n",
              "}}\n",
              "\n",
              "                        })                };                            </script>        </div>\n",
              "</body>\n",
              "</html>"
            ]
          },
          "metadata": {}
        }
      ]
    },
    {
      "cell_type": "markdown",
      "source": [
        "##3. Negara mana yang paling sering membuat film?"
      ],
      "metadata": {
        "id": "tK_2Va8wXFnr"
      },
      "id": "tK_2Va8wXFnr"
    },
    {
      "cell_type": "code",
      "source": [
        "df2 = df.country.value_counts()\n",
        "df2 = df2.head(10)\n",
        "fig = go.Figure()\n",
        "fig.add_trace(go.Bar(x=df2.index,y=df2,text=df2\n",
        "              ,marker_color='maroon', name='Content'))\n",
        "fig.update_layout(\n",
        "    title='Most Country Production in Content Netflix',title_font_color=\"maroon\",title_font_size=32,\n",
        "    xaxis_tickfont_size=14,xaxis_tickfont_color='red',\n",
        "    yaxis=dict(\n",
        "        title='Content',\n",
        "        titlefont_size=16,\n",
        "        tickfont_size=14,\n",
        "    ))\n",
        "fig.update_traces(texttemplate='%{text:} Content', textposition='outside')\n",
        "fig.show(renderer='colab')"
      ],
      "metadata": {
        "colab": {
          "base_uri": "https://localhost:8080/",
          "height": 542
        },
        "id": "3GXFWCZ3O0Bc",
        "outputId": "36d55d8b-64ae-4527-d3a7-21caf945b133"
      },
      "id": "3GXFWCZ3O0Bc",
      "execution_count": 23,
      "outputs": [
        {
          "output_type": "display_data",
          "data": {
            "text/html": [
              "<html>\n",
              "<head><meta charset=\"utf-8\" /></head>\n",
              "<body>\n",
              "    <div>            <script src=\"https://cdnjs.cloudflare.com/ajax/libs/mathjax/2.7.5/MathJax.js?config=TeX-AMS-MML_SVG\"></script><script type=\"text/javascript\">if (window.MathJax) {MathJax.Hub.Config({SVG: {font: \"STIX-Web\"}});}</script>                <script type=\"text/javascript\">window.PlotlyConfig = {MathJaxConfig: 'local'};</script>\n",
              "        <script src=\"https://cdn.plot.ly/plotly-2.8.3.min.js\"></script>                <div id=\"0a57b2ea-da52-488e-9509-7134d557f570\" class=\"plotly-graph-div\" style=\"height:525px; width:100%;\"></div>            <script type=\"text/javascript\">                                    window.PLOTLYENV=window.PLOTLYENV || {};                                    if (document.getElementById(\"0a57b2ea-da52-488e-9509-7134d557f570\")) {                    Plotly.newPlot(                        \"0a57b2ea-da52-488e-9509-7134d557f570\",                        [{\"marker\":{\"color\":\"maroon\"},\"name\":\"Content\",\"text\":[3638.0,972.0,418.0,243.0,199.0,181.0,145.0,124.0,110.0,106.0],\"x\":[\"United States\",\"India\",\"United Kingdom\",\"Japan\",\"South Korea\",\"Canada\",\"Spain\",\"France\",\"Mexico\",\"Egypt\"],\"y\":[3638,972,418,243,199,181,145,124,110,106],\"type\":\"bar\",\"textposition\":\"outside\",\"texttemplate\":\"%{text:} Content\"}],                        {\"template\":{\"data\":{\"bar\":[{\"error_x\":{\"color\":\"#2a3f5f\"},\"error_y\":{\"color\":\"#2a3f5f\"},\"marker\":{\"line\":{\"color\":\"#E5ECF6\",\"width\":0.5},\"pattern\":{\"fillmode\":\"overlay\",\"size\":10,\"solidity\":0.2}},\"type\":\"bar\"}],\"barpolar\":[{\"marker\":{\"line\":{\"color\":\"#E5ECF6\",\"width\":0.5},\"pattern\":{\"fillmode\":\"overlay\",\"size\":10,\"solidity\":0.2}},\"type\":\"barpolar\"}],\"carpet\":[{\"aaxis\":{\"endlinecolor\":\"#2a3f5f\",\"gridcolor\":\"white\",\"linecolor\":\"white\",\"minorgridcolor\":\"white\",\"startlinecolor\":\"#2a3f5f\"},\"baxis\":{\"endlinecolor\":\"#2a3f5f\",\"gridcolor\":\"white\",\"linecolor\":\"white\",\"minorgridcolor\":\"white\",\"startlinecolor\":\"#2a3f5f\"},\"type\":\"carpet\"}],\"choropleth\":[{\"colorbar\":{\"outlinewidth\":0,\"ticks\":\"\"},\"type\":\"choropleth\"}],\"contour\":[{\"colorbar\":{\"outlinewidth\":0,\"ticks\":\"\"},\"colorscale\":[[0.0,\"#0d0887\"],[0.1111111111111111,\"#46039f\"],[0.2222222222222222,\"#7201a8\"],[0.3333333333333333,\"#9c179e\"],[0.4444444444444444,\"#bd3786\"],[0.5555555555555556,\"#d8576b\"],[0.6666666666666666,\"#ed7953\"],[0.7777777777777778,\"#fb9f3a\"],[0.8888888888888888,\"#fdca26\"],[1.0,\"#f0f921\"]],\"type\":\"contour\"}],\"contourcarpet\":[{\"colorbar\":{\"outlinewidth\":0,\"ticks\":\"\"},\"type\":\"contourcarpet\"}],\"heatmap\":[{\"colorbar\":{\"outlinewidth\":0,\"ticks\":\"\"},\"colorscale\":[[0.0,\"#0d0887\"],[0.1111111111111111,\"#46039f\"],[0.2222222222222222,\"#7201a8\"],[0.3333333333333333,\"#9c179e\"],[0.4444444444444444,\"#bd3786\"],[0.5555555555555556,\"#d8576b\"],[0.6666666666666666,\"#ed7953\"],[0.7777777777777778,\"#fb9f3a\"],[0.8888888888888888,\"#fdca26\"],[1.0,\"#f0f921\"]],\"type\":\"heatmap\"}],\"heatmapgl\":[{\"colorbar\":{\"outlinewidth\":0,\"ticks\":\"\"},\"colorscale\":[[0.0,\"#0d0887\"],[0.1111111111111111,\"#46039f\"],[0.2222222222222222,\"#7201a8\"],[0.3333333333333333,\"#9c179e\"],[0.4444444444444444,\"#bd3786\"],[0.5555555555555556,\"#d8576b\"],[0.6666666666666666,\"#ed7953\"],[0.7777777777777778,\"#fb9f3a\"],[0.8888888888888888,\"#fdca26\"],[1.0,\"#f0f921\"]],\"type\":\"heatmapgl\"}],\"histogram\":[{\"marker\":{\"pattern\":{\"fillmode\":\"overlay\",\"size\":10,\"solidity\":0.2}},\"type\":\"histogram\"}],\"histogram2d\":[{\"colorbar\":{\"outlinewidth\":0,\"ticks\":\"\"},\"colorscale\":[[0.0,\"#0d0887\"],[0.1111111111111111,\"#46039f\"],[0.2222222222222222,\"#7201a8\"],[0.3333333333333333,\"#9c179e\"],[0.4444444444444444,\"#bd3786\"],[0.5555555555555556,\"#d8576b\"],[0.6666666666666666,\"#ed7953\"],[0.7777777777777778,\"#fb9f3a\"],[0.8888888888888888,\"#fdca26\"],[1.0,\"#f0f921\"]],\"type\":\"histogram2d\"}],\"histogram2dcontour\":[{\"colorbar\":{\"outlinewidth\":0,\"ticks\":\"\"},\"colorscale\":[[0.0,\"#0d0887\"],[0.1111111111111111,\"#46039f\"],[0.2222222222222222,\"#7201a8\"],[0.3333333333333333,\"#9c179e\"],[0.4444444444444444,\"#bd3786\"],[0.5555555555555556,\"#d8576b\"],[0.6666666666666666,\"#ed7953\"],[0.7777777777777778,\"#fb9f3a\"],[0.8888888888888888,\"#fdca26\"],[1.0,\"#f0f921\"]],\"type\":\"histogram2dcontour\"}],\"mesh3d\":[{\"colorbar\":{\"outlinewidth\":0,\"ticks\":\"\"},\"type\":\"mesh3d\"}],\"parcoords\":[{\"line\":{\"colorbar\":{\"outlinewidth\":0,\"ticks\":\"\"}},\"type\":\"parcoords\"}],\"pie\":[{\"automargin\":true,\"type\":\"pie\"}],\"scatter\":[{\"marker\":{\"colorbar\":{\"outlinewidth\":0,\"ticks\":\"\"}},\"type\":\"scatter\"}],\"scatter3d\":[{\"line\":{\"colorbar\":{\"outlinewidth\":0,\"ticks\":\"\"}},\"marker\":{\"colorbar\":{\"outlinewidth\":0,\"ticks\":\"\"}},\"type\":\"scatter3d\"}],\"scattercarpet\":[{\"marker\":{\"colorbar\":{\"outlinewidth\":0,\"ticks\":\"\"}},\"type\":\"scattercarpet\"}],\"scattergeo\":[{\"marker\":{\"colorbar\":{\"outlinewidth\":0,\"ticks\":\"\"}},\"type\":\"scattergeo\"}],\"scattergl\":[{\"marker\":{\"colorbar\":{\"outlinewidth\":0,\"ticks\":\"\"}},\"type\":\"scattergl\"}],\"scattermapbox\":[{\"marker\":{\"colorbar\":{\"outlinewidth\":0,\"ticks\":\"\"}},\"type\":\"scattermapbox\"}],\"scatterpolar\":[{\"marker\":{\"colorbar\":{\"outlinewidth\":0,\"ticks\":\"\"}},\"type\":\"scatterpolar\"}],\"scatterpolargl\":[{\"marker\":{\"colorbar\":{\"outlinewidth\":0,\"ticks\":\"\"}},\"type\":\"scatterpolargl\"}],\"scatterternary\":[{\"marker\":{\"colorbar\":{\"outlinewidth\":0,\"ticks\":\"\"}},\"type\":\"scatterternary\"}],\"surface\":[{\"colorbar\":{\"outlinewidth\":0,\"ticks\":\"\"},\"colorscale\":[[0.0,\"#0d0887\"],[0.1111111111111111,\"#46039f\"],[0.2222222222222222,\"#7201a8\"],[0.3333333333333333,\"#9c179e\"],[0.4444444444444444,\"#bd3786\"],[0.5555555555555556,\"#d8576b\"],[0.6666666666666666,\"#ed7953\"],[0.7777777777777778,\"#fb9f3a\"],[0.8888888888888888,\"#fdca26\"],[1.0,\"#f0f921\"]],\"type\":\"surface\"}],\"table\":[{\"cells\":{\"fill\":{\"color\":\"#EBF0F8\"},\"line\":{\"color\":\"white\"}},\"header\":{\"fill\":{\"color\":\"#C8D4E3\"},\"line\":{\"color\":\"white\"}},\"type\":\"table\"}]},\"layout\":{\"annotationdefaults\":{\"arrowcolor\":\"#2a3f5f\",\"arrowhead\":0,\"arrowwidth\":1},\"autotypenumbers\":\"strict\",\"coloraxis\":{\"colorbar\":{\"outlinewidth\":0,\"ticks\":\"\"}},\"colorscale\":{\"diverging\":[[0,\"#8e0152\"],[0.1,\"#c51b7d\"],[0.2,\"#de77ae\"],[0.3,\"#f1b6da\"],[0.4,\"#fde0ef\"],[0.5,\"#f7f7f7\"],[0.6,\"#e6f5d0\"],[0.7,\"#b8e186\"],[0.8,\"#7fbc41\"],[0.9,\"#4d9221\"],[1,\"#276419\"]],\"sequential\":[[0.0,\"#0d0887\"],[0.1111111111111111,\"#46039f\"],[0.2222222222222222,\"#7201a8\"],[0.3333333333333333,\"#9c179e\"],[0.4444444444444444,\"#bd3786\"],[0.5555555555555556,\"#d8576b\"],[0.6666666666666666,\"#ed7953\"],[0.7777777777777778,\"#fb9f3a\"],[0.8888888888888888,\"#fdca26\"],[1.0,\"#f0f921\"]],\"sequentialminus\":[[0.0,\"#0d0887\"],[0.1111111111111111,\"#46039f\"],[0.2222222222222222,\"#7201a8\"],[0.3333333333333333,\"#9c179e\"],[0.4444444444444444,\"#bd3786\"],[0.5555555555555556,\"#d8576b\"],[0.6666666666666666,\"#ed7953\"],[0.7777777777777778,\"#fb9f3a\"],[0.8888888888888888,\"#fdca26\"],[1.0,\"#f0f921\"]]},\"colorway\":[\"#636efa\",\"#EF553B\",\"#00cc96\",\"#ab63fa\",\"#FFA15A\",\"#19d3f3\",\"#FF6692\",\"#B6E880\",\"#FF97FF\",\"#FECB52\"],\"font\":{\"color\":\"#2a3f5f\"},\"geo\":{\"bgcolor\":\"white\",\"lakecolor\":\"white\",\"landcolor\":\"#E5ECF6\",\"showlakes\":true,\"showland\":true,\"subunitcolor\":\"white\"},\"hoverlabel\":{\"align\":\"left\"},\"hovermode\":\"closest\",\"mapbox\":{\"style\":\"light\"},\"paper_bgcolor\":\"white\",\"plot_bgcolor\":\"#E5ECF6\",\"polar\":{\"angularaxis\":{\"gridcolor\":\"white\",\"linecolor\":\"white\",\"ticks\":\"\"},\"bgcolor\":\"#E5ECF6\",\"radialaxis\":{\"gridcolor\":\"white\",\"linecolor\":\"white\",\"ticks\":\"\"}},\"scene\":{\"xaxis\":{\"backgroundcolor\":\"#E5ECF6\",\"gridcolor\":\"white\",\"gridwidth\":2,\"linecolor\":\"white\",\"showbackground\":true,\"ticks\":\"\",\"zerolinecolor\":\"white\"},\"yaxis\":{\"backgroundcolor\":\"#E5ECF6\",\"gridcolor\":\"white\",\"gridwidth\":2,\"linecolor\":\"white\",\"showbackground\":true,\"ticks\":\"\",\"zerolinecolor\":\"white\"},\"zaxis\":{\"backgroundcolor\":\"#E5ECF6\",\"gridcolor\":\"white\",\"gridwidth\":2,\"linecolor\":\"white\",\"showbackground\":true,\"ticks\":\"\",\"zerolinecolor\":\"white\"}},\"shapedefaults\":{\"line\":{\"color\":\"#2a3f5f\"}},\"ternary\":{\"aaxis\":{\"gridcolor\":\"white\",\"linecolor\":\"white\",\"ticks\":\"\"},\"baxis\":{\"gridcolor\":\"white\",\"linecolor\":\"white\",\"ticks\":\"\"},\"bgcolor\":\"#E5ECF6\",\"caxis\":{\"gridcolor\":\"white\",\"linecolor\":\"white\",\"ticks\":\"\"}},\"title\":{\"x\":0.05},\"xaxis\":{\"automargin\":true,\"gridcolor\":\"white\",\"linecolor\":\"white\",\"ticks\":\"\",\"title\":{\"standoff\":15},\"zerolinecolor\":\"white\",\"zerolinewidth\":2},\"yaxis\":{\"automargin\":true,\"gridcolor\":\"white\",\"linecolor\":\"white\",\"ticks\":\"\",\"title\":{\"standoff\":15},\"zerolinecolor\":\"white\",\"zerolinewidth\":2}}},\"title\":{\"text\":\"Most Country Production in Content Netflix\",\"font\":{\"color\":\"maroon\",\"size\":32}},\"xaxis\":{\"tickfont\":{\"size\":14,\"color\":\"red\"}},\"yaxis\":{\"title\":{\"text\":\"Content\",\"font\":{\"size\":16}},\"tickfont\":{\"size\":14}}},                        {\"responsive\": true}                    ).then(function(){\n",
              "                            \n",
              "var gd = document.getElementById('0a57b2ea-da52-488e-9509-7134d557f570');\n",
              "var x = new MutationObserver(function (mutations, observer) {{\n",
              "        var display = window.getComputedStyle(gd).display;\n",
              "        if (!display || display === 'none') {{\n",
              "            console.log([gd, 'removed!']);\n",
              "            Plotly.purge(gd);\n",
              "            observer.disconnect();\n",
              "        }}\n",
              "}});\n",
              "\n",
              "// Listen for the removal of the full notebook cells\n",
              "var notebookContainer = gd.closest('#notebook-container');\n",
              "if (notebookContainer) {{\n",
              "    x.observe(notebookContainer, {childList: true});\n",
              "}}\n",
              "\n",
              "// Listen for the clearing of the current output cell\n",
              "var outputEl = gd.closest('.output');\n",
              "if (outputEl) {{\n",
              "    x.observe(outputEl, {childList: true});\n",
              "}}\n",
              "\n",
              "                        })                };                            </script>        </div>\n",
              "</body>\n",
              "</html>"
            ]
          },
          "metadata": {}
        }
      ]
    },
    {
      "cell_type": "markdown",
      "source": [
        "##4.bagaimana trend release film berdasarkan tipe film?"
      ],
      "metadata": {
        "id": "h_sgbxqtPf_n"
      },
      "id": "h_sgbxqtPf_n"
    },
    {
      "cell_type": "code",
      "source": [
        "df4 = df.groupby(['release_year','type'])['show_id'].count().reset_index()\n",
        "fig = go.Figure()\n",
        "fig.add_trace(go.Scatter(name='TV Show',x=df4[df4['type'] == 'TV Show']['release_year'], y=df4[df4['type'] == 'TV Show']['show_id'],\n",
        "                         line=dict(color='maroon', width=2)))\n",
        "fig.add_trace(go.Scatter(name='Movie',x=df4[df4['type'] == 'Movie']['release_year'], y=df4[df4['type'] == 'Movie']['show_id'],\n",
        "                         line=dict(color='black', width=2)))\n",
        "fig.add_trace(go.Scatter(name='Movie + TV Show',x=df4['release_year'].unique(), y=df.groupby('release_year').size(),\n",
        "                         line=dict(color='blue', width=2)))\n",
        "fig.update_layout(\n",
        "    title='Trend Release Content Netflix',title_font_color=\"maroon\",title_font_size=32,width=800,\n",
        "    xaxis_tickfont_size=14,xaxis_tickfont_color='maroon',xaxis_title='Year',xaxis_titlefont_color='maroon',\n",
        "    yaxis=dict(\n",
        "        title='Count',\n",
        "        titlefont_size=16,\n",
        "        tickfont_size=14,\n",
        "        titlefont_color='maroon',\n",
        "        tickfont_color='maroon'\n",
        "    ))\n",
        "fig.show()"
      ],
      "metadata": {
        "colab": {
          "base_uri": "https://localhost:8080/",
          "height": 542
        },
        "id": "HaII3mDzeiZu",
        "outputId": "a07c264f-b857-42a0-baa2-e44a054a65b4"
      },
      "id": "HaII3mDzeiZu",
      "execution_count": 17,
      "outputs": [
        {
          "output_type": "display_data",
          "data": {
            "text/html": [
              "<html>\n",
              "<head><meta charset=\"utf-8\" /></head>\n",
              "<body>\n",
              "    <div>            <script src=\"https://cdnjs.cloudflare.com/ajax/libs/mathjax/2.7.5/MathJax.js?config=TeX-AMS-MML_SVG\"></script><script type=\"text/javascript\">if (window.MathJax) {MathJax.Hub.Config({SVG: {font: \"STIX-Web\"}});}</script>                <script type=\"text/javascript\">window.PlotlyConfig = {MathJaxConfig: 'local'};</script>\n",
              "        <script src=\"https://cdn.plot.ly/plotly-2.8.3.min.js\"></script>                <div id=\"9c4f01e0-744e-4dff-a12e-249aff42f049\" class=\"plotly-graph-div\" style=\"height:525px; width:800px;\"></div>            <script type=\"text/javascript\">                                    window.PLOTLYENV=window.PLOTLYENV || {};                                    if (document.getElementById(\"9c4f01e0-744e-4dff-a12e-249aff42f049\")) {                    Plotly.newPlot(                        \"9c4f01e0-744e-4dff-a12e-249aff42f049\",                        [{\"line\":{\"color\":\"maroon\",\"width\":2},\"name\":\"TV Show\",\"x\":[1925,1945,1946,1963,1967,1972,1974,1977,1979,1981,1985,1986,1988,1989,1990,1991,1992,1993,1994,1995,1996,1997,1998,1999,2000,2001,2002,2003,2004,2005,2006,2007,2008,2009,2010,2011,2012,2013,2014,2015,2016,2017,2018,2019,2020,2021],\"y\":[1,1,1,1,1,1,1,1,1,1,1,2,2,1,3,1,3,4,2,2,3,4,4,7,4,5,7,8,9,13,14,14,22,34,39,40,63,61,88,159,243,265,379,397,436,315],\"type\":\"scatter\"},{\"line\":{\"color\":\"black\",\"width\":2},\"name\":\"Movie\",\"x\":[1942,1943,1944,1945,1946,1947,1954,1955,1956,1958,1959,1960,1961,1962,1963,1964,1965,1966,1967,1968,1969,1970,1971,1972,1973,1974,1975,1976,1977,1978,1979,1980,1981,1982,1983,1984,1985,1986,1987,1988,1989,1990,1991,1992,1993,1994,1995,1996,1997,1998,1999,2000,2001,2002,2003,2004,2005,2006,2007,2008,2009,2010,2011,2012,2013,2014,2015,2016,2017,2018,2019,2020,2021],\"y\":[2,3,3,3,1,1,2,3,2,3,1,4,1,3,1,2,2,1,4,3,2,2,5,4,10,6,7,9,6,7,10,11,12,17,11,12,9,11,8,16,15,19,16,20,24,20,23,21,34,32,32,33,40,44,51,55,67,82,74,113,118,153,145,173,225,264,396,658,765,767,633,517,277],\"type\":\"scatter\"},{\"line\":{\"color\":\"blue\",\"width\":2},\"name\":\"Movie + TV Show\",\"x\":[1925,1942,1943,1944,1945,1946,1947,1954,1955,1956,1958,1959,1960,1961,1962,1963,1964,1965,1966,1967,1968,1969,1970,1971,1972,1973,1974,1975,1976,1977,1978,1979,1980,1981,1982,1983,1984,1985,1986,1987,1988,1989,1990,1991,1992,1993,1994,1995,1996,1997,1998,1999,2000,2001,2002,2003,2004,2005,2006,2007,2008,2009,2010,2011,2012,2013,2014,2015,2016,2017,2018,2019,2020,2021],\"y\":[1,2,3,3,4,2,1,2,3,2,3,1,4,1,3,2,2,2,1,5,3,2,2,5,5,10,7,7,9,7,7,11,11,13,17,11,12,10,13,8,18,16,22,17,23,28,22,25,24,38,36,39,37,45,51,59,64,80,96,88,135,152,192,185,236,286,352,555,901,1030,1146,1030,953,592],\"type\":\"scatter\"}],                        {\"template\":{\"data\":{\"bar\":[{\"error_x\":{\"color\":\"#2a3f5f\"},\"error_y\":{\"color\":\"#2a3f5f\"},\"marker\":{\"line\":{\"color\":\"#E5ECF6\",\"width\":0.5},\"pattern\":{\"fillmode\":\"overlay\",\"size\":10,\"solidity\":0.2}},\"type\":\"bar\"}],\"barpolar\":[{\"marker\":{\"line\":{\"color\":\"#E5ECF6\",\"width\":0.5},\"pattern\":{\"fillmode\":\"overlay\",\"size\":10,\"solidity\":0.2}},\"type\":\"barpolar\"}],\"carpet\":[{\"aaxis\":{\"endlinecolor\":\"#2a3f5f\",\"gridcolor\":\"white\",\"linecolor\":\"white\",\"minorgridcolor\":\"white\",\"startlinecolor\":\"#2a3f5f\"},\"baxis\":{\"endlinecolor\":\"#2a3f5f\",\"gridcolor\":\"white\",\"linecolor\":\"white\",\"minorgridcolor\":\"white\",\"startlinecolor\":\"#2a3f5f\"},\"type\":\"carpet\"}],\"choropleth\":[{\"colorbar\":{\"outlinewidth\":0,\"ticks\":\"\"},\"type\":\"choropleth\"}],\"contour\":[{\"colorbar\":{\"outlinewidth\":0,\"ticks\":\"\"},\"colorscale\":[[0.0,\"#0d0887\"],[0.1111111111111111,\"#46039f\"],[0.2222222222222222,\"#7201a8\"],[0.3333333333333333,\"#9c179e\"],[0.4444444444444444,\"#bd3786\"],[0.5555555555555556,\"#d8576b\"],[0.6666666666666666,\"#ed7953\"],[0.7777777777777778,\"#fb9f3a\"],[0.8888888888888888,\"#fdca26\"],[1.0,\"#f0f921\"]],\"type\":\"contour\"}],\"contourcarpet\":[{\"colorbar\":{\"outlinewidth\":0,\"ticks\":\"\"},\"type\":\"contourcarpet\"}],\"heatmap\":[{\"colorbar\":{\"outlinewidth\":0,\"ticks\":\"\"},\"colorscale\":[[0.0,\"#0d0887\"],[0.1111111111111111,\"#46039f\"],[0.2222222222222222,\"#7201a8\"],[0.3333333333333333,\"#9c179e\"],[0.4444444444444444,\"#bd3786\"],[0.5555555555555556,\"#d8576b\"],[0.6666666666666666,\"#ed7953\"],[0.7777777777777778,\"#fb9f3a\"],[0.8888888888888888,\"#fdca26\"],[1.0,\"#f0f921\"]],\"type\":\"heatmap\"}],\"heatmapgl\":[{\"colorbar\":{\"outlinewidth\":0,\"ticks\":\"\"},\"colorscale\":[[0.0,\"#0d0887\"],[0.1111111111111111,\"#46039f\"],[0.2222222222222222,\"#7201a8\"],[0.3333333333333333,\"#9c179e\"],[0.4444444444444444,\"#bd3786\"],[0.5555555555555556,\"#d8576b\"],[0.6666666666666666,\"#ed7953\"],[0.7777777777777778,\"#fb9f3a\"],[0.8888888888888888,\"#fdca26\"],[1.0,\"#f0f921\"]],\"type\":\"heatmapgl\"}],\"histogram\":[{\"marker\":{\"pattern\":{\"fillmode\":\"overlay\",\"size\":10,\"solidity\":0.2}},\"type\":\"histogram\"}],\"histogram2d\":[{\"colorbar\":{\"outlinewidth\":0,\"ticks\":\"\"},\"colorscale\":[[0.0,\"#0d0887\"],[0.1111111111111111,\"#46039f\"],[0.2222222222222222,\"#7201a8\"],[0.3333333333333333,\"#9c179e\"],[0.4444444444444444,\"#bd3786\"],[0.5555555555555556,\"#d8576b\"],[0.6666666666666666,\"#ed7953\"],[0.7777777777777778,\"#fb9f3a\"],[0.8888888888888888,\"#fdca26\"],[1.0,\"#f0f921\"]],\"type\":\"histogram2d\"}],\"histogram2dcontour\":[{\"colorbar\":{\"outlinewidth\":0,\"ticks\":\"\"},\"colorscale\":[[0.0,\"#0d0887\"],[0.1111111111111111,\"#46039f\"],[0.2222222222222222,\"#7201a8\"],[0.3333333333333333,\"#9c179e\"],[0.4444444444444444,\"#bd3786\"],[0.5555555555555556,\"#d8576b\"],[0.6666666666666666,\"#ed7953\"],[0.7777777777777778,\"#fb9f3a\"],[0.8888888888888888,\"#fdca26\"],[1.0,\"#f0f921\"]],\"type\":\"histogram2dcontour\"}],\"mesh3d\":[{\"colorbar\":{\"outlinewidth\":0,\"ticks\":\"\"},\"type\":\"mesh3d\"}],\"parcoords\":[{\"line\":{\"colorbar\":{\"outlinewidth\":0,\"ticks\":\"\"}},\"type\":\"parcoords\"}],\"pie\":[{\"automargin\":true,\"type\":\"pie\"}],\"scatter\":[{\"marker\":{\"colorbar\":{\"outlinewidth\":0,\"ticks\":\"\"}},\"type\":\"scatter\"}],\"scatter3d\":[{\"line\":{\"colorbar\":{\"outlinewidth\":0,\"ticks\":\"\"}},\"marker\":{\"colorbar\":{\"outlinewidth\":0,\"ticks\":\"\"}},\"type\":\"scatter3d\"}],\"scattercarpet\":[{\"marker\":{\"colorbar\":{\"outlinewidth\":0,\"ticks\":\"\"}},\"type\":\"scattercarpet\"}],\"scattergeo\":[{\"marker\":{\"colorbar\":{\"outlinewidth\":0,\"ticks\":\"\"}},\"type\":\"scattergeo\"}],\"scattergl\":[{\"marker\":{\"colorbar\":{\"outlinewidth\":0,\"ticks\":\"\"}},\"type\":\"scattergl\"}],\"scattermapbox\":[{\"marker\":{\"colorbar\":{\"outlinewidth\":0,\"ticks\":\"\"}},\"type\":\"scattermapbox\"}],\"scatterpolar\":[{\"marker\":{\"colorbar\":{\"outlinewidth\":0,\"ticks\":\"\"}},\"type\":\"scatterpolar\"}],\"scatterpolargl\":[{\"marker\":{\"colorbar\":{\"outlinewidth\":0,\"ticks\":\"\"}},\"type\":\"scatterpolargl\"}],\"scatterternary\":[{\"marker\":{\"colorbar\":{\"outlinewidth\":0,\"ticks\":\"\"}},\"type\":\"scatterternary\"}],\"surface\":[{\"colorbar\":{\"outlinewidth\":0,\"ticks\":\"\"},\"colorscale\":[[0.0,\"#0d0887\"],[0.1111111111111111,\"#46039f\"],[0.2222222222222222,\"#7201a8\"],[0.3333333333333333,\"#9c179e\"],[0.4444444444444444,\"#bd3786\"],[0.5555555555555556,\"#d8576b\"],[0.6666666666666666,\"#ed7953\"],[0.7777777777777778,\"#fb9f3a\"],[0.8888888888888888,\"#fdca26\"],[1.0,\"#f0f921\"]],\"type\":\"surface\"}],\"table\":[{\"cells\":{\"fill\":{\"color\":\"#EBF0F8\"},\"line\":{\"color\":\"white\"}},\"header\":{\"fill\":{\"color\":\"#C8D4E3\"},\"line\":{\"color\":\"white\"}},\"type\":\"table\"}]},\"layout\":{\"annotationdefaults\":{\"arrowcolor\":\"#2a3f5f\",\"arrowhead\":0,\"arrowwidth\":1},\"autotypenumbers\":\"strict\",\"coloraxis\":{\"colorbar\":{\"outlinewidth\":0,\"ticks\":\"\"}},\"colorscale\":{\"diverging\":[[0,\"#8e0152\"],[0.1,\"#c51b7d\"],[0.2,\"#de77ae\"],[0.3,\"#f1b6da\"],[0.4,\"#fde0ef\"],[0.5,\"#f7f7f7\"],[0.6,\"#e6f5d0\"],[0.7,\"#b8e186\"],[0.8,\"#7fbc41\"],[0.9,\"#4d9221\"],[1,\"#276419\"]],\"sequential\":[[0.0,\"#0d0887\"],[0.1111111111111111,\"#46039f\"],[0.2222222222222222,\"#7201a8\"],[0.3333333333333333,\"#9c179e\"],[0.4444444444444444,\"#bd3786\"],[0.5555555555555556,\"#d8576b\"],[0.6666666666666666,\"#ed7953\"],[0.7777777777777778,\"#fb9f3a\"],[0.8888888888888888,\"#fdca26\"],[1.0,\"#f0f921\"]],\"sequentialminus\":[[0.0,\"#0d0887\"],[0.1111111111111111,\"#46039f\"],[0.2222222222222222,\"#7201a8\"],[0.3333333333333333,\"#9c179e\"],[0.4444444444444444,\"#bd3786\"],[0.5555555555555556,\"#d8576b\"],[0.6666666666666666,\"#ed7953\"],[0.7777777777777778,\"#fb9f3a\"],[0.8888888888888888,\"#fdca26\"],[1.0,\"#f0f921\"]]},\"colorway\":[\"#636efa\",\"#EF553B\",\"#00cc96\",\"#ab63fa\",\"#FFA15A\",\"#19d3f3\",\"#FF6692\",\"#B6E880\",\"#FF97FF\",\"#FECB52\"],\"font\":{\"color\":\"#2a3f5f\"},\"geo\":{\"bgcolor\":\"white\",\"lakecolor\":\"white\",\"landcolor\":\"#E5ECF6\",\"showlakes\":true,\"showland\":true,\"subunitcolor\":\"white\"},\"hoverlabel\":{\"align\":\"left\"},\"hovermode\":\"closest\",\"mapbox\":{\"style\":\"light\"},\"paper_bgcolor\":\"white\",\"plot_bgcolor\":\"#E5ECF6\",\"polar\":{\"angularaxis\":{\"gridcolor\":\"white\",\"linecolor\":\"white\",\"ticks\":\"\"},\"bgcolor\":\"#E5ECF6\",\"radialaxis\":{\"gridcolor\":\"white\",\"linecolor\":\"white\",\"ticks\":\"\"}},\"scene\":{\"xaxis\":{\"backgroundcolor\":\"#E5ECF6\",\"gridcolor\":\"white\",\"gridwidth\":2,\"linecolor\":\"white\",\"showbackground\":true,\"ticks\":\"\",\"zerolinecolor\":\"white\"},\"yaxis\":{\"backgroundcolor\":\"#E5ECF6\",\"gridcolor\":\"white\",\"gridwidth\":2,\"linecolor\":\"white\",\"showbackground\":true,\"ticks\":\"\",\"zerolinecolor\":\"white\"},\"zaxis\":{\"backgroundcolor\":\"#E5ECF6\",\"gridcolor\":\"white\",\"gridwidth\":2,\"linecolor\":\"white\",\"showbackground\":true,\"ticks\":\"\",\"zerolinecolor\":\"white\"}},\"shapedefaults\":{\"line\":{\"color\":\"#2a3f5f\"}},\"ternary\":{\"aaxis\":{\"gridcolor\":\"white\",\"linecolor\":\"white\",\"ticks\":\"\"},\"baxis\":{\"gridcolor\":\"white\",\"linecolor\":\"white\",\"ticks\":\"\"},\"bgcolor\":\"#E5ECF6\",\"caxis\":{\"gridcolor\":\"white\",\"linecolor\":\"white\",\"ticks\":\"\"}},\"title\":{\"x\":0.05},\"xaxis\":{\"automargin\":true,\"gridcolor\":\"white\",\"linecolor\":\"white\",\"ticks\":\"\",\"title\":{\"standoff\":15},\"zerolinecolor\":\"white\",\"zerolinewidth\":2},\"yaxis\":{\"automargin\":true,\"gridcolor\":\"white\",\"linecolor\":\"white\",\"ticks\":\"\",\"title\":{\"standoff\":15},\"zerolinecolor\":\"white\",\"zerolinewidth\":2}}},\"title\":{\"text\":\"Trend Release Content Netflix\",\"font\":{\"color\":\"maroon\",\"size\":32}},\"xaxis\":{\"tickfont\":{\"size\":14,\"color\":\"maroon\"},\"title\":{\"text\":\"Year\",\"font\":{\"color\":\"maroon\"}}},\"yaxis\":{\"title\":{\"text\":\"Count\",\"font\":{\"size\":16,\"color\":\"maroon\"}},\"tickfont\":{\"size\":14,\"color\":\"maroon\"}},\"width\":800},                        {\"responsive\": true}                    ).then(function(){\n",
              "                            \n",
              "var gd = document.getElementById('9c4f01e0-744e-4dff-a12e-249aff42f049');\n",
              "var x = new MutationObserver(function (mutations, observer) {{\n",
              "        var display = window.getComputedStyle(gd).display;\n",
              "        if (!display || display === 'none') {{\n",
              "            console.log([gd, 'removed!']);\n",
              "            Plotly.purge(gd);\n",
              "            observer.disconnect();\n",
              "        }}\n",
              "}});\n",
              "\n",
              "// Listen for the removal of the full notebook cells\n",
              "var notebookContainer = gd.closest('#notebook-container');\n",
              "if (notebookContainer) {{\n",
              "    x.observe(notebookContainer, {childList: true});\n",
              "}}\n",
              "\n",
              "// Listen for the clearing of the current output cell\n",
              "var outputEl = gd.closest('.output');\n",
              "if (outputEl) {{\n",
              "    x.observe(outputEl, {childList: true});\n",
              "}}\n",
              "\n",
              "                        })                };                            </script>        </div>\n",
              "</body>\n",
              "</html>"
            ]
          },
          "metadata": {}
        }
      ]
    },
    {
      "cell_type": "markdown",
      "source": [
        "##5. konten apa yang paling banyak digemari berdasarkan tipe konten?"
      ],
      "metadata": {
        "id": "hblQj9FJW0PP"
      },
      "id": "hblQj9FJW0PP"
    },
    {
      "cell_type": "code",
      "source": [
        "df3 = df.groupby(['rating','type'])['show_id'].count().reset_index().sort_values(by='show_id')\n",
        "fig = go.Figure()\n",
        "fig.add_trace( go.Bar(name='Movie',marker_color='maroon',x= df3[df3['type']=='Movie']['show_id'], y= df3[df3['type']=='Movie']['rating'], orientation = 'h', textposition='auto'))\n",
        "fig.add_trace( go.Bar(name='TV Show',marker_color='Black',x= df3[df3['type']=='TV Show']['show_id'], y= df3[df3['type']=='TV Show']['rating'], orientation = 'h',textposition='auto'))\n",
        "fig.update_layout(barmode='stack',title='Top Content Netflix based on Rating',title_font_color=\"maroon\",title_font_size=32,\n",
        "    xaxis_tickfont_size=14,xaxis_tickfont_color='maroon',xaxis_title='Count',xaxis_titlefont_color='maroon',\n",
        "    yaxis=dict(\n",
        "        title='Rating',\n",
        "        titlefont_size=16,\n",
        "        tickfont_size=14,\n",
        "        titlefont_color='maroon',\n",
        "        tickfont_color='maroon'\n",
        "    ))\n",
        "fig.show()"
      ],
      "metadata": {
        "colab": {
          "base_uri": "https://localhost:8080/",
          "height": 542
        },
        "id": "KRyD7-uiW03l",
        "outputId": "93125173-84f1-4b56-f62f-9172759acff2"
      },
      "id": "KRyD7-uiW03l",
      "execution_count": 18,
      "outputs": [
        {
          "output_type": "display_data",
          "data": {
            "text/html": [
              "<html>\n",
              "<head><meta charset=\"utf-8\" /></head>\n",
              "<body>\n",
              "    <div>            <script src=\"https://cdnjs.cloudflare.com/ajax/libs/mathjax/2.7.5/MathJax.js?config=TeX-AMS-MML_SVG\"></script><script type=\"text/javascript\">if (window.MathJax) {MathJax.Hub.Config({SVG: {font: \"STIX-Web\"}});}</script>                <script type=\"text/javascript\">window.PlotlyConfig = {MathJaxConfig: 'local'};</script>\n",
              "        <script src=\"https://cdn.plot.ly/plotly-2.8.3.min.js\"></script>                <div id=\"a3e4ee2c-296b-4e79-94e1-78b969e13d87\" class=\"plotly-graph-div\" style=\"height:525px; width:100%;\"></div>            <script type=\"text/javascript\">                                    window.PLOTLYENV=window.PLOTLYENV || {};                                    if (document.getElementById(\"a3e4ee2c-296b-4e79-94e1-78b969e13d87\")) {                    Plotly.newPlot(                        \"a3e4ee2c-296b-4e79-94e1-78b969e13d87\",                        [{\"marker\":{\"color\":\"maroon\"},\"name\":\"Movie\",\"orientation\":\"h\",\"textposition\":\"auto\",\"x\":[3,5,75,139,298,490,827,1427,2862],\"y\":[\"UR\",\"TV-Y7-FV\",\"NR\",\"Kids - Age above 7\",\"Kids\",\"Teens - Age above 12\",\"Kids - with Parental guidence\",\"Teens - Age above 14\",\"Adults\"],\"type\":\"bar\"},{\"marker\":{\"color\":\"Black\"},\"name\":\"TV Show\",\"orientation\":\"h\",\"textposition\":\"auto\",\"x\":[1,4,194,269,321,730,1145],\"y\":[\"TV-Y7-FV\",\"NR\",\"Kids - Age above 7\",\"Kids\",\"Kids - with Parental guidence\",\"Teens - Age above 14\",\"Adults\"],\"type\":\"bar\"}],                        {\"template\":{\"data\":{\"bar\":[{\"error_x\":{\"color\":\"#2a3f5f\"},\"error_y\":{\"color\":\"#2a3f5f\"},\"marker\":{\"line\":{\"color\":\"#E5ECF6\",\"width\":0.5},\"pattern\":{\"fillmode\":\"overlay\",\"size\":10,\"solidity\":0.2}},\"type\":\"bar\"}],\"barpolar\":[{\"marker\":{\"line\":{\"color\":\"#E5ECF6\",\"width\":0.5},\"pattern\":{\"fillmode\":\"overlay\",\"size\":10,\"solidity\":0.2}},\"type\":\"barpolar\"}],\"carpet\":[{\"aaxis\":{\"endlinecolor\":\"#2a3f5f\",\"gridcolor\":\"white\",\"linecolor\":\"white\",\"minorgridcolor\":\"white\",\"startlinecolor\":\"#2a3f5f\"},\"baxis\":{\"endlinecolor\":\"#2a3f5f\",\"gridcolor\":\"white\",\"linecolor\":\"white\",\"minorgridcolor\":\"white\",\"startlinecolor\":\"#2a3f5f\"},\"type\":\"carpet\"}],\"choropleth\":[{\"colorbar\":{\"outlinewidth\":0,\"ticks\":\"\"},\"type\":\"choropleth\"}],\"contour\":[{\"colorbar\":{\"outlinewidth\":0,\"ticks\":\"\"},\"colorscale\":[[0.0,\"#0d0887\"],[0.1111111111111111,\"#46039f\"],[0.2222222222222222,\"#7201a8\"],[0.3333333333333333,\"#9c179e\"],[0.4444444444444444,\"#bd3786\"],[0.5555555555555556,\"#d8576b\"],[0.6666666666666666,\"#ed7953\"],[0.7777777777777778,\"#fb9f3a\"],[0.8888888888888888,\"#fdca26\"],[1.0,\"#f0f921\"]],\"type\":\"contour\"}],\"contourcarpet\":[{\"colorbar\":{\"outlinewidth\":0,\"ticks\":\"\"},\"type\":\"contourcarpet\"}],\"heatmap\":[{\"colorbar\":{\"outlinewidth\":0,\"ticks\":\"\"},\"colorscale\":[[0.0,\"#0d0887\"],[0.1111111111111111,\"#46039f\"],[0.2222222222222222,\"#7201a8\"],[0.3333333333333333,\"#9c179e\"],[0.4444444444444444,\"#bd3786\"],[0.5555555555555556,\"#d8576b\"],[0.6666666666666666,\"#ed7953\"],[0.7777777777777778,\"#fb9f3a\"],[0.8888888888888888,\"#fdca26\"],[1.0,\"#f0f921\"]],\"type\":\"heatmap\"}],\"heatmapgl\":[{\"colorbar\":{\"outlinewidth\":0,\"ticks\":\"\"},\"colorscale\":[[0.0,\"#0d0887\"],[0.1111111111111111,\"#46039f\"],[0.2222222222222222,\"#7201a8\"],[0.3333333333333333,\"#9c179e\"],[0.4444444444444444,\"#bd3786\"],[0.5555555555555556,\"#d8576b\"],[0.6666666666666666,\"#ed7953\"],[0.7777777777777778,\"#fb9f3a\"],[0.8888888888888888,\"#fdca26\"],[1.0,\"#f0f921\"]],\"type\":\"heatmapgl\"}],\"histogram\":[{\"marker\":{\"pattern\":{\"fillmode\":\"overlay\",\"size\":10,\"solidity\":0.2}},\"type\":\"histogram\"}],\"histogram2d\":[{\"colorbar\":{\"outlinewidth\":0,\"ticks\":\"\"},\"colorscale\":[[0.0,\"#0d0887\"],[0.1111111111111111,\"#46039f\"],[0.2222222222222222,\"#7201a8\"],[0.3333333333333333,\"#9c179e\"],[0.4444444444444444,\"#bd3786\"],[0.5555555555555556,\"#d8576b\"],[0.6666666666666666,\"#ed7953\"],[0.7777777777777778,\"#fb9f3a\"],[0.8888888888888888,\"#fdca26\"],[1.0,\"#f0f921\"]],\"type\":\"histogram2d\"}],\"histogram2dcontour\":[{\"colorbar\":{\"outlinewidth\":0,\"ticks\":\"\"},\"colorscale\":[[0.0,\"#0d0887\"],[0.1111111111111111,\"#46039f\"],[0.2222222222222222,\"#7201a8\"],[0.3333333333333333,\"#9c179e\"],[0.4444444444444444,\"#bd3786\"],[0.5555555555555556,\"#d8576b\"],[0.6666666666666666,\"#ed7953\"],[0.7777777777777778,\"#fb9f3a\"],[0.8888888888888888,\"#fdca26\"],[1.0,\"#f0f921\"]],\"type\":\"histogram2dcontour\"}],\"mesh3d\":[{\"colorbar\":{\"outlinewidth\":0,\"ticks\":\"\"},\"type\":\"mesh3d\"}],\"parcoords\":[{\"line\":{\"colorbar\":{\"outlinewidth\":0,\"ticks\":\"\"}},\"type\":\"parcoords\"}],\"pie\":[{\"automargin\":true,\"type\":\"pie\"}],\"scatter\":[{\"marker\":{\"colorbar\":{\"outlinewidth\":0,\"ticks\":\"\"}},\"type\":\"scatter\"}],\"scatter3d\":[{\"line\":{\"colorbar\":{\"outlinewidth\":0,\"ticks\":\"\"}},\"marker\":{\"colorbar\":{\"outlinewidth\":0,\"ticks\":\"\"}},\"type\":\"scatter3d\"}],\"scattercarpet\":[{\"marker\":{\"colorbar\":{\"outlinewidth\":0,\"ticks\":\"\"}},\"type\":\"scattercarpet\"}],\"scattergeo\":[{\"marker\":{\"colorbar\":{\"outlinewidth\":0,\"ticks\":\"\"}},\"type\":\"scattergeo\"}],\"scattergl\":[{\"marker\":{\"colorbar\":{\"outlinewidth\":0,\"ticks\":\"\"}},\"type\":\"scattergl\"}],\"scattermapbox\":[{\"marker\":{\"colorbar\":{\"outlinewidth\":0,\"ticks\":\"\"}},\"type\":\"scattermapbox\"}],\"scatterpolar\":[{\"marker\":{\"colorbar\":{\"outlinewidth\":0,\"ticks\":\"\"}},\"type\":\"scatterpolar\"}],\"scatterpolargl\":[{\"marker\":{\"colorbar\":{\"outlinewidth\":0,\"ticks\":\"\"}},\"type\":\"scatterpolargl\"}],\"scatterternary\":[{\"marker\":{\"colorbar\":{\"outlinewidth\":0,\"ticks\":\"\"}},\"type\":\"scatterternary\"}],\"surface\":[{\"colorbar\":{\"outlinewidth\":0,\"ticks\":\"\"},\"colorscale\":[[0.0,\"#0d0887\"],[0.1111111111111111,\"#46039f\"],[0.2222222222222222,\"#7201a8\"],[0.3333333333333333,\"#9c179e\"],[0.4444444444444444,\"#bd3786\"],[0.5555555555555556,\"#d8576b\"],[0.6666666666666666,\"#ed7953\"],[0.7777777777777778,\"#fb9f3a\"],[0.8888888888888888,\"#fdca26\"],[1.0,\"#f0f921\"]],\"type\":\"surface\"}],\"table\":[{\"cells\":{\"fill\":{\"color\":\"#EBF0F8\"},\"line\":{\"color\":\"white\"}},\"header\":{\"fill\":{\"color\":\"#C8D4E3\"},\"line\":{\"color\":\"white\"}},\"type\":\"table\"}]},\"layout\":{\"annotationdefaults\":{\"arrowcolor\":\"#2a3f5f\",\"arrowhead\":0,\"arrowwidth\":1},\"autotypenumbers\":\"strict\",\"coloraxis\":{\"colorbar\":{\"outlinewidth\":0,\"ticks\":\"\"}},\"colorscale\":{\"diverging\":[[0,\"#8e0152\"],[0.1,\"#c51b7d\"],[0.2,\"#de77ae\"],[0.3,\"#f1b6da\"],[0.4,\"#fde0ef\"],[0.5,\"#f7f7f7\"],[0.6,\"#e6f5d0\"],[0.7,\"#b8e186\"],[0.8,\"#7fbc41\"],[0.9,\"#4d9221\"],[1,\"#276419\"]],\"sequential\":[[0.0,\"#0d0887\"],[0.1111111111111111,\"#46039f\"],[0.2222222222222222,\"#7201a8\"],[0.3333333333333333,\"#9c179e\"],[0.4444444444444444,\"#bd3786\"],[0.5555555555555556,\"#d8576b\"],[0.6666666666666666,\"#ed7953\"],[0.7777777777777778,\"#fb9f3a\"],[0.8888888888888888,\"#fdca26\"],[1.0,\"#f0f921\"]],\"sequentialminus\":[[0.0,\"#0d0887\"],[0.1111111111111111,\"#46039f\"],[0.2222222222222222,\"#7201a8\"],[0.3333333333333333,\"#9c179e\"],[0.4444444444444444,\"#bd3786\"],[0.5555555555555556,\"#d8576b\"],[0.6666666666666666,\"#ed7953\"],[0.7777777777777778,\"#fb9f3a\"],[0.8888888888888888,\"#fdca26\"],[1.0,\"#f0f921\"]]},\"colorway\":[\"#636efa\",\"#EF553B\",\"#00cc96\",\"#ab63fa\",\"#FFA15A\",\"#19d3f3\",\"#FF6692\",\"#B6E880\",\"#FF97FF\",\"#FECB52\"],\"font\":{\"color\":\"#2a3f5f\"},\"geo\":{\"bgcolor\":\"white\",\"lakecolor\":\"white\",\"landcolor\":\"#E5ECF6\",\"showlakes\":true,\"showland\":true,\"subunitcolor\":\"white\"},\"hoverlabel\":{\"align\":\"left\"},\"hovermode\":\"closest\",\"mapbox\":{\"style\":\"light\"},\"paper_bgcolor\":\"white\",\"plot_bgcolor\":\"#E5ECF6\",\"polar\":{\"angularaxis\":{\"gridcolor\":\"white\",\"linecolor\":\"white\",\"ticks\":\"\"},\"bgcolor\":\"#E5ECF6\",\"radialaxis\":{\"gridcolor\":\"white\",\"linecolor\":\"white\",\"ticks\":\"\"}},\"scene\":{\"xaxis\":{\"backgroundcolor\":\"#E5ECF6\",\"gridcolor\":\"white\",\"gridwidth\":2,\"linecolor\":\"white\",\"showbackground\":true,\"ticks\":\"\",\"zerolinecolor\":\"white\"},\"yaxis\":{\"backgroundcolor\":\"#E5ECF6\",\"gridcolor\":\"white\",\"gridwidth\":2,\"linecolor\":\"white\",\"showbackground\":true,\"ticks\":\"\",\"zerolinecolor\":\"white\"},\"zaxis\":{\"backgroundcolor\":\"#E5ECF6\",\"gridcolor\":\"white\",\"gridwidth\":2,\"linecolor\":\"white\",\"showbackground\":true,\"ticks\":\"\",\"zerolinecolor\":\"white\"}},\"shapedefaults\":{\"line\":{\"color\":\"#2a3f5f\"}},\"ternary\":{\"aaxis\":{\"gridcolor\":\"white\",\"linecolor\":\"white\",\"ticks\":\"\"},\"baxis\":{\"gridcolor\":\"white\",\"linecolor\":\"white\",\"ticks\":\"\"},\"bgcolor\":\"#E5ECF6\",\"caxis\":{\"gridcolor\":\"white\",\"linecolor\":\"white\",\"ticks\":\"\"}},\"title\":{\"x\":0.05},\"xaxis\":{\"automargin\":true,\"gridcolor\":\"white\",\"linecolor\":\"white\",\"ticks\":\"\",\"title\":{\"standoff\":15},\"zerolinecolor\":\"white\",\"zerolinewidth\":2},\"yaxis\":{\"automargin\":true,\"gridcolor\":\"white\",\"linecolor\":\"white\",\"ticks\":\"\",\"title\":{\"standoff\":15},\"zerolinecolor\":\"white\",\"zerolinewidth\":2}}},\"title\":{\"text\":\"Top Content Netflix based on Rating\",\"font\":{\"color\":\"maroon\",\"size\":32}},\"xaxis\":{\"tickfont\":{\"size\":14,\"color\":\"maroon\"},\"title\":{\"text\":\"Count\",\"font\":{\"color\":\"maroon\"}}},\"yaxis\":{\"title\":{\"text\":\"Rating\",\"font\":{\"size\":16,\"color\":\"maroon\"}},\"tickfont\":{\"size\":14,\"color\":\"maroon\"}},\"barmode\":\"stack\"},                        {\"responsive\": true}                    ).then(function(){\n",
              "                            \n",
              "var gd = document.getElementById('a3e4ee2c-296b-4e79-94e1-78b969e13d87');\n",
              "var x = new MutationObserver(function (mutations, observer) {{\n",
              "        var display = window.getComputedStyle(gd).display;\n",
              "        if (!display || display === 'none') {{\n",
              "            console.log([gd, 'removed!']);\n",
              "            Plotly.purge(gd);\n",
              "            observer.disconnect();\n",
              "        }}\n",
              "}});\n",
              "\n",
              "// Listen for the removal of the full notebook cells\n",
              "var notebookContainer = gd.closest('#notebook-container');\n",
              "if (notebookContainer) {{\n",
              "    x.observe(notebookContainer, {childList: true});\n",
              "}}\n",
              "\n",
              "// Listen for the clearing of the current output cell\n",
              "var outputEl = gd.closest('.output');\n",
              "if (outputEl) {{\n",
              "    x.observe(outputEl, {childList: true});\n",
              "}}\n",
              "\n",
              "                        })                };                            </script>        </div>\n",
              "</body>\n",
              "</html>"
            ]
          },
          "metadata": {}
        }
      ]
    },
    {
      "cell_type": "markdown",
      "source": [
        "##6. berapa durasi film yang paling banyak ditonton berdasarkan waktu dan season?"
      ],
      "metadata": {
        "id": "sXFimfvW8NLL"
      },
      "id": "sXFimfvW8NLL"
    },
    {
      "cell_type": "code",
      "source": [
        "df5 = df.groupby(['duration','type'])['show_id'].count().reset_index().sort_values(by='show_id',ascending=False).head(20)\n",
        "fig = go.Figure()\n",
        "fig.add_trace(go.Bar(x=df5[df5['type']=='TV Show'].duration,y=df5[df5['type']=='TV Show'].show_id,text=df5[df5['type']=='TV Show'].show_id\n",
        "              ,marker_color='maroon', name='TV Show'))\n",
        "fig.add_trace(go.Bar(x=df5[df5['type']=='Movie'].duration,y=df5[df5['type']=='Movie'].show_id,text=df5[df5['type']=='Movie'].show_id\n",
        "              ,marker_color='Black', name='Movie'))\n",
        "fig.update_layout(barmode='group',\n",
        "    title='Most Duration Content Netflix',title_font_color=\"maroon\",title_font_size=32,\n",
        "    xaxis_tickfont_size=14,xaxis_tickfont_color='red',xaxis_title='Duration',\n",
        "    yaxis=dict(\n",
        "        title='Content',\n",
        "        titlefont_size=16,\n",
        "        tickfont_size=14,\n",
        "        titlefont_color='maroon',\n",
        "        tickfont_color='maroon'\n",
        "    ))\n",
        "fig.update_traces(texttemplate='%{text:} Content', textposition='outside')\n",
        "fig.show()"
      ],
      "metadata": {
        "id": "2UtuJl1aXjZH",
        "colab": {
          "base_uri": "https://localhost:8080/",
          "height": 542
        },
        "outputId": "abef7325-6655-455c-fa05-a3b127cce8f5"
      },
      "id": "2UtuJl1aXjZH",
      "execution_count": 19,
      "outputs": [
        {
          "output_type": "display_data",
          "data": {
            "text/html": [
              "<html>\n",
              "<head><meta charset=\"utf-8\" /></head>\n",
              "<body>\n",
              "    <div>            <script src=\"https://cdnjs.cloudflare.com/ajax/libs/mathjax/2.7.5/MathJax.js?config=TeX-AMS-MML_SVG\"></script><script type=\"text/javascript\">if (window.MathJax) {MathJax.Hub.Config({SVG: {font: \"STIX-Web\"}});}</script>                <script type=\"text/javascript\">window.PlotlyConfig = {MathJaxConfig: 'local'};</script>\n",
              "        <script src=\"https://cdn.plot.ly/plotly-2.8.3.min.js\"></script>                <div id=\"b9c2ea6a-eb5d-4c47-a541-9700f178dc42\" class=\"plotly-graph-div\" style=\"height:525px; width:100%;\"></div>            <script type=\"text/javascript\">                                    window.PLOTLYENV=window.PLOTLYENV || {};                                    if (document.getElementById(\"b9c2ea6a-eb5d-4c47-a541-9700f178dc42\")) {                    Plotly.newPlot(                        \"b9c2ea6a-eb5d-4c47-a541-9700f178dc42\",                        [{\"marker\":{\"color\":\"maroon\"},\"name\":\"TV Show\",\"text\":[1791.0,421.0,198.0],\"x\":[\"1 Season\",\"2 Seasons\",\"3 Seasons\"],\"y\":[1791,421,198],\"type\":\"bar\",\"textposition\":\"outside\",\"texttemplate\":\"%{text:} Content\"},{\"marker\":{\"color\":\"Black\"},\"name\":\"Movie\",\"text\":[152.0,146.0,146.0,146.0,144.0,137.0,130.0,129.0,122.0,120.0,118.0,116.0,116.0,114.0,111.0,108.0,106.0],\"x\":[\"90 min\",\"94 min\",\"93 min\",\"97 min\",\"91 min\",\"95 min\",\"96 min\",\"92 min\",\"102 min\",\"98 min\",\"99 min\",\"88 min\",\"101 min\",\"103 min\",\"106 min\",\"100 min\",\"89 min\"],\"y\":[152,146,146,146,144,137,130,129,122,120,118,116,116,114,111,108,106],\"type\":\"bar\",\"textposition\":\"outside\",\"texttemplate\":\"%{text:} Content\"}],                        {\"template\":{\"data\":{\"bar\":[{\"error_x\":{\"color\":\"#2a3f5f\"},\"error_y\":{\"color\":\"#2a3f5f\"},\"marker\":{\"line\":{\"color\":\"#E5ECF6\",\"width\":0.5},\"pattern\":{\"fillmode\":\"overlay\",\"size\":10,\"solidity\":0.2}},\"type\":\"bar\"}],\"barpolar\":[{\"marker\":{\"line\":{\"color\":\"#E5ECF6\",\"width\":0.5},\"pattern\":{\"fillmode\":\"overlay\",\"size\":10,\"solidity\":0.2}},\"type\":\"barpolar\"}],\"carpet\":[{\"aaxis\":{\"endlinecolor\":\"#2a3f5f\",\"gridcolor\":\"white\",\"linecolor\":\"white\",\"minorgridcolor\":\"white\",\"startlinecolor\":\"#2a3f5f\"},\"baxis\":{\"endlinecolor\":\"#2a3f5f\",\"gridcolor\":\"white\",\"linecolor\":\"white\",\"minorgridcolor\":\"white\",\"startlinecolor\":\"#2a3f5f\"},\"type\":\"carpet\"}],\"choropleth\":[{\"colorbar\":{\"outlinewidth\":0,\"ticks\":\"\"},\"type\":\"choropleth\"}],\"contour\":[{\"colorbar\":{\"outlinewidth\":0,\"ticks\":\"\"},\"colorscale\":[[0.0,\"#0d0887\"],[0.1111111111111111,\"#46039f\"],[0.2222222222222222,\"#7201a8\"],[0.3333333333333333,\"#9c179e\"],[0.4444444444444444,\"#bd3786\"],[0.5555555555555556,\"#d8576b\"],[0.6666666666666666,\"#ed7953\"],[0.7777777777777778,\"#fb9f3a\"],[0.8888888888888888,\"#fdca26\"],[1.0,\"#f0f921\"]],\"type\":\"contour\"}],\"contourcarpet\":[{\"colorbar\":{\"outlinewidth\":0,\"ticks\":\"\"},\"type\":\"contourcarpet\"}],\"heatmap\":[{\"colorbar\":{\"outlinewidth\":0,\"ticks\":\"\"},\"colorscale\":[[0.0,\"#0d0887\"],[0.1111111111111111,\"#46039f\"],[0.2222222222222222,\"#7201a8\"],[0.3333333333333333,\"#9c179e\"],[0.4444444444444444,\"#bd3786\"],[0.5555555555555556,\"#d8576b\"],[0.6666666666666666,\"#ed7953\"],[0.7777777777777778,\"#fb9f3a\"],[0.8888888888888888,\"#fdca26\"],[1.0,\"#f0f921\"]],\"type\":\"heatmap\"}],\"heatmapgl\":[{\"colorbar\":{\"outlinewidth\":0,\"ticks\":\"\"},\"colorscale\":[[0.0,\"#0d0887\"],[0.1111111111111111,\"#46039f\"],[0.2222222222222222,\"#7201a8\"],[0.3333333333333333,\"#9c179e\"],[0.4444444444444444,\"#bd3786\"],[0.5555555555555556,\"#d8576b\"],[0.6666666666666666,\"#ed7953\"],[0.7777777777777778,\"#fb9f3a\"],[0.8888888888888888,\"#fdca26\"],[1.0,\"#f0f921\"]],\"type\":\"heatmapgl\"}],\"histogram\":[{\"marker\":{\"pattern\":{\"fillmode\":\"overlay\",\"size\":10,\"solidity\":0.2}},\"type\":\"histogram\"}],\"histogram2d\":[{\"colorbar\":{\"outlinewidth\":0,\"ticks\":\"\"},\"colorscale\":[[0.0,\"#0d0887\"],[0.1111111111111111,\"#46039f\"],[0.2222222222222222,\"#7201a8\"],[0.3333333333333333,\"#9c179e\"],[0.4444444444444444,\"#bd3786\"],[0.5555555555555556,\"#d8576b\"],[0.6666666666666666,\"#ed7953\"],[0.7777777777777778,\"#fb9f3a\"],[0.8888888888888888,\"#fdca26\"],[1.0,\"#f0f921\"]],\"type\":\"histogram2d\"}],\"histogram2dcontour\":[{\"colorbar\":{\"outlinewidth\":0,\"ticks\":\"\"},\"colorscale\":[[0.0,\"#0d0887\"],[0.1111111111111111,\"#46039f\"],[0.2222222222222222,\"#7201a8\"],[0.3333333333333333,\"#9c179e\"],[0.4444444444444444,\"#bd3786\"],[0.5555555555555556,\"#d8576b\"],[0.6666666666666666,\"#ed7953\"],[0.7777777777777778,\"#fb9f3a\"],[0.8888888888888888,\"#fdca26\"],[1.0,\"#f0f921\"]],\"type\":\"histogram2dcontour\"}],\"mesh3d\":[{\"colorbar\":{\"outlinewidth\":0,\"ticks\":\"\"},\"type\":\"mesh3d\"}],\"parcoords\":[{\"line\":{\"colorbar\":{\"outlinewidth\":0,\"ticks\":\"\"}},\"type\":\"parcoords\"}],\"pie\":[{\"automargin\":true,\"type\":\"pie\"}],\"scatter\":[{\"marker\":{\"colorbar\":{\"outlinewidth\":0,\"ticks\":\"\"}},\"type\":\"scatter\"}],\"scatter3d\":[{\"line\":{\"colorbar\":{\"outlinewidth\":0,\"ticks\":\"\"}},\"marker\":{\"colorbar\":{\"outlinewidth\":0,\"ticks\":\"\"}},\"type\":\"scatter3d\"}],\"scattercarpet\":[{\"marker\":{\"colorbar\":{\"outlinewidth\":0,\"ticks\":\"\"}},\"type\":\"scattercarpet\"}],\"scattergeo\":[{\"marker\":{\"colorbar\":{\"outlinewidth\":0,\"ticks\":\"\"}},\"type\":\"scattergeo\"}],\"scattergl\":[{\"marker\":{\"colorbar\":{\"outlinewidth\":0,\"ticks\":\"\"}},\"type\":\"scattergl\"}],\"scattermapbox\":[{\"marker\":{\"colorbar\":{\"outlinewidth\":0,\"ticks\":\"\"}},\"type\":\"scattermapbox\"}],\"scatterpolar\":[{\"marker\":{\"colorbar\":{\"outlinewidth\":0,\"ticks\":\"\"}},\"type\":\"scatterpolar\"}],\"scatterpolargl\":[{\"marker\":{\"colorbar\":{\"outlinewidth\":0,\"ticks\":\"\"}},\"type\":\"scatterpolargl\"}],\"scatterternary\":[{\"marker\":{\"colorbar\":{\"outlinewidth\":0,\"ticks\":\"\"}},\"type\":\"scatterternary\"}],\"surface\":[{\"colorbar\":{\"outlinewidth\":0,\"ticks\":\"\"},\"colorscale\":[[0.0,\"#0d0887\"],[0.1111111111111111,\"#46039f\"],[0.2222222222222222,\"#7201a8\"],[0.3333333333333333,\"#9c179e\"],[0.4444444444444444,\"#bd3786\"],[0.5555555555555556,\"#d8576b\"],[0.6666666666666666,\"#ed7953\"],[0.7777777777777778,\"#fb9f3a\"],[0.8888888888888888,\"#fdca26\"],[1.0,\"#f0f921\"]],\"type\":\"surface\"}],\"table\":[{\"cells\":{\"fill\":{\"color\":\"#EBF0F8\"},\"line\":{\"color\":\"white\"}},\"header\":{\"fill\":{\"color\":\"#C8D4E3\"},\"line\":{\"color\":\"white\"}},\"type\":\"table\"}]},\"layout\":{\"annotationdefaults\":{\"arrowcolor\":\"#2a3f5f\",\"arrowhead\":0,\"arrowwidth\":1},\"autotypenumbers\":\"strict\",\"coloraxis\":{\"colorbar\":{\"outlinewidth\":0,\"ticks\":\"\"}},\"colorscale\":{\"diverging\":[[0,\"#8e0152\"],[0.1,\"#c51b7d\"],[0.2,\"#de77ae\"],[0.3,\"#f1b6da\"],[0.4,\"#fde0ef\"],[0.5,\"#f7f7f7\"],[0.6,\"#e6f5d0\"],[0.7,\"#b8e186\"],[0.8,\"#7fbc41\"],[0.9,\"#4d9221\"],[1,\"#276419\"]],\"sequential\":[[0.0,\"#0d0887\"],[0.1111111111111111,\"#46039f\"],[0.2222222222222222,\"#7201a8\"],[0.3333333333333333,\"#9c179e\"],[0.4444444444444444,\"#bd3786\"],[0.5555555555555556,\"#d8576b\"],[0.6666666666666666,\"#ed7953\"],[0.7777777777777778,\"#fb9f3a\"],[0.8888888888888888,\"#fdca26\"],[1.0,\"#f0f921\"]],\"sequentialminus\":[[0.0,\"#0d0887\"],[0.1111111111111111,\"#46039f\"],[0.2222222222222222,\"#7201a8\"],[0.3333333333333333,\"#9c179e\"],[0.4444444444444444,\"#bd3786\"],[0.5555555555555556,\"#d8576b\"],[0.6666666666666666,\"#ed7953\"],[0.7777777777777778,\"#fb9f3a\"],[0.8888888888888888,\"#fdca26\"],[1.0,\"#f0f921\"]]},\"colorway\":[\"#636efa\",\"#EF553B\",\"#00cc96\",\"#ab63fa\",\"#FFA15A\",\"#19d3f3\",\"#FF6692\",\"#B6E880\",\"#FF97FF\",\"#FECB52\"],\"font\":{\"color\":\"#2a3f5f\"},\"geo\":{\"bgcolor\":\"white\",\"lakecolor\":\"white\",\"landcolor\":\"#E5ECF6\",\"showlakes\":true,\"showland\":true,\"subunitcolor\":\"white\"},\"hoverlabel\":{\"align\":\"left\"},\"hovermode\":\"closest\",\"mapbox\":{\"style\":\"light\"},\"paper_bgcolor\":\"white\",\"plot_bgcolor\":\"#E5ECF6\",\"polar\":{\"angularaxis\":{\"gridcolor\":\"white\",\"linecolor\":\"white\",\"ticks\":\"\"},\"bgcolor\":\"#E5ECF6\",\"radialaxis\":{\"gridcolor\":\"white\",\"linecolor\":\"white\",\"ticks\":\"\"}},\"scene\":{\"xaxis\":{\"backgroundcolor\":\"#E5ECF6\",\"gridcolor\":\"white\",\"gridwidth\":2,\"linecolor\":\"white\",\"showbackground\":true,\"ticks\":\"\",\"zerolinecolor\":\"white\"},\"yaxis\":{\"backgroundcolor\":\"#E5ECF6\",\"gridcolor\":\"white\",\"gridwidth\":2,\"linecolor\":\"white\",\"showbackground\":true,\"ticks\":\"\",\"zerolinecolor\":\"white\"},\"zaxis\":{\"backgroundcolor\":\"#E5ECF6\",\"gridcolor\":\"white\",\"gridwidth\":2,\"linecolor\":\"white\",\"showbackground\":true,\"ticks\":\"\",\"zerolinecolor\":\"white\"}},\"shapedefaults\":{\"line\":{\"color\":\"#2a3f5f\"}},\"ternary\":{\"aaxis\":{\"gridcolor\":\"white\",\"linecolor\":\"white\",\"ticks\":\"\"},\"baxis\":{\"gridcolor\":\"white\",\"linecolor\":\"white\",\"ticks\":\"\"},\"bgcolor\":\"#E5ECF6\",\"caxis\":{\"gridcolor\":\"white\",\"linecolor\":\"white\",\"ticks\":\"\"}},\"title\":{\"x\":0.05},\"xaxis\":{\"automargin\":true,\"gridcolor\":\"white\",\"linecolor\":\"white\",\"ticks\":\"\",\"title\":{\"standoff\":15},\"zerolinecolor\":\"white\",\"zerolinewidth\":2},\"yaxis\":{\"automargin\":true,\"gridcolor\":\"white\",\"linecolor\":\"white\",\"ticks\":\"\",\"title\":{\"standoff\":15},\"zerolinecolor\":\"white\",\"zerolinewidth\":2}}},\"title\":{\"text\":\"Most Duration Content Netflix\",\"font\":{\"color\":\"maroon\",\"size\":32}},\"xaxis\":{\"tickfont\":{\"size\":14,\"color\":\"red\"},\"title\":{\"text\":\"Duration\"}},\"yaxis\":{\"title\":{\"text\":\"Content\",\"font\":{\"size\":16,\"color\":\"maroon\"}},\"tickfont\":{\"size\":14,\"color\":\"maroon\"}},\"barmode\":\"group\"},                        {\"responsive\": true}                    ).then(function(){\n",
              "                            \n",
              "var gd = document.getElementById('b9c2ea6a-eb5d-4c47-a541-9700f178dc42');\n",
              "var x = new MutationObserver(function (mutations, observer) {{\n",
              "        var display = window.getComputedStyle(gd).display;\n",
              "        if (!display || display === 'none') {{\n",
              "            console.log([gd, 'removed!']);\n",
              "            Plotly.purge(gd);\n",
              "            observer.disconnect();\n",
              "        }}\n",
              "}});\n",
              "\n",
              "// Listen for the removal of the full notebook cells\n",
              "var notebookContainer = gd.closest('#notebook-container');\n",
              "if (notebookContainer) {{\n",
              "    x.observe(notebookContainer, {childList: true});\n",
              "}}\n",
              "\n",
              "// Listen for the clearing of the current output cell\n",
              "var outputEl = gd.closest('.output');\n",
              "if (outputEl) {{\n",
              "    x.observe(outputEl, {childList: true});\n",
              "}}\n",
              "\n",
              "                        })                };                            </script>        </div>\n",
              "</body>\n",
              "</html>"
            ]
          },
          "metadata": {}
        }
      ]
    },
    {
      "cell_type": "markdown",
      "source": [
        "##7. sebaran waktu semua film yang rilis?"
      ],
      "metadata": {
        "id": "-ScVTHCjmpuE"
      },
      "id": "-ScVTHCjmpuE"
    },
    {
      "cell_type": "code",
      "source": [
        "df6 = df.sort_values(by='duration',ascending=True)\n",
        "fig = go.Figure()\n",
        "fig.add_trace(go.Histogram(marker_color='Maroon', x=df6[\"duration\"]))\n",
        "fig.show()"
      ],
      "metadata": {
        "colab": {
          "base_uri": "https://localhost:8080/",
          "height": 0
        },
        "id": "U8Tod1Lamrcy",
        "outputId": "e6198f8b-bdf0-46fe-e7fc-b20af7e67982"
      },
      "id": "U8Tod1Lamrcy",
      "execution_count": 20,
      "outputs": [
        {
          "output_type": "display_data",
          "data": {
            "text/html": [
              "<html>\n",
              "<head><meta charset=\"utf-8\" /></head>\n",
              "<body>\n",
              "    <div>            <script src=\"https://cdnjs.cloudflare.com/ajax/libs/mathjax/2.7.5/MathJax.js?config=TeX-AMS-MML_SVG\"></script><script type=\"text/javascript\">if (window.MathJax) {MathJax.Hub.Config({SVG: {font: \"STIX-Web\"}});}</script>                <script type=\"text/javascript\">window.PlotlyConfig = {MathJaxConfig: 'local'};</script>\n",
              "        <script src=\"https://cdn.plot.ly/plotly-2.8.3.min.js\"></script>                <div id=\"ba8d39c9-6490-44bd-aadf-39248c9e3d08\" class=\"plotly-graph-div\" style=\"height:525px; width:100%;\"></div>            <script type=\"text/javascript\">                                    window.PLOTLYENV=window.PLOTLYENV || {};                                    if (document.getElementById(\"ba8d39c9-6490-44bd-aadf-39248c9e3d08\")) {                    Plotly.newPlot(                        \"ba8d39c9-6490-44bd-aadf-39248c9e3d08\",                        [{\"marker\":{\"color\":\"Maroon\"},\"x\":[\"1 Season\",\"1 Season\",\"1 Season\",\"1 Season\",\"1 Season\",\"1 Season\",\"1 Season\",\"1 Season\",\"1 Season\",\"1 Season\",\"1 Season\",\"1 Season\",\"1 Season\",\"1 Season\",\"1 Season\",\"1 Season\",\"1 Season\",\"1 Season\",\"1 Season\",\"1 Season\",\"1 Season\",\"1 Season\",\"1 Season\",\"1 Season\",\"1 Season\",\"1 Season\",\"1 Season\",\"1 Season\",\"1 Season\",\"1 Season\",\"1 Season\",\"1 Season\",\"1 Season\",\"1 Season\",\"1 Season\",\"1 Season\",\"1 Season\",\"1 Season\",\"1 Season\",\"1 Season\",\"1 Season\",\"1 Season\",\"1 Season\",\"1 Season\",\"1 Season\",\"1 Season\",\"1 Season\",\"1 Season\",\"1 Season\",\"1 Season\",\"1 Season\",\"1 Season\",\"1 Season\",\"1 Season\",\"1 Season\",\"1 Season\",\"1 Season\",\"1 Season\",\"1 Season\",\"1 Season\",\"1 Season\",\"1 Season\",\"1 Season\",\"1 Season\",\"1 Season\",\"1 Season\",\"1 Season\",\"1 Season\",\"1 Season\",\"1 Season\",\"1 Season\",\"1 Season\",\"1 Season\",\"1 Season\",\"1 Season\",\"1 Season\",\"1 Season\",\"1 Season\",\"1 Season\",\"1 Season\",\"1 Season\",\"1 Season\",\"1 Season\",\"1 Season\",\"1 Season\",\"1 Season\",\"1 Season\",\"1 Season\",\"1 Season\",\"1 Season\",\"1 Season\",\"1 Season\",\"1 Season\",\"1 Season\",\"1 Season\",\"1 Season\",\"1 Season\",\"1 Season\",\"1 Season\",\"1 Season\",\"1 Season\",\"1 Season\",\"1 Season\",\"1 Season\",\"1 Season\",\"1 Season\",\"1 Season\",\"1 Season\",\"1 Season\",\"1 Season\",\"1 Season\",\"1 Season\",\"1 Season\",\"1 Season\",\"1 Season\",\"1 Season\",\"1 Season\",\"1 Season\",\"1 Season\",\"1 Season\",\"1 Season\",\"1 Season\",\"1 Season\",\"1 Season\",\"1 Season\",\"1 Season\",\"1 Season\",\"1 Season\",\"1 Season\",\"1 Season\",\"1 Season\",\"1 Season\",\"1 Season\",\"1 Season\",\"1 Season\",\"1 Season\",\"1 Season\",\"1 Season\",\"1 Season\",\"1 Season\",\"1 Season\",\"1 Season\",\"1 Season\",\"1 Season\",\"1 Season\",\"1 Season\",\"1 Season\",\"1 Season\",\"1 Season\",\"1 Season\",\"1 Season\",\"1 Season\",\"1 Season\",\"1 Season\",\"1 Season\",\"1 Season\",\"1 Season\",\"1 Season\",\"1 Season\",\"1 Season\",\"1 Season\",\"1 Season\",\"1 Season\",\"1 Season\",\"1 Season\",\"1 Season\",\"1 Season\",\"1 Season\",\"1 Season\",\"1 Season\",\"1 Season\",\"1 Season\",\"1 Season\",\"1 Season\",\"1 Season\",\"1 Season\",\"1 Season\",\"1 Season\",\"1 Season\",\"1 Season\",\"1 Season\",\"1 Season\",\"1 Season\",\"1 Season\",\"1 Season\",\"1 Season\",\"1 Season\",\"1 Season\",\"1 Season\",\"1 Season\",\"1 Season\",\"1 Season\",\"1 Season\",\"1 Season\",\"1 Season\",\"1 Season\",\"1 Season\",\"1 Season\",\"1 Season\",\"1 Season\",\"1 Season\",\"1 Season\",\"1 Season\",\"1 Season\",\"1 Season\",\"1 Season\",\"1 Season\",\"1 Season\",\"1 Season\",\"1 Season\",\"1 Season\",\"1 Season\",\"1 Season\",\"1 Season\",\"1 Season\",\"1 Season\",\"1 Season\",\"1 Season\",\"1 Season\",\"1 Season\",\"1 Season\",\"1 Season\",\"1 Season\",\"1 Season\",\"1 Season\",\"1 Season\",\"1 Season\",\"1 Season\",\"1 Season\",\"1 Season\",\"1 Season\",\"1 Season\",\"1 Season\",\"1 Season\",\"1 Season\",\"1 Season\",\"1 Season\",\"1 Season\",\"1 Season\",\"1 Season\",\"1 Season\",\"1 Season\",\"1 Season\",\"1 Season\",\"1 Season\",\"1 Season\",\"1 Season\",\"1 Season\",\"1 Season\",\"1 Season\",\"1 Season\",\"1 Season\",\"1 Season\",\"1 Season\",\"1 Season\",\"1 Season\",\"1 Season\",\"1 Season\",\"1 Season\",\"1 Season\",\"1 Season\",\"1 Season\",\"1 Season\",\"1 Season\",\"1 Season\",\"1 Season\",\"1 Season\",\"1 Season\",\"1 Season\",\"1 Season\",\"1 Season\",\"1 Season\",\"1 Season\",\"1 Season\",\"1 Season\",\"1 Season\",\"1 Season\",\"1 Season\",\"1 Season\",\"1 Season\",\"1 Season\",\"1 Season\",\"1 Season\",\"1 Season\",\"1 Season\",\"1 Season\",\"1 Season\",\"1 Season\",\"1 Season\",\"1 Season\",\"1 Season\",\"1 Season\",\"1 Season\",\"1 Season\",\"1 Season\",\"1 Season\",\"1 Season\",\"1 Season\",\"1 Season\",\"1 Season\",\"1 Season\",\"1 Season\",\"1 Season\",\"1 Season\",\"1 Season\",\"1 Season\",\"1 Season\",\"1 Season\",\"1 Season\",\"1 Season\",\"1 Season\",\"1 Season\",\"1 Season\",\"1 Season\",\"1 Season\",\"1 Season\",\"1 Season\",\"1 Season\",\"1 Season\",\"1 Season\",\"1 Season\",\"1 Season\",\"1 Season\",\"1 Season\",\"1 Season\",\"1 Season\",\"1 Season\",\"1 Season\",\"1 Season\",\"1 Season\",\"1 Season\",\"1 Season\",\"1 Season\",\"1 Season\",\"1 Season\",\"1 Season\",\"1 Season\",\"1 Season\",\"1 Season\",\"1 Season\",\"1 Season\",\"1 Season\",\"1 Season\",\"1 Season\",\"1 Season\",\"1 Season\",\"1 Season\",\"1 Season\",\"1 Season\",\"1 Season\",\"1 Season\",\"1 Season\",\"1 Season\",\"1 Season\",\"1 Season\",\"1 Season\",\"1 Season\",\"1 Season\",\"1 Season\",\"1 Season\",\"1 Season\",\"1 Season\",\"1 Season\",\"1 Season\",\"1 Season\",\"1 Season\",\"1 Season\",\"1 Season\",\"1 Season\",\"1 Season\",\"1 Season\",\"1 Season\",\"1 Season\",\"1 Season\",\"1 Season\",\"1 Season\",\"1 Season\",\"1 Season\",\"1 Season\",\"1 Season\",\"1 Season\",\"1 Season\",\"1 Season\",\"1 Season\",\"1 Season\",\"1 Season\",\"1 Season\",\"1 Season\",\"1 Season\",\"1 Season\",\"1 Season\",\"1 Season\",\"1 Season\",\"1 Season\",\"1 Season\",\"1 Season\",\"1 Season\",\"1 Season\",\"1 Season\",\"1 Season\",\"1 Season\",\"1 Season\",\"1 Season\",\"1 Season\",\"1 Season\",\"1 Season\",\"1 Season\",\"1 Season\",\"1 Season\",\"1 Season\",\"1 Season\",\"1 Season\",\"1 Season\",\"1 Season\",\"1 Season\",\"1 Season\",\"1 Season\",\"1 Season\",\"1 Season\",\"1 Season\",\"1 Season\",\"1 Season\",\"1 Season\",\"1 Season\",\"1 Season\",\"1 Season\",\"1 Season\",\"1 Season\",\"1 Season\",\"1 Season\",\"1 Season\",\"1 Season\",\"1 Season\",\"1 Season\",\"1 Season\",\"1 Season\",\"1 Season\",\"1 Season\",\"1 Season\",\"1 Season\",\"1 Season\",\"1 Season\",\"1 Season\",\"1 Season\",\"1 Season\",\"1 Season\",\"1 Season\",\"1 Season\",\"1 Season\",\"1 Season\",\"1 Season\",\"1 Season\",\"1 Season\",\"1 Season\",\"1 Season\",\"1 Season\",\"1 Season\",\"1 Season\",\"1 Season\",\"1 Season\",\"1 Season\",\"1 Season\",\"1 Season\",\"1 Season\",\"1 Season\",\"1 Season\",\"1 Season\",\"1 Season\",\"1 Season\",\"1 Season\",\"1 Season\",\"1 Season\",\"1 Season\",\"1 Season\",\"1 Season\",\"1 Season\",\"1 Season\",\"1 Season\",\"1 Season\",\"1 Season\",\"1 Season\",\"1 Season\",\"1 Season\",\"1 Season\",\"1 Season\",\"1 Season\",\"1 Season\",\"1 Season\",\"1 Season\",\"1 Season\",\"1 Season\",\"1 Season\",\"1 Season\",\"1 Season\",\"1 Season\",\"1 Season\",\"1 Season\",\"1 Season\",\"1 Season\",\"1 Season\",\"1 Season\",\"1 Season\",\"1 Season\",\"1 Season\",\"1 Season\",\"1 Season\",\"1 Season\",\"1 Season\",\"1 Season\",\"1 Season\",\"1 Season\",\"1 Season\",\"1 Season\",\"1 Season\",\"1 Season\",\"1 Season\",\"1 Season\",\"1 Season\",\"1 Season\",\"1 Season\",\"1 Season\",\"1 Season\",\"1 Season\",\"1 Season\",\"1 Season\",\"1 Season\",\"1 Season\",\"1 Season\",\"1 Season\",\"1 Season\",\"1 Season\",\"1 Season\",\"1 Season\",\"1 Season\",\"1 Season\",\"1 Season\",\"1 Season\",\"1 Season\",\"1 Season\",\"1 Season\",\"1 Season\",\"1 Season\",\"1 Season\",\"1 Season\",\"1 Season\",\"1 Season\",\"1 Season\",\"1 Season\",\"1 Season\",\"1 Season\",\"1 Season\",\"1 Season\",\"1 Season\",\"1 Season\",\"1 Season\",\"1 Season\",\"1 Season\",\"1 Season\",\"1 Season\",\"1 Season\",\"1 Season\",\"1 Season\",\"1 Season\",\"1 Season\",\"1 Season\",\"1 Season\",\"1 Season\",\"1 Season\",\"1 Season\",\"1 Season\",\"1 Season\",\"1 Season\",\"1 Season\",\"1 Season\",\"1 Season\",\"1 Season\",\"1 Season\",\"1 Season\",\"1 Season\",\"1 Season\",\"1 Season\",\"1 Season\",\"1 Season\",\"1 Season\",\"1 Season\",\"1 Season\",\"1 Season\",\"1 Season\",\"1 Season\",\"1 Season\",\"1 Season\",\"1 Season\",\"1 Season\",\"1 Season\",\"1 Season\",\"1 Season\",\"1 Season\",\"1 Season\",\"1 Season\",\"1 Season\",\"1 Season\",\"1 Season\",\"1 Season\",\"1 Season\",\"1 Season\",\"1 Season\",\"1 Season\",\"1 Season\",\"1 Season\",\"1 Season\",\"1 Season\",\"1 Season\",\"1 Season\",\"1 Season\",\"1 Season\",\"1 Season\",\"1 Season\",\"1 Season\",\"1 Season\",\"1 Season\",\"1 Season\",\"1 Season\",\"1 Season\",\"1 Season\",\"1 Season\",\"1 Season\",\"1 Season\",\"1 Season\",\"1 Season\",\"1 Season\",\"1 Season\",\"1 Season\",\"1 Season\",\"1 Season\",\"1 Season\",\"1 Season\",\"1 Season\",\"1 Season\",\"1 Season\",\"1 Season\",\"1 Season\",\"1 Season\",\"1 Season\",\"1 Season\",\"1 Season\",\"1 Season\",\"1 Season\",\"1 Season\",\"1 Season\",\"1 Season\",\"1 Season\",\"1 Season\",\"1 Season\",\"1 Season\",\"1 Season\",\"1 Season\",\"1 Season\",\"1 Season\",\"1 Season\",\"1 Season\",\"1 Season\",\"1 Season\",\"1 Season\",\"1 Season\",\"1 Season\",\"1 Season\",\"1 Season\",\"1 Season\",\"1 Season\",\"1 Season\",\"1 Season\",\"1 Season\",\"1 Season\",\"1 Season\",\"1 Season\",\"1 Season\",\"1 Season\",\"1 Season\",\"1 Season\",\"1 Season\",\"1 Season\",\"1 Season\",\"1 Season\",\"1 Season\",\"1 Season\",\"1 Season\",\"1 Season\",\"1 Season\",\"1 Season\",\"1 Season\",\"1 Season\",\"1 Season\",\"1 Season\",\"1 Season\",\"1 Season\",\"1 Season\",\"1 Season\",\"1 Season\",\"1 Season\",\"1 Season\",\"1 Season\",\"1 Season\",\"1 Season\",\"1 Season\",\"1 Season\",\"1 Season\",\"1 Season\",\"1 Season\",\"1 Season\",\"1 Season\",\"1 Season\",\"1 Season\",\"1 Season\",\"1 Season\",\"1 Season\",\"1 Season\",\"1 Season\",\"1 Season\",\"1 Season\",\"1 Season\",\"1 Season\",\"1 Season\",\"1 Season\",\"1 Season\",\"1 Season\",\"1 Season\",\"1 Season\",\"1 Season\",\"1 Season\",\"1 Season\",\"1 Season\",\"1 Season\",\"1 Season\",\"1 Season\",\"1 Season\",\"1 Season\",\"1 Season\",\"1 Season\",\"1 Season\",\"1 Season\",\"1 Season\",\"1 Season\",\"1 Season\",\"1 Season\",\"1 Season\",\"1 Season\",\"1 Season\",\"1 Season\",\"1 Season\",\"1 Season\",\"1 Season\",\"1 Season\",\"1 Season\",\"1 Season\",\"1 Season\",\"1 Season\",\"1 Season\",\"1 Season\",\"1 Season\",\"1 Season\",\"1 Season\",\"1 Season\",\"1 Season\",\"1 Season\",\"1 Season\",\"1 Season\",\"1 Season\",\"1 Season\",\"1 Season\",\"1 Season\",\"1 Season\",\"1 Season\",\"1 Season\",\"1 Season\",\"1 Season\",\"1 Season\",\"1 Season\",\"1 Season\",\"1 Season\",\"1 Season\",\"1 Season\",\"1 Season\",\"1 Season\",\"1 Season\",\"1 Season\",\"1 Season\",\"1 Season\",\"1 Season\",\"1 Season\",\"1 Season\",\"1 Season\",\"1 Season\",\"1 Season\",\"1 Season\",\"1 Season\",\"1 Season\",\"1 Season\",\"1 Season\",\"1 Season\",\"1 Season\",\"1 Season\",\"1 Season\",\"1 Season\",\"1 Season\",\"1 Season\",\"1 Season\",\"1 Season\",\"1 Season\",\"1 Season\",\"1 Season\",\"1 Season\",\"1 Season\",\"1 Season\",\"1 Season\",\"1 Season\",\"1 Season\",\"1 Season\",\"1 Season\",\"1 Season\",\"1 Season\",\"1 Season\",\"1 Season\",\"1 Season\",\"1 Season\",\"1 Season\",\"1 Season\",\"1 Season\",\"1 Season\",\"1 Season\",\"1 Season\",\"1 Season\",\"1 Season\",\"1 Season\",\"1 Season\",\"1 Season\",\"1 Season\",\"1 Season\",\"1 Season\",\"1 Season\",\"1 Season\",\"1 Season\",\"1 Season\",\"1 Season\",\"1 Season\",\"1 Season\",\"1 Season\",\"1 Season\",\"1 Season\",\"1 Season\",\"1 Season\",\"1 Season\",\"1 Season\",\"1 Season\",\"1 Season\",\"1 Season\",\"1 Season\",\"1 Season\",\"1 Season\",\"1 Season\",\"1 Season\",\"1 Season\",\"1 Season\",\"1 Season\",\"1 Season\",\"1 Season\",\"1 Season\",\"1 Season\",\"1 Season\",\"1 Season\",\"1 Season\",\"1 Season\",\"1 Season\",\"1 Season\",\"1 Season\",\"1 Season\",\"1 Season\",\"1 Season\",\"1 Season\",\"1 Season\",\"1 Season\",\"1 Season\",\"1 Season\",\"1 Season\",\"1 Season\",\"1 Season\",\"1 Season\",\"1 Season\",\"1 Season\",\"1 Season\",\"1 Season\",\"1 Season\",\"1 Season\",\"1 Season\",\"1 Season\",\"1 Season\",\"1 Season\",\"1 Season\",\"1 Season\",\"1 Season\",\"1 Season\",\"1 Season\",\"1 Season\",\"1 Season\",\"1 Season\",\"1 Season\",\"1 Season\",\"1 Season\",\"1 Season\",\"1 Season\",\"1 Season\",\"1 Season\",\"1 Season\",\"1 Season\",\"1 Season\",\"1 Season\",\"1 Season\",\"1 Season\",\"1 Season\",\"1 Season\",\"1 Season\",\"1 Season\",\"1 Season\",\"1 Season\",\"1 Season\",\"1 Season\",\"1 Season\",\"1 Season\",\"1 Season\",\"1 Season\",\"1 Season\",\"1 Season\",\"1 Season\",\"1 Season\",\"1 Season\",\"1 Season\",\"1 Season\",\"1 Season\",\"1 Season\",\"1 Season\",\"1 Season\",\"1 Season\",\"1 Season\",\"1 Season\",\"1 Season\",\"1 Season\",\"1 Season\",\"1 Season\",\"1 Season\",\"1 Season\",\"1 Season\",\"1 Season\",\"1 Season\",\"1 Season\",\"1 Season\",\"1 Season\",\"1 Season\",\"1 Season\",\"1 Season\",\"1 Season\",\"1 Season\",\"1 Season\",\"1 Season\",\"1 Season\",\"1 Season\",\"1 Season\",\"1 Season\",\"1 Season\",\"1 Season\",\"1 Season\",\"1 Season\",\"1 Season\",\"1 Season\",\"1 Season\",\"1 Season\",\"1 Season\",\"1 Season\",\"1 Season\",\"1 Season\",\"1 Season\",\"1 Season\",\"1 Season\",\"1 Season\",\"1 Season\",\"1 Season\",\"1 Season\",\"1 Season\",\"1 Season\",\"1 Season\",\"1 Season\",\"1 Season\",\"1 Season\",\"1 Season\",\"1 Season\",\"1 Season\",\"1 Season\",\"1 Season\",\"1 Season\",\"1 Season\",\"1 Season\",\"1 Season\",\"1 Season\",\"1 Season\",\"1 Season\",\"1 Season\",\"1 Season\",\"1 Season\",\"1 Season\",\"1 Season\",\"1 Season\",\"1 Season\",\"1 Season\",\"1 Season\",\"1 Season\",\"1 Season\",\"1 Season\",\"1 Season\",\"1 Season\",\"1 Season\",\"1 Season\",\"1 Season\",\"1 Season\",\"1 Season\",\"1 Season\",\"1 Season\",\"1 Season\",\"1 Season\",\"1 Season\",\"1 Season\",\"1 Season\",\"1 Season\",\"1 Season\",\"1 Season\",\"1 Season\",\"1 Season\",\"1 Season\",\"1 Season\",\"1 Season\",\"1 Season\",\"1 Season\",\"1 Season\",\"1 Season\",\"1 Season\",\"1 Season\",\"1 Season\",\"1 Season\",\"1 Season\",\"1 Season\",\"1 Season\",\"1 Season\",\"1 Season\",\"1 Season\",\"1 Season\",\"1 Season\",\"1 Season\",\"1 Season\",\"1 Season\",\"1 Season\",\"1 Season\",\"1 Season\",\"1 Season\",\"1 Season\",\"1 Season\",\"1 Season\",\"1 Season\",\"1 Season\",\"1 Season\",\"1 Season\",\"1 Season\",\"1 Season\",\"1 Season\",\"1 Season\",\"1 Season\",\"1 Season\",\"1 Season\",\"1 Season\",\"1 Season\",\"1 Season\",\"1 Season\",\"1 Season\",\"1 Season\",\"1 Season\",\"1 Season\",\"1 Season\",\"1 Season\",\"1 Season\",\"1 Season\",\"1 Season\",\"1 Season\",\"1 Season\",\"1 Season\",\"1 Season\",\"1 Season\",\"1 Season\",\"1 Season\",\"1 Season\",\"1 Season\",\"1 Season\",\"1 Season\",\"1 Season\",\"1 Season\",\"1 Season\",\"1 Season\",\"1 Season\",\"1 Season\",\"1 Season\",\"1 Season\",\"1 Season\",\"1 Season\",\"1 Season\",\"1 Season\",\"1 Season\",\"1 Season\",\"1 Season\",\"1 Season\",\"1 Season\",\"1 Season\",\"1 Season\",\"1 Season\",\"1 Season\",\"1 Season\",\"1 Season\",\"1 Season\",\"1 Season\",\"1 Season\",\"1 Season\",\"1 Season\",\"1 Season\",\"1 Season\",\"1 Season\",\"1 Season\",\"1 Season\",\"1 Season\",\"1 Season\",\"1 Season\",\"1 Season\",\"1 Season\",\"1 Season\",\"1 Season\",\"1 Season\",\"1 Season\",\"1 Season\",\"1 Season\",\"1 Season\",\"1 Season\",\"1 Season\",\"1 Season\",\"1 Season\",\"1 Season\",\"1 Season\",\"1 Season\",\"1 Season\",\"1 Season\",\"1 Season\",\"1 Season\",\"1 Season\",\"1 Season\",\"1 Season\",\"1 Season\",\"1 Season\",\"1 Season\",\"1 Season\",\"1 Season\",\"1 Season\",\"1 Season\",\"1 Season\",\"1 Season\",\"1 Season\",\"1 Season\",\"1 Season\",\"1 Season\",\"1 Season\",\"1 Season\",\"1 Season\",\"1 Season\",\"1 Season\",\"1 Season\",\"1 Season\",\"1 Season\",\"1 Season\",\"1 Season\",\"1 Season\",\"1 Season\",\"1 Season\",\"1 Season\",\"1 Season\",\"1 Season\",\"1 Season\",\"1 Season\",\"1 Season\",\"1 Season\",\"1 Season\",\"1 Season\",\"1 Season\",\"1 Season\",\"1 Season\",\"1 Season\",\"1 Season\",\"1 Season\",\"1 Season\",\"1 Season\",\"1 Season\",\"1 Season\",\"1 Season\",\"1 Season\",\"1 Season\",\"1 Season\",\"1 Season\",\"1 Season\",\"1 Season\",\"1 Season\",\"1 Season\",\"1 Season\",\"1 Season\",\"1 Season\",\"1 Season\",\"1 Season\",\"1 Season\",\"1 Season\",\"1 Season\",\"1 Season\",\"1 Season\",\"1 Season\",\"1 Season\",\"1 Season\",\"1 Season\",\"1 Season\",\"1 Season\",\"1 Season\",\"1 Season\",\"1 Season\",\"1 Season\",\"1 Season\",\"1 Season\",\"1 Season\",\"1 Season\",\"1 Season\",\"1 Season\",\"1 Season\",\"1 Season\",\"1 Season\",\"1 Season\",\"1 Season\",\"1 Season\",\"1 Season\",\"1 Season\",\"1 Season\",\"1 Season\",\"1 Season\",\"1 Season\",\"1 Season\",\"1 Season\",\"1 Season\",\"1 Season\",\"1 Season\",\"1 Season\",\"1 Season\",\"1 Season\",\"1 Season\",\"1 Season\",\"1 Season\",\"1 Season\",\"1 Season\",\"1 Season\",\"1 Season\",\"1 Season\",\"1 Season\",\"1 Season\",\"1 Season\",\"1 Season\",\"1 Season\",\"1 Season\",\"1 Season\",\"1 Season\",\"1 Season\",\"1 Season\",\"1 Season\",\"1 Season\",\"1 Season\",\"1 Season\",\"1 Season\",\"1 Season\",\"1 Season\",\"1 Season\",\"1 Season\",\"1 Season\",\"1 Season\",\"1 Season\",\"1 Season\",\"1 Season\",\"1 Season\",\"1 Season\",\"1 Season\",\"1 Season\",\"1 Season\",\"1 Season\",\"1 Season\",\"1 Season\",\"1 Season\",\"1 Season\",\"1 Season\",\"1 Season\",\"1 Season\",\"1 Season\",\"1 Season\",\"1 Season\",\"1 Season\",\"1 Season\",\"1 Season\",\"1 Season\",\"1 Season\",\"1 Season\",\"1 Season\",\"1 Season\",\"1 Season\",\"1 Season\",\"1 Season\",\"1 Season\",\"1 Season\",\"1 Season\",\"1 Season\",\"1 Season\",\"1 Season\",\"1 Season\",\"1 Season\",\"1 Season\",\"1 Season\",\"1 Season\",\"1 Season\",\"1 Season\",\"1 Season\",\"1 Season\",\"1 Season\",\"1 Season\",\"1 Season\",\"1 Season\",\"1 Season\",\"1 Season\",\"1 Season\",\"1 Season\",\"1 Season\",\"1 Season\",\"1 Season\",\"1 Season\",\"1 Season\",\"1 Season\",\"1 Season\",\"1 Season\",\"1 Season\",\"1 Season\",\"1 Season\",\"1 Season\",\"1 Season\",\"1 Season\",\"1 Season\",\"1 Season\",\"1 Season\",\"1 Season\",\"1 Season\",\"1 Season\",\"1 Season\",\"1 Season\",\"1 Season\",\"1 Season\",\"1 Season\",\"1 Season\",\"1 Season\",\"1 Season\",\"1 Season\",\"1 Season\",\"1 Season\",\"1 Season\",\"1 Season\",\"1 Season\",\"1 Season\",\"1 Season\",\"1 Season\",\"1 Season\",\"1 Season\",\"1 Season\",\"1 Season\",\"1 Season\",\"1 Season\",\"1 Season\",\"1 Season\",\"1 Season\",\"1 Season\",\"1 Season\",\"1 Season\",\"1 Season\",\"1 Season\",\"1 Season\",\"1 Season\",\"1 Season\",\"1 Season\",\"1 Season\",\"1 Season\",\"1 Season\",\"1 Season\",\"1 Season\",\"1 Season\",\"1 Season\",\"1 Season\",\"1 Season\",\"1 Season\",\"1 Season\",\"1 Season\",\"1 Season\",\"1 Season\",\"1 Season\",\"1 Season\",\"1 Season\",\"1 Season\",\"1 Season\",\"1 Season\",\"1 Season\",\"1 Season\",\"1 Season\",\"1 Season\",\"1 Season\",\"1 Season\",\"1 Season\",\"1 Season\",\"1 Season\",\"1 Season\",\"1 Season\",\"1 Season\",\"1 Season\",\"1 Season\",\"1 Season\",\"1 Season\",\"1 Season\",\"1 Season\",\"1 Season\",\"1 Season\",\"1 Season\",\"1 Season\",\"1 Season\",\"1 Season\",\"1 Season\",\"1 Season\",\"1 Season\",\"1 Season\",\"1 Season\",\"1 Season\",\"1 Season\",\"1 Season\",\"1 Season\",\"1 Season\",\"1 Season\",\"1 Season\",\"1 Season\",\"1 Season\",\"1 Season\",\"1 Season\",\"1 Season\",\"1 Season\",\"1 Season\",\"1 Season\",\"1 Season\",\"1 Season\",\"1 Season\",\"1 Season\",\"1 Season\",\"1 Season\",\"1 Season\",\"1 Season\",\"1 Season\",\"1 Season\",\"1 Season\",\"1 Season\",\"1 Season\",\"1 Season\",\"1 Season\",\"1 Season\",\"1 Season\",\"1 Season\",\"1 Season\",\"1 Season\",\"1 Season\",\"1 Season\",\"1 Season\",\"1 Season\",\"1 Season\",\"1 Season\",\"1 Season\",\"1 Season\",\"1 Season\",\"1 Season\",\"1 Season\",\"1 Season\",\"1 Season\",\"1 Season\",\"1 Season\",\"1 Season\",\"1 Season\",\"1 Season\",\"1 Season\",\"1 Season\",\"1 Season\",\"1 Season\",\"1 Season\",\"1 Season\",\"1 Season\",\"1 Season\",\"1 Season\",\"1 Season\",\"1 Season\",\"1 Season\",\"1 Season\",\"1 Season\",\"1 Season\",\"1 Season\",\"1 Season\",\"1 Season\",\"1 Season\",\"1 Season\",\"1 Season\",\"1 Season\",\"1 Season\",\"1 Season\",\"1 Season\",\"1 Season\",\"1 Season\",\"1 Season\",\"1 Season\",\"1 Season\",\"1 Season\",\"1 Season\",\"1 Season\",\"1 Season\",\"1 Season\",\"1 Season\",\"1 Season\",\"1 Season\",\"1 Season\",\"1 Season\",\"1 Season\",\"1 Season\",\"1 Season\",\"1 Season\",\"1 Season\",\"1 Season\",\"1 Season\",\"1 Season\",\"1 Season\",\"1 Season\",\"1 Season\",\"1 Season\",\"1 Season\",\"1 Season\",\"1 Season\",\"1 Season\",\"1 Season\",\"1 Season\",\"1 Season\",\"1 Season\",\"1 Season\",\"1 Season\",\"1 Season\",\"1 Season\",\"1 Season\",\"1 Season\",\"1 Season\",\"1 Season\",\"1 Season\",\"1 Season\",\"1 Season\",\"1 Season\",\"1 Season\",\"1 Season\",\"1 Season\",\"1 Season\",\"1 Season\",\"1 Season\",\"1 Season\",\"1 Season\",\"1 Season\",\"1 Season\",\"1 Season\",\"1 Season\",\"1 Season\",\"1 Season\",\"1 Season\",\"1 Season\",\"1 Season\",\"1 Season\",\"1 Season\",\"1 Season\",\"1 Season\",\"1 Season\",\"1 Season\",\"1 Season\",\"1 Season\",\"1 Season\",\"1 Season\",\"1 Season\",\"1 Season\",\"1 Season\",\"1 Season\",\"1 Season\",\"1 Season\",\"1 Season\",\"1 Season\",\"1 Season\",\"1 Season\",\"1 Season\",\"1 Season\",\"1 Season\",\"1 Season\",\"1 Season\",\"1 Season\",\"1 Season\",\"1 Season\",\"1 Season\",\"1 Season\",\"1 Season\",\"1 Season\",\"1 Season\",\"1 Season\",\"1 Season\",\"1 Season\",\"1 Season\",\"1 Season\",\"1 Season\",\"1 Season\",\"1 Season\",\"1 Season\",\"1 Season\",\"1 Season\",\"1 Season\",\"1 Season\",\"1 Season\",\"1 Season\",\"1 Season\",\"1 Season\",\"1 Season\",\"1 Season\",\"1 Season\",\"1 Season\",\"1 Season\",\"1 Season\",\"1 Season\",\"1 Season\",\"1 Season\",\"1 Season\",\"1 Season\",\"1 Season\",\"1 Season\",\"1 Season\",\"1 Season\",\"1 Season\",\"1 Season\",\"1 Season\",\"1 Season\",\"1 Season\",\"1 Season\",\"1 Season\",\"1 Season\",\"1 Season\",\"1 Season\",\"1 Season\",\"1 Season\",\"1 Season\",\"1 Season\",\"1 Season\",\"1 Season\",\"1 Season\",\"1 Season\",\"1 Season\",\"1 Season\",\"1 Season\",\"1 Season\",\"1 Season\",\"1 Season\",\"1 Season\",\"1 Season\",\"1 Season\",\"1 Season\",\"1 Season\",\"1 Season\",\"1 Season\",\"1 Season\",\"1 Season\",\"1 Season\",\"1 Season\",\"1 Season\",\"1 Season\",\"1 Season\",\"1 Season\",\"1 Season\",\"1 Season\",\"1 Season\",\"1 Season\",\"1 Season\",\"1 Season\",\"1 Season\",\"1 Season\",\"1 Season\",\"1 Season\",\"1 Season\",\"1 Season\",\"1 Season\",\"1 Season\",\"1 Season\",\"1 Season\",\"1 Season\",\"1 Season\",\"1 Season\",\"1 Season\",\"1 Season\",\"1 Season\",\"1 Season\",\"1 Season\",\"1 Season\",\"1 Season\",\"1 Season\",\"1 Season\",\"1 Season\",\"1 Season\",\"1 Season\",\"1 Season\",\"1 Season\",\"1 Season\",\"1 Season\",\"1 Season\",\"1 Season\",\"1 Season\",\"1 Season\",\"1 Season\",\"1 Season\",\"1 Season\",\"1 Season\",\"1 Season\",\"1 Season\",\"1 Season\",\"1 Season\",\"1 Season\",\"1 Season\",\"1 Season\",\"1 Season\",\"1 Season\",\"1 Season\",\"1 Season\",\"1 Season\",\"1 Season\",\"1 Season\",\"1 Season\",\"1 Season\",\"1 Season\",\"1 Season\",\"1 Season\",\"1 Season\",\"1 Season\",\"1 Season\",\"1 Season\",\"1 Season\",\"1 Season\",\"1 Season\",\"1 Season\",\"1 Season\",\"1 Season\",\"1 Season\",\"1 Season\",\"1 Season\",\"1 Season\",\"1 Season\",\"1 Season\",\"1 Season\",\"1 Season\",\"1 Season\",\"1 Season\",\"1 Season\",\"1 Season\",\"1 Season\",\"1 Season\",\"1 Season\",\"1 Season\",\"1 Season\",\"1 Season\",\"1 Season\",\"1 Season\",\"1 Season\",\"1 Season\",\"1 Season\",\"1 Season\",\"1 Season\",\"1 Season\",\"1 Season\",\"1 Season\",\"1 Season\",\"1 Season\",\"10 Seasons\",\"10 Seasons\",\"10 Seasons\",\"10 Seasons\",\"10 Seasons\",\"10 Seasons\",\"10 min\",\"100 min\",\"100 min\",\"100 min\",\"100 min\",\"100 min\",\"100 min\",\"100 min\",\"100 min\",\"100 min\",\"100 min\",\"100 min\",\"100 min\",\"100 min\",\"100 min\",\"100 min\",\"100 min\",\"100 min\",\"100 min\",\"100 min\",\"100 min\",\"100 min\",\"100 min\",\"100 min\",\"100 min\",\"100 min\",\"100 min\",\"100 min\",\"100 min\",\"100 min\",\"100 min\",\"100 min\",\"100 min\",\"100 min\",\"100 min\",\"100 min\",\"100 min\",\"100 min\",\"100 min\",\"100 min\",\"100 min\",\"100 min\",\"100 min\",\"100 min\",\"100 min\",\"100 min\",\"100 min\",\"100 min\",\"100 min\",\"100 min\",\"100 min\",\"100 min\",\"100 min\",\"100 min\",\"100 min\",\"100 min\",\"100 min\",\"100 min\",\"100 min\",\"100 min\",\"100 min\",\"100 min\",\"100 min\",\"100 min\",\"100 min\",\"100 min\",\"100 min\",\"100 min\",\"100 min\",\"100 min\",\"100 min\",\"100 min\",\"100 min\",\"100 min\",\"100 min\",\"100 min\",\"100 min\",\"100 min\",\"100 min\",\"100 min\",\"100 min\",\"100 min\",\"100 min\",\"100 min\",\"100 min\",\"100 min\",\"100 min\",\"100 min\",\"100 min\",\"100 min\",\"100 min\",\"100 min\",\"100 min\",\"100 min\",\"100 min\",\"100 min\",\"100 min\",\"100 min\",\"100 min\",\"100 min\",\"100 min\",\"100 min\",\"100 min\",\"100 min\",\"100 min\",\"100 min\",\"100 min\",\"100 min\",\"100 min\",\"101 min\",\"101 min\",\"101 min\",\"101 min\",\"101 min\",\"101 min\",\"101 min\",\"101 min\",\"101 min\",\"101 min\",\"101 min\",\"101 min\",\"101 min\",\"101 min\",\"101 min\",\"101 min\",\"101 min\",\"101 min\",\"101 min\",\"101 min\",\"101 min\",\"101 min\",\"101 min\",\"101 min\",\"101 min\",\"101 min\",\"101 min\",\"101 min\",\"101 min\",\"101 min\",\"101 min\",\"101 min\",\"101 min\",\"101 min\",\"101 min\",\"101 min\",\"101 min\",\"101 min\",\"101 min\",\"101 min\",\"101 min\",\"101 min\",\"101 min\",\"101 min\",\"101 min\",\"101 min\",\"101 min\",\"101 min\",\"101 min\",\"101 min\",\"101 min\",\"101 min\",\"101 min\",\"101 min\",\"101 min\",\"101 min\",\"101 min\",\"101 min\",\"101 min\",\"101 min\",\"101 min\",\"101 min\",\"101 min\",\"101 min\",\"101 min\",\"101 min\",\"101 min\",\"101 min\",\"101 min\",\"101 min\",\"101 min\",\"101 min\",\"101 min\",\"101 min\",\"101 min\",\"101 min\",\"101 min\",\"101 min\",\"101 min\",\"101 min\",\"101 min\",\"101 min\",\"101 min\",\"101 min\",\"101 min\",\"101 min\",\"101 min\",\"101 min\",\"101 min\",\"101 min\",\"101 min\",\"101 min\",\"101 min\",\"101 min\",\"101 min\",\"101 min\",\"101 min\",\"101 min\",\"101 min\",\"101 min\",\"101 min\",\"101 min\",\"101 min\",\"101 min\",\"101 min\",\"101 min\",\"101 min\",\"101 min\",\"101 min\",\"101 min\",\"101 min\",\"101 min\",\"101 min\",\"101 min\",\"101 min\",\"101 min\",\"102 min\",\"102 min\",\"102 min\",\"102 min\",\"102 min\",\"102 min\",\"102 min\",\"102 min\",\"102 min\",\"102 min\",\"102 min\",\"102 min\",\"102 min\",\"102 min\",\"102 min\",\"102 min\",\"102 min\",\"102 min\",\"102 min\",\"102 min\",\"102 min\",\"102 min\",\"102 min\",\"102 min\",\"102 min\",\"102 min\",\"102 min\",\"102 min\",\"102 min\",\"102 min\",\"102 min\",\"102 min\",\"102 min\",\"102 min\",\"102 min\",\"102 min\",\"102 min\",\"102 min\",\"102 min\",\"102 min\",\"102 min\",\"102 min\",\"102 min\",\"102 min\",\"102 min\",\"102 min\",\"102 min\",\"102 min\",\"102 min\",\"102 min\",\"102 min\",\"102 min\",\"102 min\",\"102 min\",\"102 min\",\"102 min\",\"102 min\",\"102 min\",\"102 min\",\"102 min\",\"102 min\",\"102 min\",\"102 min\",\"102 min\",\"102 min\",\"102 min\",\"102 min\",\"102 min\",\"102 min\",\"102 min\",\"102 min\",\"102 min\",\"102 min\",\"102 min\",\"102 min\",\"102 min\",\"102 min\",\"102 min\",\"102 min\",\"102 min\",\"102 min\",\"102 min\",\"102 min\",\"102 min\",\"102 min\",\"102 min\",\"102 min\",\"102 min\",\"102 min\",\"102 min\",\"102 min\",\"102 min\",\"102 min\",\"102 min\",\"102 min\",\"102 min\",\"102 min\",\"102 min\",\"102 min\",\"102 min\",\"102 min\",\"102 min\",\"102 min\",\"102 min\",\"102 min\",\"102 min\",\"102 min\",\"102 min\",\"102 min\",\"102 min\",\"102 min\",\"102 min\",\"102 min\",\"102 min\",\"102 min\",\"102 min\",\"102 min\",\"102 min\",\"102 min\",\"102 min\",\"102 min\",\"102 min\",\"103 min\",\"103 min\",\"103 min\",\"103 min\",\"103 min\",\"103 min\",\"103 min\",\"103 min\",\"103 min\",\"103 min\",\"103 min\",\"103 min\",\"103 min\",\"103 min\",\"103 min\",\"103 min\",\"103 min\",\"103 min\",\"103 min\",\"103 min\",\"103 min\",\"103 min\",\"103 min\",\"103 min\",\"103 min\",\"103 min\",\"103 min\",\"103 min\",\"103 min\",\"103 min\",\"103 min\",\"103 min\",\"103 min\",\"103 min\",\"103 min\",\"103 min\",\"103 min\",\"103 min\",\"103 min\",\"103 min\",\"103 min\",\"103 min\",\"103 min\",\"103 min\",\"103 min\",\"103 min\",\"103 min\",\"103 min\",\"103 min\",\"103 min\",\"103 min\",\"103 min\",\"103 min\",\"103 min\",\"103 min\",\"103 min\",\"103 min\",\"103 min\",\"103 min\",\"103 min\",\"103 min\",\"103 min\",\"103 min\",\"103 min\",\"103 min\",\"103 min\",\"103 min\",\"103 min\",\"103 min\",\"103 min\",\"103 min\",\"103 min\",\"103 min\",\"103 min\",\"103 min\",\"103 min\",\"103 min\",\"103 min\",\"103 min\",\"103 min\",\"103 min\",\"103 min\",\"103 min\",\"103 min\",\"103 min\",\"103 min\",\"103 min\",\"103 min\",\"103 min\",\"103 min\",\"103 min\",\"103 min\",\"103 min\",\"103 min\",\"103 min\",\"103 min\",\"103 min\",\"103 min\",\"103 min\",\"103 min\",\"103 min\",\"103 min\",\"103 min\",\"103 min\",\"103 min\",\"103 min\",\"103 min\",\"103 min\",\"103 min\",\"103 min\",\"103 min\",\"103 min\",\"103 min\",\"103 min\",\"104 min\",\"104 min\",\"104 min\",\"104 min\",\"104 min\",\"104 min\",\"104 min\",\"104 min\",\"104 min\",\"104 min\",\"104 min\",\"104 min\",\"104 min\",\"104 min\",\"104 min\",\"104 min\",\"104 min\",\"104 min\",\"104 min\",\"104 min\",\"104 min\",\"104 min\",\"104 min\",\"104 min\",\"104 min\",\"104 min\",\"104 min\",\"104 min\",\"104 min\",\"104 min\",\"104 min\",\"104 min\",\"104 min\",\"104 min\",\"104 min\",\"104 min\",\"104 min\",\"104 min\",\"104 min\",\"104 min\",\"104 min\",\"104 min\",\"104 min\",\"104 min\",\"104 min\",\"104 min\",\"104 min\",\"104 min\",\"104 min\",\"104 min\",\"104 min\",\"104 min\",\"104 min\",\"104 min\",\"104 min\",\"104 min\",\"104 min\",\"104 min\",\"104 min\",\"104 min\",\"104 min\",\"104 min\",\"104 min\",\"104 min\",\"104 min\",\"104 min\",\"104 min\",\"104 min\",\"104 min\",\"104 min\",\"104 min\",\"104 min\",\"104 min\",\"104 min\",\"104 min\",\"104 min\",\"104 min\",\"104 min\",\"104 min\",\"104 min\",\"104 min\",\"104 min\",\"104 min\",\"104 min\",\"104 min\",\"104 min\",\"104 min\",\"104 min\",\"104 min\",\"104 min\",\"104 min\",\"104 min\",\"104 min\",\"104 min\",\"104 min\",\"104 min\",\"104 min\",\"104 min\",\"104 min\",\"104 min\",\"104 min\",\"104 min\",\"104 min\",\"104 min\",\"105 min\",\"105 min\",\"105 min\",\"105 min\",\"105 min\",\"105 min\",\"105 min\",\"105 min\",\"105 min\",\"105 min\",\"105 min\",\"105 min\",\"105 min\",\"105 min\",\"105 min\",\"105 min\",\"105 min\",\"105 min\",\"105 min\",\"105 min\",\"105 min\",\"105 min\",\"105 min\",\"105 min\",\"105 min\",\"105 min\",\"105 min\",\"105 min\",\"105 min\",\"105 min\",\"105 min\",\"105 min\",\"105 min\",\"105 min\",\"105 min\",\"105 min\",\"105 min\",\"105 min\",\"105 min\",\"105 min\",\"105 min\",\"105 min\",\"105 min\",\"105 min\",\"105 min\",\"105 min\",\"105 min\",\"105 min\",\"105 min\",\"105 min\",\"105 min\",\"105 min\",\"105 min\",\"105 min\",\"105 min\",\"105 min\",\"105 min\",\"105 min\",\"105 min\",\"105 min\",\"105 min\",\"105 min\",\"105 min\",\"105 min\",\"105 min\",\"105 min\",\"105 min\",\"105 min\",\"105 min\",\"105 min\",\"105 min\",\"105 min\",\"105 min\",\"105 min\",\"105 min\",\"105 min\",\"105 min\",\"105 min\",\"105 min\",\"105 min\",\"105 min\",\"105 min\",\"105 min\",\"105 min\",\"105 min\",\"105 min\",\"105 min\",\"105 min\",\"105 min\",\"105 min\",\"105 min\",\"105 min\",\"105 min\",\"105 min\",\"105 min\",\"105 min\",\"105 min\",\"105 min\",\"105 min\",\"105 min\",\"105 min\",\"106 min\",\"106 min\",\"106 min\",\"106 min\",\"106 min\",\"106 min\",\"106 min\",\"106 min\",\"106 min\",\"106 min\",\"106 min\",\"106 min\",\"106 min\",\"106 min\",\"106 min\",\"106 min\",\"106 min\",\"106 min\",\"106 min\",\"106 min\",\"106 min\",\"106 min\",\"106 min\",\"106 min\",\"106 min\",\"106 min\",\"106 min\",\"106 min\",\"106 min\",\"106 min\",\"106 min\",\"106 min\",\"106 min\",\"106 min\",\"106 min\",\"106 min\",\"106 min\",\"106 min\",\"106 min\",\"106 min\",\"106 min\",\"106 min\",\"106 min\",\"106 min\",\"106 min\",\"106 min\",\"106 min\",\"106 min\",\"106 min\",\"106 min\",\"106 min\",\"106 min\",\"106 min\",\"106 min\",\"106 min\",\"106 min\",\"106 min\",\"106 min\",\"106 min\",\"106 min\",\"106 min\",\"106 min\",\"106 min\",\"106 min\",\"106 min\",\"106 min\",\"106 min\",\"106 min\",\"106 min\",\"106 min\",\"106 min\",\"106 min\",\"106 min\",\"106 min\",\"106 min\",\"106 min\",\"106 min\",\"106 min\",\"106 min\",\"106 min\",\"106 min\",\"106 min\",\"106 min\",\"106 min\",\"106 min\",\"106 min\",\"106 min\",\"106 min\",\"106 min\",\"106 min\",\"106 min\",\"106 min\",\"106 min\",\"106 min\",\"106 min\",\"106 min\",\"106 min\",\"106 min\",\"106 min\",\"106 min\",\"106 min\",\"106 min\",\"106 min\",\"106 min\",\"106 min\",\"106 min\",\"106 min\",\"106 min\",\"106 min\",\"106 min\",\"106 min\",\"107 min\",\"107 min\",\"107 min\",\"107 min\",\"107 min\",\"107 min\",\"107 min\",\"107 min\",\"107 min\",\"107 min\",\"107 min\",\"107 min\",\"107 min\",\"107 min\",\"107 min\",\"107 min\",\"107 min\",\"107 min\",\"107 min\",\"107 min\",\"107 min\",\"107 min\",\"107 min\",\"107 min\",\"107 min\",\"107 min\",\"107 min\",\"107 min\",\"107 min\",\"107 min\",\"107 min\",\"107 min\",\"107 min\",\"107 min\",\"107 min\",\"107 min\",\"107 min\",\"107 min\",\"107 min\",\"107 min\",\"107 min\",\"107 min\",\"107 min\",\"107 min\",\"107 min\",\"107 min\",\"107 min\",\"107 min\",\"107 min\",\"107 min\",\"107 min\",\"107 min\",\"107 min\",\"107 min\",\"107 min\",\"107 min\",\"107 min\",\"107 min\",\"107 min\",\"107 min\",\"107 min\",\"107 min\",\"107 min\",\"107 min\",\"107 min\",\"107 min\",\"107 min\",\"107 min\",\"107 min\",\"107 min\",\"107 min\",\"107 min\",\"107 min\",\"107 min\",\"107 min\",\"107 min\",\"107 min\",\"107 min\",\"107 min\",\"107 min\",\"107 min\",\"107 min\",\"107 min\",\"107 min\",\"107 min\",\"107 min\",\"107 min\",\"107 min\",\"107 min\",\"107 min\",\"107 min\",\"107 min\",\"107 min\",\"107 min\",\"107 min\",\"107 min\",\"107 min\",\"107 min\",\"108 min\",\"108 min\",\"108 min\",\"108 min\",\"108 min\",\"108 min\",\"108 min\",\"108 min\",\"108 min\",\"108 min\",\"108 min\",\"108 min\",\"108 min\",\"108 min\",\"108 min\",\"108 min\",\"108 min\",\"108 min\",\"108 min\",\"108 min\",\"108 min\",\"108 min\",\"108 min\",\"108 min\",\"108 min\",\"108 min\",\"108 min\",\"108 min\",\"108 min\",\"108 min\",\"108 min\",\"108 min\",\"108 min\",\"108 min\",\"108 min\",\"108 min\",\"108 min\",\"108 min\",\"108 min\",\"108 min\",\"108 min\",\"108 min\",\"108 min\",\"108 min\",\"108 min\",\"108 min\",\"108 min\",\"108 min\",\"108 min\",\"108 min\",\"108 min\",\"108 min\",\"108 min\",\"108 min\",\"108 min\",\"108 min\",\"108 min\",\"108 min\",\"108 min\",\"108 min\",\"108 min\",\"108 min\",\"108 min\",\"108 min\",\"108 min\",\"108 min\",\"108 min\",\"108 min\",\"108 min\",\"108 min\",\"108 min\",\"108 min\",\"108 min\",\"108 min\",\"108 min\",\"108 min\",\"108 min\",\"108 min\",\"108 min\",\"108 min\",\"108 min\",\"108 min\",\"108 min\",\"108 min\",\"108 min\",\"108 min\",\"108 min\",\"109 min\",\"109 min\",\"109 min\",\"109 min\",\"109 min\",\"109 min\",\"109 min\",\"109 min\",\"109 min\",\"109 min\",\"109 min\",\"109 min\",\"109 min\",\"109 min\",\"109 min\",\"109 min\",\"109 min\",\"109 min\",\"109 min\",\"109 min\",\"109 min\",\"109 min\",\"109 min\",\"109 min\",\"109 min\",\"109 min\",\"109 min\",\"109 min\",\"109 min\",\"109 min\",\"109 min\",\"109 min\",\"109 min\",\"109 min\",\"109 min\",\"109 min\",\"109 min\",\"109 min\",\"109 min\",\"109 min\",\"109 min\",\"109 min\",\"109 min\",\"109 min\",\"109 min\",\"109 min\",\"109 min\",\"109 min\",\"109 min\",\"109 min\",\"109 min\",\"109 min\",\"109 min\",\"109 min\",\"109 min\",\"109 min\",\"109 min\",\"109 min\",\"109 min\",\"109 min\",\"109 min\",\"109 min\",\"109 min\",\"109 min\",\"109 min\",\"109 min\",\"109 min\",\"109 min\",\"109 min\",\"11 Seasons\",\"11 min\",\"11 min\",\"110 min\",\"110 min\",\"110 min\",\"110 min\",\"110 min\",\"110 min\",\"110 min\",\"110 min\",\"110 min\",\"110 min\",\"110 min\",\"110 min\",\"110 min\",\"110 min\",\"110 min\",\"110 min\",\"110 min\",\"110 min\",\"110 min\",\"110 min\",\"110 min\",\"110 min\",\"110 min\",\"110 min\",\"110 min\",\"110 min\",\"110 min\",\"110 min\",\"110 min\",\"110 min\",\"110 min\",\"110 min\",\"110 min\",\"110 min\",\"110 min\",\"110 min\",\"110 min\",\"110 min\",\"110 min\",\"110 min\",\"110 min\",\"110 min\",\"110 min\",\"110 min\",\"110 min\",\"110 min\",\"110 min\",\"110 min\",\"110 min\",\"110 min\",\"110 min\",\"110 min\",\"110 min\",\"110 min\",\"110 min\",\"110 min\",\"110 min\",\"110 min\",\"110 min\",\"110 min\",\"110 min\",\"110 min\",\"110 min\",\"110 min\",\"110 min\",\"110 min\",\"110 min\",\"110 min\",\"110 min\",\"110 min\",\"110 min\",\"110 min\",\"110 min\",\"110 min\",\"110 min\",\"110 min\",\"110 min\",\"110 min\",\"110 min\",\"110 min\",\"110 min\",\"110 min\",\"110 min\",\"110 min\",\"110 min\",\"110 min\",\"110 min\",\"110 min\",\"110 min\",\"110 min\",\"110 min\",\"110 min\",\"110 min\",\"110 min\",\"110 min\",\"110 min\",\"110 min\",\"111 min\",\"111 min\",\"111 min\",\"111 min\",\"111 min\",\"111 min\",\"111 min\",\"111 min\",\"111 min\",\"111 min\",\"111 min\",\"111 min\",\"111 min\",\"111 min\",\"111 min\",\"111 min\",\"111 min\",\"111 min\",\"111 min\",\"111 min\",\"111 min\",\"111 min\",\"111 min\",\"111 min\",\"111 min\",\"111 min\",\"111 min\",\"111 min\",\"111 min\",\"111 min\",\"111 min\",\"111 min\",\"111 min\",\"111 min\",\"111 min\",\"111 min\",\"111 min\",\"111 min\",\"111 min\",\"111 min\",\"111 min\",\"111 min\",\"111 min\",\"111 min\",\"111 min\",\"111 min\",\"111 min\",\"111 min\",\"111 min\",\"111 min\",\"111 min\",\"111 min\",\"111 min\",\"111 min\",\"111 min\",\"111 min\",\"111 min\",\"111 min\",\"111 min\",\"111 min\",\"111 min\",\"111 min\",\"111 min\",\"111 min\",\"111 min\",\"111 min\",\"111 min\",\"111 min\",\"112 min\",\"112 min\",\"112 min\",\"112 min\",\"112 min\",\"112 min\",\"112 min\",\"112 min\",\"112 min\",\"112 min\",\"112 min\",\"112 min\",\"112 min\",\"112 min\",\"112 min\",\"112 min\",\"112 min\",\"112 min\",\"112 min\",\"112 min\",\"112 min\",\"112 min\",\"112 min\",\"112 min\",\"112 min\",\"112 min\",\"112 min\",\"112 min\",\"112 min\",\"112 min\",\"112 min\",\"112 min\",\"112 min\",\"112 min\",\"112 min\",\"112 min\",\"112 min\",\"112 min\",\"112 min\",\"112 min\",\"112 min\",\"112 min\",\"112 min\",\"112 min\",\"112 min\",\"112 min\",\"112 min\",\"112 min\",\"112 min\",\"112 min\",\"112 min\",\"112 min\",\"112 min\",\"112 min\",\"112 min\",\"112 min\",\"112 min\",\"112 min\",\"112 min\",\"112 min\",\"112 min\",\"112 min\",\"112 min\",\"112 min\",\"112 min\",\"112 min\",\"112 min\",\"112 min\",\"112 min\",\"112 min\",\"112 min\",\"112 min\",\"112 min\",\"112 min\",\"113 min\",\"113 min\",\"113 min\",\"113 min\",\"113 min\",\"113 min\",\"113 min\",\"113 min\",\"113 min\",\"113 min\",\"113 min\",\"113 min\",\"113 min\",\"113 min\",\"113 min\",\"113 min\",\"113 min\",\"113 min\",\"113 min\",\"113 min\",\"113 min\",\"113 min\",\"113 min\",\"113 min\",\"113 min\",\"113 min\",\"113 min\",\"113 min\",\"113 min\",\"113 min\",\"113 min\",\"113 min\",\"113 min\",\"113 min\",\"113 min\",\"113 min\",\"113 min\",\"113 min\",\"113 min\",\"113 min\",\"113 min\",\"113 min\",\"113 min\",\"113 min\",\"113 min\",\"113 min\",\"113 min\",\"113 min\",\"113 min\",\"113 min\",\"113 min\",\"113 min\",\"113 min\",\"113 min\",\"113 min\",\"113 min\",\"113 min\",\"113 min\",\"113 min\",\"113 min\",\"113 min\",\"113 min\",\"113 min\",\"113 min\",\"113 min\",\"113 min\",\"113 min\",\"113 min\",\"113 min\",\"114 min\",\"114 min\",\"114 min\",\"114 min\",\"114 min\",\"114 min\",\"114 min\",\"114 min\",\"114 min\",\"114 min\",\"114 min\",\"114 min\",\"114 min\",\"114 min\",\"114 min\",\"114 min\",\"114 min\",\"114 min\",\"114 min\",\"114 min\",\"114 min\",\"114 min\",\"114 min\",\"114 min\",\"114 min\",\"114 min\",\"114 min\",\"114 min\",\"114 min\",\"114 min\",\"114 min\",\"114 min\",\"114 min\",\"114 min\",\"114 min\",\"114 min\",\"114 min\",\"114 min\",\"114 min\",\"114 min\",\"114 min\",\"114 min\",\"114 min\",\"114 min\",\"114 min\",\"114 min\",\"114 min\",\"114 min\",\"114 min\",\"114 min\",\"114 min\",\"114 min\",\"114 min\",\"114 min\",\"114 min\",\"114 min\",\"115 min\",\"115 min\",\"115 min\",\"115 min\",\"115 min\",\"115 min\",\"115 min\",\"115 min\",\"115 min\",\"115 min\",\"115 min\",\"115 min\",\"115 min\",\"115 min\",\"115 min\",\"115 min\",\"115 min\",\"115 min\",\"115 min\",\"115 min\",\"115 min\",\"115 min\",\"115 min\",\"115 min\",\"115 min\",\"115 min\",\"115 min\",\"115 min\",\"115 min\",\"115 min\",\"115 min\",\"115 min\",\"115 min\",\"115 min\",\"115 min\",\"115 min\",\"115 min\",\"115 min\",\"115 min\",\"115 min\",\"115 min\",\"115 min\",\"115 min\",\"115 min\",\"115 min\",\"115 min\",\"115 min\",\"115 min\",\"115 min\",\"115 min\",\"115 min\",\"115 min\",\"115 min\",\"115 min\",\"115 min\",\"115 min\",\"115 min\",\"115 min\",\"115 min\",\"115 min\",\"116 min\",\"116 min\",\"116 min\",\"116 min\",\"116 min\",\"116 min\",\"116 min\",\"116 min\",\"116 min\",\"116 min\",\"116 min\",\"116 min\",\"116 min\",\"116 min\",\"116 min\",\"116 min\",\"116 min\",\"116 min\",\"116 min\",\"116 min\",\"116 min\",\"116 min\",\"116 min\",\"116 min\",\"116 min\",\"116 min\",\"116 min\",\"116 min\",\"116 min\",\"116 min\",\"116 min\",\"116 min\",\"116 min\",\"116 min\",\"116 min\",\"116 min\",\"116 min\",\"116 min\",\"116 min\",\"116 min\",\"116 min\",\"116 min\",\"116 min\",\"116 min\",\"116 min\",\"116 min\",\"116 min\",\"116 min\",\"116 min\",\"116 min\",\"116 min\",\"116 min\",\"116 min\",\"116 min\",\"116 min\",\"116 min\",\"116 min\",\"116 min\",\"116 min\",\"116 min\",\"116 min\",\"116 min\",\"116 min\",\"116 min\",\"116 min\",\"116 min\",\"116 min\",\"116 min\",\"116 min\",\"116 min\",\"116 min\",\"116 min\",\"116 min\",\"116 min\",\"116 min\",\"116 min\",\"116 min\",\"116 min\",\"116 min\",\"116 min\",\"117 min\",\"117 min\",\"117 min\",\"117 min\",\"117 min\",\"117 min\",\"117 min\",\"117 min\",\"117 min\",\"117 min\",\"117 min\",\"117 min\",\"117 min\",\"117 min\",\"117 min\",\"117 min\",\"117 min\",\"117 min\",\"117 min\",\"117 min\",\"117 min\",\"117 min\",\"117 min\",\"117 min\",\"117 min\",\"117 min\",\"117 min\",\"117 min\",\"117 min\",\"117 min\",\"117 min\",\"117 min\",\"117 min\",\"117 min\",\"117 min\",\"117 min\",\"117 min\",\"117 min\",\"117 min\",\"117 min\",\"117 min\",\"117 min\",\"117 min\",\"117 min\",\"117 min\",\"117 min\",\"117 min\",\"117 min\",\"117 min\",\"117 min\",\"117 min\",\"117 min\",\"117 min\",\"117 min\",\"117 min\",\"117 min\",\"117 min\",\"117 min\",\"117 min\",\"117 min\",\"117 min\",\"118 min\",\"118 min\",\"118 min\",\"118 min\",\"118 min\",\"118 min\",\"118 min\",\"118 min\",\"118 min\",\"118 min\",\"118 min\",\"118 min\",\"118 min\",\"118 min\",\"118 min\",\"118 min\",\"118 min\",\"118 min\",\"118 min\",\"118 min\",\"118 min\",\"118 min\",\"118 min\",\"118 min\",\"118 min\",\"118 min\",\"118 min\",\"118 min\",\"118 min\",\"118 min\",\"118 min\",\"118 min\",\"118 min\",\"118 min\",\"118 min\",\"118 min\",\"118 min\",\"118 min\",\"118 min\",\"118 min\",\"118 min\",\"118 min\",\"118 min\",\"118 min\",\"118 min\",\"118 min\",\"118 min\",\"118 min\",\"118 min\",\"118 min\",\"118 min\",\"118 min\",\"118 min\",\"118 min\",\"118 min\",\"118 min\",\"118 min\",\"118 min\",\"118 min\",\"118 min\",\"118 min\",\"118 min\",\"118 min\",\"118 min\",\"118 min\",\"119 min\",\"119 min\",\"119 min\",\"119 min\",\"119 min\",\"119 min\",\"119 min\",\"119 min\",\"119 min\",\"119 min\",\"119 min\",\"119 min\",\"119 min\",\"119 min\",\"119 min\",\"119 min\",\"119 min\",\"119 min\",\"119 min\",\"119 min\",\"119 min\",\"119 min\",\"119 min\",\"119 min\",\"119 min\",\"119 min\",\"119 min\",\"119 min\",\"119 min\",\"119 min\",\"119 min\",\"119 min\",\"119 min\",\"119 min\",\"119 min\",\"119 min\",\"119 min\",\"119 min\",\"119 min\",\"119 min\",\"119 min\",\"119 min\",\"119 min\",\"119 min\",\"119 min\",\"119 min\",\"119 min\",\"119 min\",\"119 min\",\"119 min\",\"119 min\",\"119 min\",\"119 min\",\"119 min\",\"119 min\",\"119 min\",\"119 min\",\"119 min\",\"119 min\",\"119 min\",\"119 min\",\"119 min\",\"119 min\",\"12 Seasons\",\"12 Seasons\",\"12 min\",\"12 min\",\"12 min\",\"120 min\",\"120 min\",\"120 min\",\"120 min\",\"120 min\",\"120 min\",\"120 min\",\"120 min\",\"120 min\",\"120 min\",\"120 min\",\"120 min\",\"120 min\",\"120 min\",\"120 min\",\"120 min\",\"120 min\",\"120 min\",\"120 min\",\"120 min\",\"120 min\",\"120 min\",\"120 min\",\"120 min\",\"120 min\",\"120 min\",\"120 min\",\"120 min\",\"120 min\",\"120 min\",\"120 min\",\"120 min\",\"120 min\",\"120 min\",\"120 min\",\"120 min\",\"120 min\",\"120 min\",\"120 min\",\"120 min\",\"120 min\",\"120 min\",\"120 min\",\"120 min\",\"120 min\",\"120 min\",\"120 min\",\"120 min\",\"120 min\",\"120 min\",\"120 min\",\"120 min\",\"120 min\",\"120 min\",\"120 min\",\"120 min\",\"121 min\",\"121 min\",\"121 min\",\"121 min\",\"121 min\",\"121 min\",\"121 min\",\"121 min\",\"121 min\",\"121 min\",\"121 min\",\"121 min\",\"121 min\",\"121 min\",\"121 min\",\"121 min\",\"121 min\",\"121 min\",\"121 min\",\"121 min\",\"121 min\",\"121 min\",\"121 min\",\"121 min\",\"121 min\",\"121 min\",\"121 min\",\"121 min\",\"121 min\",\"121 min\",\"121 min\",\"121 min\",\"121 min\",\"121 min\",\"121 min\",\"121 min\",\"121 min\",\"121 min\",\"121 min\",\"121 min\",\"121 min\",\"121 min\",\"121 min\",\"121 min\",\"121 min\",\"121 min\",\"121 min\",\"121 min\",\"121 min\",\"121 min\",\"121 min\",\"121 min\",\"121 min\",\"121 min\",\"122 min\",\"122 min\",\"122 min\",\"122 min\",\"122 min\",\"122 min\",\"122 min\",\"122 min\",\"122 min\",\"122 min\",\"122 min\",\"122 min\",\"122 min\",\"122 min\",\"122 min\",\"122 min\",\"122 min\",\"122 min\",\"122 min\",\"122 min\",\"122 min\",\"122 min\",\"122 min\",\"122 min\",\"122 min\",\"122 min\",\"122 min\",\"122 min\",\"122 min\",\"122 min\",\"122 min\",\"122 min\",\"122 min\",\"122 min\",\"122 min\",\"122 min\",\"122 min\",\"122 min\",\"122 min\",\"122 min\",\"122 min\",\"122 min\",\"122 min\",\"122 min\",\"122 min\",\"123 min\",\"123 min\",\"123 min\",\"123 min\",\"123 min\",\"123 min\",\"123 min\",\"123 min\",\"123 min\",\"123 min\",\"123 min\",\"123 min\",\"123 min\",\"123 min\",\"123 min\",\"123 min\",\"123 min\",\"123 min\",\"123 min\",\"123 min\",\"123 min\",\"123 min\",\"123 min\",\"123 min\",\"123 min\",\"123 min\",\"123 min\",\"123 min\",\"123 min\",\"123 min\",\"123 min\",\"123 min\",\"123 min\",\"123 min\",\"123 min\",\"123 min\",\"123 min\",\"123 min\",\"123 min\",\"123 min\",\"123 min\",\"123 min\",\"123 min\",\"123 min\",\"124 min\",\"124 min\",\"124 min\",\"124 min\",\"124 min\",\"124 min\",\"124 min\",\"124 min\",\"124 min\",\"124 min\",\"124 min\",\"124 min\",\"124 min\",\"124 min\",\"124 min\",\"124 min\",\"124 min\",\"124 min\",\"124 min\",\"124 min\",\"124 min\",\"124 min\",\"124 min\",\"124 min\",\"124 min\",\"124 min\",\"124 min\",\"124 min\",\"124 min\",\"124 min\",\"124 min\",\"124 min\",\"124 min\",\"124 min\",\"124 min\",\"124 min\",\"124 min\",\"124 min\",\"124 min\",\"124 min\",\"124 min\",\"124 min\",\"124 min\",\"124 min\",\"124 min\",\"124 min\",\"124 min\",\"124 min\",\"124 min\",\"124 min\",\"124 min\",\"124 min\",\"125 min\",\"125 min\",\"125 min\",\"125 min\",\"125 min\",\"125 min\",\"125 min\",\"125 min\",\"125 min\",\"125 min\",\"125 min\",\"125 min\",\"125 min\",\"125 min\",\"125 min\",\"125 min\",\"125 min\",\"125 min\",\"125 min\",\"125 min\",\"125 min\",\"125 min\",\"125 min\",\"125 min\",\"125 min\",\"125 min\",\"125 min\",\"125 min\",\"125 min\",\"125 min\",\"125 min\",\"125 min\",\"125 min\",\"125 min\",\"125 min\",\"125 min\",\"126 min\",\"126 min\",\"126 min\",\"126 min\",\"126 min\",\"126 min\",\"126 min\",\"126 min\",\"126 min\",\"126 min\",\"126 min\",\"126 min\",\"126 min\",\"126 min\",\"126 min\",\"126 min\",\"126 min\",\"126 min\",\"126 min\",\"126 min\",\"126 min\",\"126 min\",\"126 min\",\"126 min\",\"126 min\",\"126 min\",\"126 min\",\"126 min\",\"126 min\",\"126 min\",\"126 min\",\"126 min\",\"126 min\",\"126 min\",\"126 min\",\"126 min\",\"126 min\",\"126 min\",\"126 min\",\"126 min\",\"126 min\",\"126 min\",\"126 min\",\"126 min\",\"127 min\",\"127 min\",\"127 min\",\"127 min\",\"127 min\",\"127 min\",\"127 min\",\"127 min\",\"127 min\",\"127 min\",\"127 min\",\"127 min\",\"127 min\",\"127 min\",\"127 min\",\"127 min\",\"127 min\",\"127 min\",\"127 min\",\"127 min\",\"127 min\",\"127 min\",\"127 min\",\"127 min\",\"127 min\",\"127 min\",\"127 min\",\"127 min\",\"127 min\",\"127 min\",\"127 min\",\"127 min\",\"127 min\",\"127 min\",\"127 min\",\"127 min\",\"127 min\",\"127 min\",\"127 min\",\"127 min\",\"127 min\",\"127 min\",\"127 min\",\"127 min\",\"127 min\",\"127 min\",\"127 min\",\"127 min\",\"128 min\",\"128 min\",\"128 min\",\"128 min\",\"128 min\",\"128 min\",\"128 min\",\"128 min\",\"128 min\",\"128 min\",\"128 min\",\"128 min\",\"128 min\",\"128 min\",\"128 min\",\"128 min\",\"128 min\",\"128 min\",\"128 min\",\"128 min\",\"128 min\",\"128 min\",\"128 min\",\"128 min\",\"128 min\",\"128 min\",\"128 min\",\"128 min\",\"128 min\",\"128 min\",\"128 min\",\"128 min\",\"128 min\",\"128 min\",\"128 min\",\"128 min\",\"128 min\",\"128 min\",\"128 min\",\"128 min\",\"128 min\",\"129 min\",\"129 min\",\"129 min\",\"129 min\",\"129 min\",\"129 min\",\"129 min\",\"129 min\",\"129 min\",\"129 min\",\"129 min\",\"129 min\",\"129 min\",\"129 min\",\"129 min\",\"129 min\",\"129 min\",\"129 min\",\"129 min\",\"129 min\",\"129 min\",\"129 min\",\"129 min\",\"129 min\",\"129 min\",\"129 min\",\"129 min\",\"129 min\",\"129 min\",\"129 min\",\"129 min\",\"129 min\",\"13 Seasons\",\"13 Seasons\",\"13 min\",\"13 min\",\"13 min\",\"130 min\",\"130 min\",\"130 min\",\"130 min\",\"130 min\",\"130 min\",\"130 min\",\"130 min\",\"130 min\",\"130 min\",\"130 min\",\"130 min\",\"130 min\",\"130 min\",\"130 min\",\"130 min\",\"130 min\",\"130 min\",\"130 min\",\"130 min\",\"130 min\",\"130 min\",\"130 min\",\"130 min\",\"130 min\",\"130 min\",\"130 min\",\"130 min\",\"130 min\",\"130 min\",\"130 min\",\"130 min\",\"130 min\",\"130 min\",\"130 min\",\"130 min\",\"130 min\",\"130 min\",\"130 min\",\"130 min\",\"131 min\",\"131 min\",\"131 min\",\"131 min\",\"131 min\",\"131 min\",\"131 min\",\"131 min\",\"131 min\",\"131 min\",\"131 min\",\"131 min\",\"131 min\",\"131 min\",\"131 min\",\"131 min\",\"131 min\",\"131 min\",\"131 min\",\"131 min\",\"131 min\",\"131 min\",\"131 min\",\"131 min\",\"131 min\",\"131 min\",\"131 min\",\"131 min\",\"131 min\",\"131 min\",\"131 min\",\"131 min\",\"131 min\",\"131 min\",\"132 min\",\"132 min\",\"132 min\",\"132 min\",\"132 min\",\"132 min\",\"132 min\",\"132 min\",\"132 min\",\"132 min\",\"132 min\",\"132 min\",\"132 min\",\"132 min\",\"132 min\",\"132 min\",\"132 min\",\"132 min\",\"132 min\",\"132 min\",\"132 min\",\"132 min\",\"132 min\",\"132 min\",\"132 min\",\"132 min\",\"132 min\",\"132 min\",\"132 min\",\"132 min\",\"132 min\",\"132 min\",\"132 min\",\"132 min\",\"132 min\",\"132 min\",\"132 min\",\"133 min\",\"133 min\",\"133 min\",\"133 min\",\"133 min\",\"133 min\",\"133 min\",\"133 min\",\"133 min\",\"133 min\",\"133 min\",\"133 min\",\"133 min\",\"133 min\",\"133 min\",\"133 min\",\"133 min\",\"133 min\",\"133 min\",\"133 min\",\"133 min\",\"133 min\",\"133 min\",\"133 min\",\"133 min\",\"133 min\",\"133 min\",\"133 min\",\"133 min\",\"133 min\",\"133 min\",\"133 min\",\"133 min\",\"133 min\",\"133 min\",\"133 min\",\"133 min\",\"133 min\",\"133 min\",\"133 min\",\"133 min\",\"133 min\",\"134 min\",\"134 min\",\"134 min\",\"134 min\",\"134 min\",\"134 min\",\"134 min\",\"134 min\",\"134 min\",\"134 min\",\"134 min\",\"134 min\",\"134 min\",\"134 min\",\"134 min\",\"134 min\",\"134 min\",\"134 min\",\"134 min\",\"134 min\",\"134 min\",\"134 min\",\"135 min\",\"135 min\",\"135 min\",\"135 min\",\"135 min\",\"135 min\",\"135 min\",\"135 min\",\"135 min\",\"135 min\",\"135 min\",\"135 min\",\"135 min\",\"135 min\",\"135 min\",\"135 min\",\"135 min\",\"135 min\",\"135 min\",\"135 min\",\"135 min\",\"135 min\",\"135 min\",\"135 min\",\"135 min\",\"135 min\",\"135 min\",\"135 min\",\"135 min\",\"135 min\",\"135 min\",\"135 min\",\"135 min\",\"135 min\",\"135 min\",\"135 min\",\"135 min\",\"135 min\",\"135 min\",\"136 min\",\"136 min\",\"136 min\",\"136 min\",\"136 min\",\"136 min\",\"136 min\",\"136 min\",\"136 min\",\"136 min\",\"136 min\",\"136 min\",\"136 min\",\"136 min\",\"136 min\",\"136 min\",\"136 min\",\"136 min\",\"136 min\",\"136 min\",\"136 min\",\"136 min\",\"136 min\",\"137 min\",\"137 min\",\"137 min\",\"137 min\",\"137 min\",\"137 min\",\"137 min\",\"137 min\",\"137 min\",\"137 min\",\"137 min\",\"137 min\",\"137 min\",\"137 min\",\"137 min\",\"137 min\",\"137 min\",\"137 min\",\"137 min\",\"137 min\",\"137 min\",\"137 min\",\"137 min\",\"137 min\",\"137 min\",\"137 min\",\"137 min\",\"137 min\",\"137 min\",\"137 min\",\"137 min\",\"137 min\",\"137 min\",\"137 min\",\"137 min\",\"137 min\",\"137 min\",\"137 min\",\"138 min\",\"138 min\",\"138 min\",\"138 min\",\"138 min\",\"138 min\",\"138 min\",\"138 min\",\"138 min\",\"138 min\",\"138 min\",\"138 min\",\"138 min\",\"138 min\",\"138 min\",\"138 min\",\"138 min\",\"138 min\",\"138 min\",\"138 min\",\"138 min\",\"139 min\",\"139 min\",\"139 min\",\"139 min\",\"139 min\",\"139 min\",\"139 min\",\"139 min\",\"139 min\",\"139 min\",\"139 min\",\"139 min\",\"139 min\",\"139 min\",\"139 min\",\"139 min\",\"139 min\",\"139 min\",\"139 min\",\"139 min\",\"139 min\",\"139 min\",\"14 min\",\"14 min\",\"14 min\",\"140 min\",\"140 min\",\"140 min\",\"140 min\",\"140 min\",\"140 min\",\"140 min\",\"140 min\",\"140 min\",\"140 min\",\"140 min\",\"140 min\",\"140 min\",\"140 min\",\"140 min\",\"140 min\",\"140 min\",\"140 min\",\"140 min\",\"140 min\",\"140 min\",\"140 min\",\"140 min\",\"140 min\",\"140 min\",\"141 min\",\"141 min\",\"141 min\",\"141 min\",\"141 min\",\"141 min\",\"141 min\",\"141 min\",\"141 min\",\"141 min\",\"141 min\",\"141 min\",\"141 min\",\"141 min\",\"141 min\",\"141 min\",\"141 min\",\"141 min\",\"141 min\",\"142 min\",\"142 min\",\"142 min\",\"142 min\",\"142 min\",\"142 min\",\"142 min\",\"142 min\",\"142 min\",\"142 min\",\"142 min\",\"142 min\",\"142 min\",\"143 min\",\"143 min\",\"143 min\",\"143 min\",\"143 min\",\"143 min\",\"143 min\",\"143 min\",\"143 min\",\"143 min\",\"143 min\",\"143 min\",\"143 min\",\"143 min\",\"143 min\",\"143 min\",\"143 min\",\"143 min\",\"143 min\",\"143 min\",\"143 min\",\"143 min\",\"143 min\",\"144 min\",\"144 min\",\"144 min\",\"144 min\",\"144 min\",\"144 min\",\"144 min\",\"144 min\",\"144 min\",\"145 min\",\"145 min\",\"145 min\",\"145 min\",\"145 min\",\"145 min\",\"145 min\",\"145 min\",\"145 min\",\"145 min\",\"145 min\",\"145 min\",\"145 min\",\"145 min\",\"145 min\",\"145 min\",\"145 min\",\"145 min\",\"146 min\",\"146 min\",\"146 min\",\"146 min\",\"146 min\",\"146 min\",\"146 min\",\"146 min\",\"146 min\",\"146 min\",\"146 min\",\"146 min\",\"146 min\",\"147 min\",\"147 min\",\"147 min\",\"147 min\",\"147 min\",\"147 min\",\"147 min\",\"147 min\",\"147 min\",\"147 min\",\"147 min\",\"147 min\",\"148 min\",\"148 min\",\"148 min\",\"148 min\",\"148 min\",\"148 min\",\"148 min\",\"148 min\",\"148 min\",\"148 min\",\"148 min\",\"148 min\",\"148 min\",\"148 min\",\"148 min\",\"148 min\",\"148 min\",\"148 min\",\"148 min\",\"149 min\",\"149 min\",\"149 min\",\"149 min\",\"149 min\",\"149 min\",\"149 min\",\"149 min\",\"149 min\",\"149 min\",\"149 min\",\"149 min\",\"149 min\",\"149 min\",\"149 min\",\"15 Seasons\",\"15 Seasons\",\"15 min\",\"15 min\",\"15 min\",\"150 min\",\"150 min\",\"150 min\",\"150 min\",\"150 min\",\"150 min\",\"150 min\",\"150 min\",\"150 min\",\"150 min\",\"150 min\",\"150 min\",\"150 min\",\"150 min\",\"150 min\",\"150 min\",\"150 min\",\"151 min\",\"151 min\",\"151 min\",\"151 min\",\"151 min\",\"151 min\",\"151 min\",\"151 min\",\"151 min\",\"151 min\",\"151 min\",\"151 min\",\"151 min\",\"151 min\",\"151 min\",\"152 min\",\"152 min\",\"152 min\",\"152 min\",\"152 min\",\"153 min\",\"153 min\",\"153 min\",\"153 min\",\"153 min\",\"153 min\",\"153 min\",\"153 min\",\"153 min\",\"153 min\",\"153 min\",\"154 min\",\"154 min\",\"154 min\",\"154 min\",\"154 min\",\"154 min\",\"154 min\",\"154 min\",\"154 min\",\"154 min\",\"154 min\",\"154 min\",\"154 min\",\"155 min\",\"155 min\",\"155 min\",\"155 min\",\"155 min\",\"155 min\",\"155 min\",\"155 min\",\"155 min\",\"155 min\",\"156 min\",\"156 min\",\"156 min\",\"156 min\",\"156 min\",\"156 min\",\"156 min\",\"156 min\",\"156 min\",\"156 min\",\"157 min\",\"157 min\",\"157 min\",\"157 min\",\"157 min\",\"157 min\",\"158 min\",\"158 min\",\"158 min\",\"158 min\",\"158 min\",\"158 min\",\"158 min\",\"158 min\",\"158 min\",\"158 min\",\"158 min\",\"158 min\",\"159 min\",\"159 min\",\"159 min\",\"159 min\",\"159 min\",\"159 min\",\"16 min\",\"160 min\",\"160 min\",\"160 min\",\"160 min\",\"160 min\",\"160 min\",\"161 min\",\"161 min\",\"161 min\",\"161 min\",\"161 min\",\"161 min\",\"161 min\",\"161 min\",\"161 min\",\"161 min\",\"162 min\",\"162 min\",\"162 min\",\"162 min\",\"162 min\",\"162 min\",\"162 min\",\"162 min\",\"162 min\",\"162 min\",\"162 min\",\"162 min\",\"162 min\",\"162 min\",\"163 min\",\"163 min\",\"163 min\",\"163 min\",\"163 min\",\"163 min\",\"163 min\",\"163 min\",\"163 min\",\"163 min\",\"163 min\",\"164 min\",\"164 min\",\"164 min\",\"164 min\",\"165 min\",\"165 min\",\"165 min\",\"165 min\",\"165 min\",\"165 min\",\"165 min\",\"165 min\",\"166 min\",\"166 min\",\"166 min\",\"166 min\",\"166 min\",\"166 min\",\"166 min\",\"166 min\",\"167 min\",\"168 min\",\"168 min\",\"168 min\",\"168 min\",\"168 min\",\"168 min\",\"168 min\",\"169 min\",\"169 min\",\"17 Seasons\",\"17 min\",\"17 min\",\"17 min\",\"170 min\",\"170 min\",\"170 min\",\"170 min\",\"170 min\",\"171 min\",\"171 min\",\"171 min\",\"171 min\",\"171 min\",\"171 min\",\"171 min\",\"172 min\",\"172 min\",\"172 min\",\"172 min\",\"173 min\",\"173 min\",\"173 min\",\"173 min\",\"173 min\",\"173 min\",\"174 min\",\"174 min\",\"176 min\",\"176 min\",\"176 min\",\"176 min\",\"176 min\",\"177 min\",\"177 min\",\"177 min\",\"177 min\",\"177 min\",\"178 min\",\"179 min\",\"179 min\",\"18 min\",\"180 min\",\"180 min\",\"181 min\",\"181 min\",\"181 min\",\"181 min\",\"182 min\",\"182 min\",\"182 min\",\"185 min\",\"185 min\",\"185 min\",\"185 min\",\"185 min\",\"185 min\",\"186 min\",\"187 min\",\"187 min\",\"189 min\",\"19 min\",\"19 min\",\"190 min\",\"190 min\",\"191 min\",\"192 min\",\"192 min\",\"193 min\",\"194 min\",\"195 min\",\"195 min\",\"196 min\",\"2 Seasons\",\"2 Seasons\",\"2 Seasons\",\"2 Seasons\",\"2 Seasons\",\"2 Seasons\",\"2 Seasons\",\"2 Seasons\",\"2 Seasons\",\"2 Seasons\",\"2 Seasons\",\"2 Seasons\",\"2 Seasons\",\"2 Seasons\",\"2 Seasons\",\"2 Seasons\",\"2 Seasons\",\"2 Seasons\",\"2 Seasons\",\"2 Seasons\",\"2 Seasons\",\"2 Seasons\",\"2 Seasons\",\"2 Seasons\",\"2 Seasons\",\"2 Seasons\",\"2 Seasons\",\"2 Seasons\",\"2 Seasons\",\"2 Seasons\",\"2 Seasons\",\"2 Seasons\",\"2 Seasons\",\"2 Seasons\",\"2 Seasons\",\"2 Seasons\",\"2 Seasons\",\"2 Seasons\",\"2 Seasons\",\"2 Seasons\",\"2 Seasons\",\"2 Seasons\",\"2 Seasons\",\"2 Seasons\",\"2 Seasons\",\"2 Seasons\",\"2 Seasons\",\"2 Seasons\",\"2 Seasons\",\"2 Seasons\",\"2 Seasons\",\"2 Seasons\",\"2 Seasons\",\"2 Seasons\",\"2 Seasons\",\"2 Seasons\",\"2 Seasons\",\"2 Seasons\",\"2 Seasons\",\"2 Seasons\",\"2 Seasons\",\"2 Seasons\",\"2 Seasons\",\"2 Seasons\",\"2 Seasons\",\"2 Seasons\",\"2 Seasons\",\"2 Seasons\",\"2 Seasons\",\"2 Seasons\",\"2 Seasons\",\"2 Seasons\",\"2 Seasons\",\"2 Seasons\",\"2 Seasons\",\"2 Seasons\",\"2 Seasons\",\"2 Seasons\",\"2 Seasons\",\"2 Seasons\",\"2 Seasons\",\"2 Seasons\",\"2 Seasons\",\"2 Seasons\",\"2 Seasons\",\"2 Seasons\",\"2 Seasons\",\"2 Seasons\",\"2 Seasons\",\"2 Seasons\",\"2 Seasons\",\"2 Seasons\",\"2 Seasons\",\"2 Seasons\",\"2 Seasons\",\"2 Seasons\",\"2 Seasons\",\"2 Seasons\",\"2 Seasons\",\"2 Seasons\",\"2 Seasons\",\"2 Seasons\",\"2 Seasons\",\"2 Seasons\",\"2 Seasons\",\"2 Seasons\",\"2 Seasons\",\"2 Seasons\",\"2 Seasons\",\"2 Seasons\",\"2 Seasons\",\"2 Seasons\",\"2 Seasons\",\"2 Seasons\",\"2 Seasons\",\"2 Seasons\",\"2 Seasons\",\"2 Seasons\",\"2 Seasons\",\"2 Seasons\",\"2 Seasons\",\"2 Seasons\",\"2 Seasons\",\"2 Seasons\",\"2 Seasons\",\"2 Seasons\",\"2 Seasons\",\"2 Seasons\",\"2 Seasons\",\"2 Seasons\",\"2 Seasons\",\"2 Seasons\",\"2 Seasons\",\"2 Seasons\",\"2 Seasons\",\"2 Seasons\",\"2 Seasons\",\"2 Seasons\",\"2 Seasons\",\"2 Seasons\",\"2 Seasons\",\"2 Seasons\",\"2 Seasons\",\"2 Seasons\",\"2 Seasons\",\"2 Seasons\",\"2 Seasons\",\"2 Seasons\",\"2 Seasons\",\"2 Seasons\",\"2 Seasons\",\"2 Seasons\",\"2 Seasons\",\"2 Seasons\",\"2 Seasons\",\"2 Seasons\",\"2 Seasons\",\"2 Seasons\",\"2 Seasons\",\"2 Seasons\",\"2 Seasons\",\"2 Seasons\",\"2 Seasons\",\"2 Seasons\",\"2 Seasons\",\"2 Seasons\",\"2 Seasons\",\"2 Seasons\",\"2 Seasons\",\"2 Seasons\",\"2 Seasons\",\"2 Seasons\",\"2 Seasons\",\"2 Seasons\",\"2 Seasons\",\"2 Seasons\",\"2 Seasons\",\"2 Seasons\",\"2 Seasons\",\"2 Seasons\",\"2 Seasons\",\"2 Seasons\",\"2 Seasons\",\"2 Seasons\",\"2 Seasons\",\"2 Seasons\",\"2 Seasons\",\"2 Seasons\",\"2 Seasons\",\"2 Seasons\",\"2 Seasons\",\"2 Seasons\",\"2 Seasons\",\"2 Seasons\",\"2 Seasons\",\"2 Seasons\",\"2 Seasons\",\"2 Seasons\",\"2 Seasons\",\"2 Seasons\",\"2 Seasons\",\"2 Seasons\",\"2 Seasons\",\"2 Seasons\",\"2 Seasons\",\"2 Seasons\",\"2 Seasons\",\"2 Seasons\",\"2 Seasons\",\"2 Seasons\",\"2 Seasons\",\"2 Seasons\",\"2 Seasons\",\"2 Seasons\",\"2 Seasons\",\"2 Seasons\",\"2 Seasons\",\"2 Seasons\",\"2 Seasons\",\"2 Seasons\",\"2 Seasons\",\"2 Seasons\",\"2 Seasons\",\"2 Seasons\",\"2 Seasons\",\"2 Seasons\",\"2 Seasons\",\"2 Seasons\",\"2 Seasons\",\"2 Seasons\",\"2 Seasons\",\"2 Seasons\",\"2 Seasons\",\"2 Seasons\",\"2 Seasons\",\"2 Seasons\",\"2 Seasons\",\"2 Seasons\",\"2 Seasons\",\"2 Seasons\",\"2 Seasons\",\"2 Seasons\",\"2 Seasons\",\"2 Seasons\",\"2 Seasons\",\"2 Seasons\",\"2 Seasons\",\"2 Seasons\",\"2 Seasons\",\"2 Seasons\",\"2 Seasons\",\"2 Seasons\",\"2 Seasons\",\"2 Seasons\",\"2 Seasons\",\"2 Seasons\",\"2 Seasons\",\"2 Seasons\",\"2 Seasons\",\"2 Seasons\",\"2 Seasons\",\"2 Seasons\",\"2 Seasons\",\"2 Seasons\",\"2 Seasons\",\"2 Seasons\",\"2 Seasons\",\"2 Seasons\",\"2 Seasons\",\"2 Seasons\",\"2 Seasons\",\"2 Seasons\",\"2 Seasons\",\"2 Seasons\",\"2 Seasons\",\"2 Seasons\",\"2 Seasons\",\"2 Seasons\",\"2 Seasons\",\"2 Seasons\",\"2 Seasons\",\"2 Seasons\",\"2 Seasons\",\"2 Seasons\",\"2 Seasons\",\"2 Seasons\",\"2 Seasons\",\"2 Seasons\",\"2 Seasons\",\"2 Seasons\",\"2 Seasons\",\"2 Seasons\",\"2 Seasons\",\"2 Seasons\",\"2 Seasons\",\"2 Seasons\",\"2 Seasons\",\"2 Seasons\",\"2 Seasons\",\"2 Seasons\",\"2 Seasons\",\"2 Seasons\",\"2 Seasons\",\"2 Seasons\",\"2 Seasons\",\"2 Seasons\",\"2 Seasons\",\"2 Seasons\",\"2 Seasons\",\"2 Seasons\",\"2 Seasons\",\"2 Seasons\",\"2 Seasons\",\"2 Seasons\",\"2 Seasons\",\"2 Seasons\",\"2 Seasons\",\"2 Seasons\",\"2 Seasons\",\"2 Seasons\",\"2 Seasons\",\"2 Seasons\",\"2 Seasons\",\"2 Seasons\",\"2 Seasons\",\"2 Seasons\",\"2 Seasons\",\"2 Seasons\",\"2 Seasons\",\"2 Seasons\",\"2 Seasons\",\"2 Seasons\",\"2 Seasons\",\"2 Seasons\",\"2 Seasons\",\"2 Seasons\",\"2 Seasons\",\"2 Seasons\",\"2 Seasons\",\"2 Seasons\",\"2 Seasons\",\"2 Seasons\",\"2 Seasons\",\"2 Seasons\",\"2 Seasons\",\"2 Seasons\",\"2 Seasons\",\"2 Seasons\",\"2 Seasons\",\"2 Seasons\",\"2 Seasons\",\"2 Seasons\",\"2 Seasons\",\"2 Seasons\",\"2 Seasons\",\"2 Seasons\",\"2 Seasons\",\"2 Seasons\",\"2 Seasons\",\"2 Seasons\",\"2 Seasons\",\"2 Seasons\",\"2 Seasons\",\"2 Seasons\",\"2 Seasons\",\"2 Seasons\",\"2 Seasons\",\"2 Seasons\",\"2 Seasons\",\"2 Seasons\",\"2 Seasons\",\"2 Seasons\",\"2 Seasons\",\"2 Seasons\",\"2 Seasons\",\"2 Seasons\",\"2 Seasons\",\"2 Seasons\",\"2 Seasons\",\"2 Seasons\",\"2 Seasons\",\"2 Seasons\",\"2 Seasons\",\"2 Seasons\",\"2 Seasons\",\"2 Seasons\",\"2 Seasons\",\"2 Seasons\",\"2 Seasons\",\"2 Seasons\",\"2 Seasons\",\"2 Seasons\",\"2 Seasons\",\"2 Seasons\",\"2 Seasons\",\"2 Seasons\",\"2 Seasons\",\"2 Seasons\",\"2 Seasons\",\"2 Seasons\",\"2 Seasons\",\"2 Seasons\",\"2 Seasons\",\"2 Seasons\",\"2 Seasons\",\"2 Seasons\",\"2 Seasons\",\"2 Seasons\",\"2 Seasons\",\"2 Seasons\",\"2 Seasons\",\"2 Seasons\",\"2 Seasons\",\"2 Seasons\",\"2 Seasons\",\"2 Seasons\",\"2 Seasons\",\"2 Seasons\",\"2 Seasons\",\"2 Seasons\",\"2 Seasons\",\"20 min\",\"20 min\",\"200 min\",\"201 min\",\"203 min\",\"204 min\",\"204 min\",\"205 min\",\"208 min\",\"209 min\",\"209 min\",\"21 min\",\"21 min\",\"21 min\",\"212 min\",\"214 min\",\"22 min\",\"22 min\",\"22 min\",\"22 min\",\"22 min\",\"22 min\",\"22 min\",\"22 min\",\"22 min\",\"22 min\",\"22 min\",\"22 min\",\"22 min\",\"22 min\",\"22 min\",\"22 min\",\"224 min\",\"228 min\",\"229 min\",\"23 min\",\"23 min\",\"23 min\",\"23 min\",\"23 min\",\"23 min\",\"23 min\",\"23 min\",\"23 min\",\"23 min\",\"23 min\",\"23 min\",\"23 min\",\"230 min\",\"233 min\",\"237 min\",\"24 min\",\"24 min\",\"24 min\",\"24 min\",\"24 min\",\"24 min\",\"24 min\",\"24 min\",\"24 min\",\"24 min\",\"24 min\",\"24 min\",\"24 min\",\"24 min\",\"24 min\",\"24 min\",\"24 min\",\"24 min\",\"24 min\",\"24 min\",\"24 min\",\"24 min\",\"24 min\",\"25 min\",\"25 min\",\"25 min\",\"25 min\",\"25 min\",\"25 min\",\"25 min\",\"25 min\",\"25 min\",\"25 min\",\"25 min\",\"253 min\",\"26 min\",\"26 min\",\"26 min\",\"26 min\",\"26 min\",\"26 min\",\"27 min\",\"27 min\",\"27 min\",\"273 min\",\"28 min\",\"28 min\",\"28 min\",\"28 min\",\"28 min\",\"28 min\",\"28 min\",\"28 min\",\"28 min\",\"28 min\",\"29 min\",\"29 min\",\"29 min\",\"29 min\",\"29 min\",\"29 min\",\"29 min\",\"29 min\",\"29 min\",\"29 min\",\"29 min\",\"3 Seasons\",\"3 Seasons\",\"3 Seasons\",\"3 Seasons\",\"3 Seasons\",\"3 Seasons\",\"3 Seasons\",\"3 Seasons\",\"3 Seasons\",\"3 Seasons\",\"3 Seasons\",\"3 Seasons\",\"3 Seasons\",\"3 Seasons\",\"3 Seasons\",\"3 Seasons\",\"3 Seasons\",\"3 Seasons\",\"3 Seasons\",\"3 Seasons\",\"3 Seasons\",\"3 Seasons\",\"3 Seasons\",\"3 Seasons\",\"3 Seasons\",\"3 Seasons\",\"3 Seasons\",\"3 Seasons\",\"3 Seasons\",\"3 Seasons\",\"3 Seasons\",\"3 Seasons\",\"3 Seasons\",\"3 Seasons\",\"3 Seasons\",\"3 Seasons\",\"3 Seasons\",\"3 Seasons\",\"3 Seasons\",\"3 Seasons\",\"3 Seasons\",\"3 Seasons\",\"3 Seasons\",\"3 Seasons\",\"3 Seasons\",\"3 Seasons\",\"3 Seasons\",\"3 Seasons\",\"3 Seasons\",\"3 Seasons\",\"3 Seasons\",\"3 Seasons\",\"3 Seasons\",\"3 Seasons\",\"3 Seasons\",\"3 Seasons\",\"3 Seasons\",\"3 Seasons\",\"3 Seasons\",\"3 Seasons\",\"3 Seasons\",\"3 Seasons\",\"3 Seasons\",\"3 Seasons\",\"3 Seasons\",\"3 Seasons\",\"3 Seasons\",\"3 Seasons\",\"3 Seasons\",\"3 Seasons\",\"3 Seasons\",\"3 Seasons\",\"3 Seasons\",\"3 Seasons\",\"3 Seasons\",\"3 Seasons\",\"3 Seasons\",\"3 Seasons\",\"3 Seasons\",\"3 Seasons\",\"3 Seasons\",\"3 Seasons\",\"3 Seasons\",\"3 Seasons\",\"3 Seasons\",\"3 Seasons\",\"3 Seasons\",\"3 Seasons\",\"3 Seasons\",\"3 Seasons\",\"3 Seasons\",\"3 Seasons\",\"3 Seasons\",\"3 Seasons\",\"3 Seasons\",\"3 Seasons\",\"3 Seasons\",\"3 Seasons\",\"3 Seasons\",\"3 Seasons\",\"3 Seasons\",\"3 Seasons\",\"3 Seasons\",\"3 Seasons\",\"3 Seasons\",\"3 Seasons\",\"3 Seasons\",\"3 Seasons\",\"3 Seasons\",\"3 Seasons\",\"3 Seasons\",\"3 Seasons\",\"3 Seasons\",\"3 Seasons\",\"3 Seasons\",\"3 Seasons\",\"3 Seasons\",\"3 Seasons\",\"3 Seasons\",\"3 Seasons\",\"3 Seasons\",\"3 Seasons\",\"3 Seasons\",\"3 Seasons\",\"3 Seasons\",\"3 Seasons\",\"3 Seasons\",\"3 Seasons\",\"3 Seasons\",\"3 Seasons\",\"3 Seasons\",\"3 Seasons\",\"3 Seasons\",\"3 Seasons\",\"3 Seasons\",\"3 Seasons\",\"3 Seasons\",\"3 Seasons\",\"3 Seasons\",\"3 Seasons\",\"3 Seasons\",\"3 Seasons\",\"3 Seasons\",\"3 Seasons\",\"3 Seasons\",\"3 Seasons\",\"3 Seasons\",\"3 Seasons\",\"3 Seasons\",\"3 Seasons\",\"3 Seasons\",\"3 Seasons\",\"3 Seasons\",\"3 Seasons\",\"3 Seasons\",\"3 Seasons\",\"3 Seasons\",\"3 Seasons\",\"3 Seasons\",\"3 Seasons\",\"3 Seasons\",\"3 Seasons\",\"3 Seasons\",\"3 Seasons\",\"3 Seasons\",\"3 Seasons\",\"3 Seasons\",\"3 Seasons\",\"3 Seasons\",\"3 Seasons\",\"3 Seasons\",\"3 Seasons\",\"3 Seasons\",\"3 Seasons\",\"3 Seasons\",\"3 Seasons\",\"3 Seasons\",\"3 Seasons\",\"3 Seasons\",\"3 Seasons\",\"3 Seasons\",\"3 Seasons\",\"3 Seasons\",\"3 Seasons\",\"3 Seasons\",\"3 Seasons\",\"3 Seasons\",\"3 Seasons\",\"3 Seasons\",\"3 Seasons\",\"3 Seasons\",\"3 Seasons\",\"3 Seasons\",\"3 Seasons\",\"3 Seasons\",\"3 Seasons\",\"3 Seasons\",\"3 Seasons\",\"3 min\",\"30 min\",\"30 min\",\"30 min\",\"30 min\",\"30 min\",\"30 min\",\"31 min\",\"31 min\",\"312 min\",\"32 min\",\"32 min\",\"32 min\",\"32 min\",\"32 min\",\"32 min\",\"32 min\",\"32 min\",\"32 min\",\"33 min\",\"33 min\",\"33 min\",\"33 min\",\"33 min\",\"33 min\",\"34 min\",\"34 min\",\"34 min\",\"35 min\",\"35 min\",\"35 min\",\"35 min\",\"35 min\",\"36 min\",\"36 min\",\"36 min\",\"36 min\",\"36 min\",\"37 min\",\"37 min\",\"38 min\",\"38 min\",\"38 min\",\"38 min\",\"38 min\",\"39 min\",\"39 min\",\"4 Seasons\",\"4 Seasons\",\"4 Seasons\",\"4 Seasons\",\"4 Seasons\",\"4 Seasons\",\"4 Seasons\",\"4 Seasons\",\"4 Seasons\",\"4 Seasons\",\"4 Seasons\",\"4 Seasons\",\"4 Seasons\",\"4 Seasons\",\"4 Seasons\",\"4 Seasons\",\"4 Seasons\",\"4 Seasons\",\"4 Seasons\",\"4 Seasons\",\"4 Seasons\",\"4 Seasons\",\"4 Seasons\",\"4 Seasons\",\"4 Seasons\",\"4 Seasons\",\"4 Seasons\",\"4 Seasons\",\"4 Seasons\",\"4 Seasons\",\"4 Seasons\",\"4 Seasons\",\"4 Seasons\",\"4 Seasons\",\"4 Seasons\",\"4 Seasons\",\"4 Seasons\",\"4 Seasons\",\"4 Seasons\",\"4 Seasons\",\"4 Seasons\",\"4 Seasons\",\"4 Seasons\",\"4 Seasons\",\"4 Seasons\",\"4 Seasons\",\"4 Seasons\",\"4 Seasons\",\"4 Seasons\",\"4 Seasons\",\"4 Seasons\",\"4 Seasons\",\"4 Seasons\",\"4 Seasons\",\"4 Seasons\",\"4 Seasons\",\"4 Seasons\",\"4 Seasons\",\"4 Seasons\",\"4 Seasons\",\"4 Seasons\",\"4 Seasons\",\"4 Seasons\",\"4 Seasons\",\"4 Seasons\",\"4 Seasons\",\"4 Seasons\",\"4 Seasons\",\"4 Seasons\",\"4 Seasons\",\"4 Seasons\",\"4 Seasons\",\"4 Seasons\",\"4 Seasons\",\"4 Seasons\",\"4 Seasons\",\"4 Seasons\",\"4 Seasons\",\"4 Seasons\",\"4 Seasons\",\"4 Seasons\",\"4 Seasons\",\"4 Seasons\",\"4 Seasons\",\"4 Seasons\",\"4 Seasons\",\"4 Seasons\",\"4 Seasons\",\"4 Seasons\",\"4 Seasons\",\"4 Seasons\",\"4 Seasons\",\"4 Seasons\",\"4 Seasons\",\"40 min\",\"40 min\",\"40 min\",\"40 min\",\"40 min\",\"40 min\",\"40 min\",\"40 min\",\"40 min\",\"40 min\",\"40 min\",\"40 min\",\"40 min\",\"41 min\",\"41 min\",\"41 min\",\"42 min\",\"42 min\",\"42 min\",\"42 min\",\"42 min\",\"42 min\",\"42 min\",\"42 min\",\"42 min\",\"43 min\",\"44 min\",\"44 min\",\"44 min\",\"44 min\",\"44 min\",\"44 min\",\"44 min\",\"44 min\",\"44 min\",\"44 min\",\"44 min\",\"44 min\",\"44 min\",\"44 min\",\"44 min\",\"44 min\",\"44 min\",\"44 min\",\"44 min\",\"45 min\",\"45 min\",\"45 min\",\"45 min\",\"45 min\",\"45 min\",\"45 min\",\"45 min\",\"45 min\",\"45 min\",\"46 min\",\"46 min\",\"46 min\",\"46 min\",\"46 min\",\"46 min\",\"46 min\",\"46 min\",\"46 min\",\"46 min\",\"46 min\",\"46 min\",\"46 min\",\"46 min\",\"46 min\",\"46 min\",\"46 min\",\"46 min\",\"46 min\",\"46 min\",\"46 min\",\"46 min\",\"46 min\",\"46 min\",\"47 min\",\"47 min\",\"47 min\",\"47 min\",\"47 min\",\"47 min\",\"47 min\",\"47 min\",\"47 min\",\"47 min\",\"47 min\",\"48 min\",\"48 min\",\"48 min\",\"48 min\",\"48 min\",\"48 min\",\"48 min\",\"48 min\",\"49 min\",\"49 min\",\"49 min\",\"49 min\",\"49 min\",\"49 min\",\"49 min\",\"49 min\",\"49 min\",\"5 Seasons\",\"5 Seasons\",\"5 Seasons\",\"5 Seasons\",\"5 Seasons\",\"5 Seasons\",\"5 Seasons\",\"5 Seasons\",\"5 Seasons\",\"5 Seasons\",\"5 Seasons\",\"5 Seasons\",\"5 Seasons\",\"5 Seasons\",\"5 Seasons\",\"5 Seasons\",\"5 Seasons\",\"5 Seasons\",\"5 Seasons\",\"5 Seasons\",\"5 Seasons\",\"5 Seasons\",\"5 Seasons\",\"5 Seasons\",\"5 Seasons\",\"5 Seasons\",\"5 Seasons\",\"5 Seasons\",\"5 Seasons\",\"5 Seasons\",\"5 Seasons\",\"5 Seasons\",\"5 Seasons\",\"5 Seasons\",\"5 Seasons\",\"5 Seasons\",\"5 Seasons\",\"5 Seasons\",\"5 Seasons\",\"5 Seasons\",\"5 Seasons\",\"5 Seasons\",\"5 Seasons\",\"5 Seasons\",\"5 Seasons\",\"5 Seasons\",\"5 Seasons\",\"5 Seasons\",\"5 Seasons\",\"5 Seasons\",\"5 Seasons\",\"5 Seasons\",\"5 Seasons\",\"5 Seasons\",\"5 Seasons\",\"5 Seasons\",\"5 Seasons\",\"5 Seasons\",\"5 Seasons\",\"5 Seasons\",\"5 Seasons\",\"5 Seasons\",\"5 Seasons\",\"5 Seasons\",\"5 min\",\"50 min\",\"50 min\",\"50 min\",\"50 min\",\"50 min\",\"50 min\",\"50 min\",\"50 min\",\"50 min\",\"50 min\",\"51 min\",\"51 min\",\"51 min\",\"51 min\",\"51 min\",\"51 min\",\"51 min\",\"51 min\",\"51 min\",\"51 min\",\"51 min\",\"52 min\",\"52 min\",\"52 min\",\"52 min\",\"52 min\",\"52 min\",\"52 min\",\"52 min\",\"52 min\",\"52 min\",\"52 min\",\"52 min\",\"52 min\",\"52 min\",\"52 min\",\"52 min\",\"52 min\",\"52 min\",\"52 min\",\"52 min\",\"53 min\",\"53 min\",\"53 min\",\"53 min\",\"53 min\",\"53 min\",\"53 min\",\"53 min\",\"53 min\",\"53 min\",\"53 min\",\"53 min\",\"53 min\",\"53 min\",\"53 min\",\"53 min\",\"53 min\",\"53 min\",\"53 min\",\"53 min\",\"53 min\",\"53 min\",\"53 min\",\"53 min\",\"54 min\",\"54 min\",\"54 min\",\"54 min\",\"54 min\",\"54 min\",\"54 min\",\"54 min\",\"54 min\",\"54 min\",\"54 min\",\"54 min\",\"54 min\",\"54 min\",\"54 min\",\"54 min\",\"54 min\",\"54 min\",\"54 min\",\"54 min\",\"54 min\",\"54 min\",\"54 min\",\"54 min\",\"55 min\",\"55 min\",\"55 min\",\"55 min\",\"55 min\",\"55 min\",\"55 min\",\"55 min\",\"55 min\",\"55 min\",\"55 min\",\"55 min\",\"55 min\",\"55 min\",\"55 min\",\"55 min\",\"56 min\",\"56 min\",\"56 min\",\"56 min\",\"56 min\",\"56 min\",\"56 min\",\"56 min\",\"56 min\",\"56 min\",\"56 min\",\"56 min\",\"57 min\",\"57 min\",\"57 min\",\"57 min\",\"57 min\",\"57 min\",\"57 min\",\"57 min\",\"57 min\",\"57 min\",\"57 min\",\"57 min\",\"57 min\",\"57 min\",\"58 min\",\"58 min\",\"58 min\",\"58 min\",\"58 min\",\"58 min\",\"58 min\",\"58 min\",\"58 min\",\"58 min\",\"58 min\",\"58 min\",\"58 min\",\"58 min\",\"58 min\",\"58 min\",\"58 min\",\"58 min\",\"58 min\",\"58 min\",\"58 min\",\"58 min\",\"58 min\",\"58 min\",\"58 min\",\"59 min\",\"59 min\",\"59 min\",\"59 min\",\"59 min\",\"59 min\",\"59 min\",\"59 min\",\"59 min\",\"59 min\",\"59 min\",\"59 min\",\"59 min\",\"59 min\",\"59 min\",\"59 min\",\"59 min\",\"59 min\",\"59 min\",\"59 min\",\"59 min\",\"59 min\",\"59 min\",\"59 min\",\"59 min\",\"6 Seasons\",\"6 Seasons\",\"6 Seasons\",\"6 Seasons\",\"6 Seasons\",\"6 Seasons\",\"6 Seasons\",\"6 Seasons\",\"6 Seasons\",\"6 Seasons\",\"6 Seasons\",\"6 Seasons\",\"6 Seasons\",\"6 Seasons\",\"6 Seasons\",\"6 Seasons\",\"6 Seasons\",\"6 Seasons\",\"6 Seasons\",\"6 Seasons\",\"6 Seasons\",\"6 Seasons\",\"6 Seasons\",\"6 Seasons\",\"6 Seasons\",\"6 Seasons\",\"6 Seasons\",\"6 Seasons\",\"6 Seasons\",\"6 Seasons\",\"6 Seasons\",\"6 Seasons\",\"6 Seasons\",\"60 min\",\"60 min\",\"60 min\",\"60 min\",\"60 min\",\"60 min\",\"60 min\",\"60 min\",\"60 min\",\"60 min\",\"60 min\",\"60 min\",\"60 min\",\"60 min\",\"60 min\",\"60 min\",\"60 min\",\"60 min\",\"60 min\",\"60 min\",\"60 min\",\"60 min\",\"60 min\",\"60 min\",\"60 min\",\"60 min\",\"60 min\",\"60 min\",\"60 min\",\"61 min\",\"61 min\",\"61 min\",\"61 min\",\"61 min\",\"61 min\",\"61 min\",\"61 min\",\"61 min\",\"61 min\",\"61 min\",\"61 min\",\"61 min\",\"61 min\",\"61 min\",\"61 min\",\"61 min\",\"61 min\",\"61 min\",\"61 min\",\"61 min\",\"61 min\",\"61 min\",\"61 min\",\"61 min\",\"61 min\",\"61 min\",\"61 min\",\"61 min\",\"61 min\",\"61 min\",\"62 min\",\"62 min\",\"62 min\",\"62 min\",\"62 min\",\"62 min\",\"62 min\",\"62 min\",\"62 min\",\"62 min\",\"62 min\",\"62 min\",\"62 min\",\"62 min\",\"62 min\",\"62 min\",\"62 min\",\"62 min\",\"62 min\",\"62 min\",\"62 min\",\"62 min\",\"62 min\",\"62 min\",\"63 min\",\"63 min\",\"63 min\",\"63 min\",\"63 min\",\"63 min\",\"63 min\",\"63 min\",\"63 min\",\"63 min\",\"63 min\",\"63 min\",\"63 min\",\"63 min\",\"63 min\",\"63 min\",\"63 min\",\"63 min\",\"63 min\",\"63 min\",\"63 min\",\"63 min\",\"63 min\",\"63 min\",\"63 min\",\"63 min\",\"63 min\",\"63 min\",\"63 min\",\"63 min\",\"63 min\",\"63 min\",\"64 min\",\"64 min\",\"64 min\",\"64 min\",\"64 min\",\"64 min\",\"64 min\",\"64 min\",\"64 min\",\"64 min\",\"64 min\",\"64 min\",\"64 min\",\"64 min\",\"64 min\",\"64 min\",\"64 min\",\"64 min\",\"64 min\",\"64 min\",\"64 min\",\"64 min\",\"64 min\",\"65 min\",\"65 min\",\"65 min\",\"65 min\",\"65 min\",\"65 min\",\"65 min\",\"65 min\",\"65 min\",\"65 min\",\"65 min\",\"65 min\",\"65 min\",\"65 min\",\"65 min\",\"65 min\",\"65 min\",\"65 min\",\"65 min\",\"65 min\",\"65 min\",\"65 min\",\"65 min\",\"65 min\",\"65 min\",\"66 min\",\"66 min\",\"66 min\",\"66 min\",\"66 min\",\"66 min\",\"66 min\",\"66 min\",\"66 min\",\"66 min\",\"66 min\",\"66 min\",\"66 min\",\"66 min\",\"66 min\",\"66 min\",\"66 min\",\"66 min\",\"66 min\",\"66 min\",\"66 min\",\"66 min\",\"66 min\",\"66 min\",\"66 min\",\"66 min\",\"66 min\",\"66 min\",\"67 min\",\"67 min\",\"67 min\",\"67 min\",\"67 min\",\"67 min\",\"67 min\",\"67 min\",\"67 min\",\"67 min\",\"67 min\",\"67 min\",\"67 min\",\"67 min\",\"67 min\",\"67 min\",\"67 min\",\"67 min\",\"67 min\",\"67 min\",\"67 min\",\"68 min\",\"68 min\",\"68 min\",\"68 min\",\"68 min\",\"68 min\",\"68 min\",\"68 min\",\"68 min\",\"68 min\",\"68 min\",\"68 min\",\"68 min\",\"68 min\",\"68 min\",\"68 min\",\"68 min\",\"68 min\",\"68 min\",\"68 min\",\"68 min\",\"68 min\",\"68 min\",\"68 min\",\"68 min\",\"69 min\",\"69 min\",\"69 min\",\"69 min\",\"69 min\",\"69 min\",\"69 min\",\"69 min\",\"69 min\",\"69 min\",\"69 min\",\"69 min\",\"69 min\",\"69 min\",\"69 min\",\"69 min\",\"69 min\",\"69 min\",\"69 min\",\"69 min\",\"69 min\",\"69 min\",\"69 min\",\"69 min\",\"69 min\",\"69 min\",\"69 min\",\"69 min\",\"7 Seasons\",\"7 Seasons\",\"7 Seasons\",\"7 Seasons\",\"7 Seasons\",\"7 Seasons\",\"7 Seasons\",\"7 Seasons\",\"7 Seasons\",\"7 Seasons\",\"7 Seasons\",\"7 Seasons\",\"7 Seasons\",\"7 Seasons\",\"7 Seasons\",\"7 Seasons\",\"7 Seasons\",\"7 Seasons\",\"7 Seasons\",\"7 Seasons\",\"7 Seasons\",\"7 Seasons\",\"7 Seasons\",\"70 min\",\"70 min\",\"70 min\",\"70 min\",\"70 min\",\"70 min\",\"70 min\",\"70 min\",\"70 min\",\"70 min\",\"70 min\",\"70 min\",\"70 min\",\"70 min\",\"70 min\",\"70 min\",\"70 min\",\"70 min\",\"70 min\",\"70 min\",\"70 min\",\"70 min\",\"70 min\",\"70 min\",\"70 min\",\"70 min\",\"70 min\",\"70 min\",\"71 min\",\"71 min\",\"71 min\",\"71 min\",\"71 min\",\"71 min\",\"71 min\",\"71 min\",\"71 min\",\"71 min\",\"71 min\",\"71 min\",\"71 min\",\"71 min\",\"71 min\",\"71 min\",\"71 min\",\"71 min\",\"71 min\",\"71 min\",\"71 min\",\"71 min\",\"71 min\",\"71 min\",\"71 min\",\"71 min\",\"71 min\",\"71 min\",\"72 min\",\"72 min\",\"72 min\",\"72 min\",\"72 min\",\"72 min\",\"72 min\",\"72 min\",\"72 min\",\"72 min\",\"72 min\",\"72 min\",\"72 min\",\"72 min\",\"72 min\",\"72 min\",\"72 min\",\"72 min\",\"72 min\",\"72 min\",\"72 min\",\"72 min\",\"72 min\",\"72 min\",\"72 min\",\"72 min\",\"72 min\",\"72 min\",\"72 min\",\"72 min\",\"72 min\",\"72 min\",\"72 min\",\"73 min\",\"73 min\",\"73 min\",\"73 min\",\"73 min\",\"73 min\",\"73 min\",\"73 min\",\"73 min\",\"73 min\",\"73 min\",\"73 min\",\"73 min\",\"73 min\",\"73 min\",\"73 min\",\"73 min\",\"73 min\",\"73 min\",\"73 min\",\"73 min\",\"73 min\",\"73 min\",\"73 min\",\"73 min\",\"73 min\",\"73 min\",\"73 min\",\"73 min\",\"73 min\",\"74 min\",\"74 min\",\"74 min\",\"74 min\",\"74 min\",\"74 min\",\"74 min\",\"74 min\",\"74 min\",\"74 min\",\"74 min\",\"74 min\",\"74 min\",\"74 min\",\"74 min\",\"74 min\",\"74 min\",\"74 min\",\"74 min\",\"74 min\",\"74 min\",\"74 min\",\"74 min\",\"74 min\",\"74 min\",\"74 min\",\"74 min\",\"74 min\",\"74 min\",\"74 min\",\"74 min\",\"75 min\",\"75 min\",\"75 min\",\"75 min\",\"75 min\",\"75 min\",\"75 min\",\"75 min\",\"75 min\",\"75 min\",\"75 min\",\"75 min\",\"75 min\",\"75 min\",\"75 min\",\"75 min\",\"75 min\",\"75 min\",\"75 min\",\"75 min\",\"75 min\",\"75 min\",\"75 min\",\"75 min\",\"75 min\",\"75 min\",\"75 min\",\"75 min\",\"75 min\",\"75 min\",\"75 min\",\"75 min\",\"75 min\",\"75 min\",\"75 min\",\"76 min\",\"76 min\",\"76 min\",\"76 min\",\"76 min\",\"76 min\",\"76 min\",\"76 min\",\"76 min\",\"76 min\",\"76 min\",\"76 min\",\"76 min\",\"76 min\",\"76 min\",\"76 min\",\"76 min\",\"76 min\",\"76 min\",\"76 min\",\"76 min\",\"76 min\",\"76 min\",\"76 min\",\"76 min\",\"76 min\",\"76 min\",\"76 min\",\"76 min\",\"76 min\",\"76 min\",\"77 min\",\"77 min\",\"77 min\",\"77 min\",\"77 min\",\"77 min\",\"77 min\",\"77 min\",\"77 min\",\"77 min\",\"77 min\",\"77 min\",\"77 min\",\"77 min\",\"77 min\",\"77 min\",\"77 min\",\"77 min\",\"77 min\",\"77 min\",\"77 min\",\"77 min\",\"77 min\",\"77 min\",\"77 min\",\"77 min\",\"77 min\",\"77 min\",\"77 min\",\"77 min\",\"78 min\",\"78 min\",\"78 min\",\"78 min\",\"78 min\",\"78 min\",\"78 min\",\"78 min\",\"78 min\",\"78 min\",\"78 min\",\"78 min\",\"78 min\",\"78 min\",\"78 min\",\"78 min\",\"78 min\",\"78 min\",\"78 min\",\"78 min\",\"78 min\",\"78 min\",\"78 min\",\"78 min\",\"78 min\",\"78 min\",\"78 min\",\"78 min\",\"78 min\",\"78 min\",\"78 min\",\"78 min\",\"78 min\",\"78 min\",\"78 min\",\"78 min\",\"78 min\",\"78 min\",\"78 min\",\"78 min\",\"78 min\",\"78 min\",\"78 min\",\"78 min\",\"78 min\",\"79 min\",\"79 min\",\"79 min\",\"79 min\",\"79 min\",\"79 min\",\"79 min\",\"79 min\",\"79 min\",\"79 min\",\"79 min\",\"79 min\",\"79 min\",\"79 min\",\"79 min\",\"79 min\",\"79 min\",\"79 min\",\"79 min\",\"79 min\",\"79 min\",\"79 min\",\"79 min\",\"79 min\",\"79 min\",\"79 min\",\"79 min\",\"79 min\",\"79 min\",\"79 min\",\"79 min\",\"79 min\",\"79 min\",\"79 min\",\"79 min\",\"8 Seasons\",\"8 Seasons\",\"8 Seasons\",\"8 Seasons\",\"8 Seasons\",\"8 Seasons\",\"8 Seasons\",\"8 Seasons\",\"8 Seasons\",\"8 Seasons\",\"8 Seasons\",\"8 Seasons\",\"8 Seasons\",\"8 Seasons\",\"8 Seasons\",\"8 Seasons\",\"8 Seasons\",\"8 min\",\"80 min\",\"80 min\",\"80 min\",\"80 min\",\"80 min\",\"80 min\",\"80 min\",\"80 min\",\"80 min\",\"80 min\",\"80 min\",\"80 min\",\"80 min\",\"80 min\",\"80 min\",\"80 min\",\"80 min\",\"80 min\",\"80 min\",\"80 min\",\"80 min\",\"80 min\",\"80 min\",\"80 min\",\"80 min\",\"80 min\",\"80 min\",\"80 min\",\"80 min\",\"80 min\",\"80 min\",\"80 min\",\"80 min\",\"80 min\",\"80 min\",\"80 min\",\"80 min\",\"80 min\",\"80 min\",\"80 min\",\"80 min\",\"80 min\",\"80 min\",\"81 min\",\"81 min\",\"81 min\",\"81 min\",\"81 min\",\"81 min\",\"81 min\",\"81 min\",\"81 min\",\"81 min\",\"81 min\",\"81 min\",\"81 min\",\"81 min\",\"81 min\",\"81 min\",\"81 min\",\"81 min\",\"81 min\",\"81 min\",\"81 min\",\"81 min\",\"81 min\",\"81 min\",\"81 min\",\"81 min\",\"81 min\",\"81 min\",\"81 min\",\"81 min\",\"81 min\",\"81 min\",\"81 min\",\"81 min\",\"81 min\",\"81 min\",\"81 min\",\"81 min\",\"81 min\",\"81 min\",\"81 min\",\"81 min\",\"81 min\",\"81 min\",\"81 min\",\"81 min\",\"81 min\",\"81 min\",\"81 min\",\"81 min\",\"81 min\",\"81 min\",\"81 min\",\"81 min\",\"81 min\",\"81 min\",\"81 min\",\"81 min\",\"81 min\",\"81 min\",\"81 min\",\"81 min\",\"82 min\",\"82 min\",\"82 min\",\"82 min\",\"82 min\",\"82 min\",\"82 min\",\"82 min\",\"82 min\",\"82 min\",\"82 min\",\"82 min\",\"82 min\",\"82 min\",\"82 min\",\"82 min\",\"82 min\",\"82 min\",\"82 min\",\"82 min\",\"82 min\",\"82 min\",\"82 min\",\"82 min\",\"82 min\",\"82 min\",\"82 min\",\"82 min\",\"82 min\",\"82 min\",\"82 min\",\"82 min\",\"82 min\",\"82 min\",\"82 min\",\"82 min\",\"82 min\",\"82 min\",\"82 min\",\"82 min\",\"82 min\",\"82 min\",\"82 min\",\"82 min\",\"82 min\",\"82 min\",\"82 min\",\"82 min\",\"82 min\",\"82 min\",\"82 min\",\"82 min\",\"83 min\",\"83 min\",\"83 min\",\"83 min\",\"83 min\",\"83 min\",\"83 min\",\"83 min\",\"83 min\",\"83 min\",\"83 min\",\"83 min\",\"83 min\",\"83 min\",\"83 min\",\"83 min\",\"83 min\",\"83 min\",\"83 min\",\"83 min\",\"83 min\",\"83 min\",\"83 min\",\"83 min\",\"83 min\",\"83 min\",\"83 min\",\"83 min\",\"83 min\",\"83 min\",\"83 min\",\"83 min\",\"83 min\",\"83 min\",\"83 min\",\"83 min\",\"83 min\",\"83 min\",\"83 min\",\"83 min\",\"83 min\",\"83 min\",\"83 min\",\"83 min\",\"83 min\",\"83 min\",\"83 min\",\"83 min\",\"83 min\",\"83 min\",\"83 min\",\"83 min\",\"83 min\",\"83 min\",\"83 min\",\"83 min\",\"83 min\",\"83 min\",\"83 min\",\"83 min\",\"83 min\",\"83 min\",\"83 min\",\"83 min\",\"83 min\",\"84 min\",\"84 min\",\"84 min\",\"84 min\",\"84 min\",\"84 min\",\"84 min\",\"84 min\",\"84 min\",\"84 min\",\"84 min\",\"84 min\",\"84 min\",\"84 min\",\"84 min\",\"84 min\",\"84 min\",\"84 min\",\"84 min\",\"84 min\",\"84 min\",\"84 min\",\"84 min\",\"84 min\",\"84 min\",\"84 min\",\"84 min\",\"84 min\",\"84 min\",\"84 min\",\"84 min\",\"84 min\",\"84 min\",\"84 min\",\"84 min\",\"84 min\",\"84 min\",\"84 min\",\"84 min\",\"84 min\",\"84 min\",\"84 min\",\"84 min\",\"84 min\",\"84 min\",\"84 min\",\"84 min\",\"84 min\",\"84 min\",\"84 min\",\"84 min\",\"84 min\",\"84 min\",\"84 min\",\"84 min\",\"84 min\",\"84 min\",\"84 min\",\"84 min\",\"84 min\",\"84 min\",\"84 min\",\"84 min\",\"84 min\",\"84 min\",\"84 min\",\"84 min\",\"85 min\",\"85 min\",\"85 min\",\"85 min\",\"85 min\",\"85 min\",\"85 min\",\"85 min\",\"85 min\",\"85 min\",\"85 min\",\"85 min\",\"85 min\",\"85 min\",\"85 min\",\"85 min\",\"85 min\",\"85 min\",\"85 min\",\"85 min\",\"85 min\",\"85 min\",\"85 min\",\"85 min\",\"85 min\",\"85 min\",\"85 min\",\"85 min\",\"85 min\",\"85 min\",\"85 min\",\"85 min\",\"85 min\",\"85 min\",\"85 min\",\"85 min\",\"85 min\",\"85 min\",\"85 min\",\"85 min\",\"85 min\",\"85 min\",\"85 min\",\"85 min\",\"85 min\",\"85 min\",\"85 min\",\"85 min\",\"85 min\",\"85 min\",\"85 min\",\"85 min\",\"85 min\",\"85 min\",\"85 min\",\"85 min\",\"85 min\",\"85 min\",\"85 min\",\"85 min\",\"85 min\",\"85 min\",\"85 min\",\"85 min\",\"85 min\",\"85 min\",\"85 min\",\"85 min\",\"85 min\",\"85 min\",\"85 min\",\"85 min\",\"85 min\",\"86 min\",\"86 min\",\"86 min\",\"86 min\",\"86 min\",\"86 min\",\"86 min\",\"86 min\",\"86 min\",\"86 min\",\"86 min\",\"86 min\",\"86 min\",\"86 min\",\"86 min\",\"86 min\",\"86 min\",\"86 min\",\"86 min\",\"86 min\",\"86 min\",\"86 min\",\"86 min\",\"86 min\",\"86 min\",\"86 min\",\"86 min\",\"86 min\",\"86 min\",\"86 min\",\"86 min\",\"86 min\",\"86 min\",\"86 min\",\"86 min\",\"86 min\",\"86 min\",\"86 min\",\"86 min\",\"86 min\",\"86 min\",\"86 min\",\"86 min\",\"86 min\",\"86 min\",\"86 min\",\"86 min\",\"86 min\",\"86 min\",\"86 min\",\"86 min\",\"86 min\",\"86 min\",\"86 min\",\"86 min\",\"86 min\",\"86 min\",\"86 min\",\"86 min\",\"86 min\",\"86 min\",\"86 min\",\"86 min\",\"86 min\",\"86 min\",\"86 min\",\"86 min\",\"86 min\",\"86 min\",\"86 min\",\"86 min\",\"86 min\",\"86 min\",\"86 min\",\"86 min\",\"86 min\",\"86 min\",\"86 min\",\"86 min\",\"86 min\",\"86 min\",\"86 min\",\"86 min\",\"86 min\",\"86 min\",\"86 min\",\"86 min\",\"86 min\",\"86 min\",\"86 min\",\"86 min\",\"86 min\",\"86 min\",\"86 min\",\"86 min\",\"86 min\",\"86 min\",\"86 min\",\"86 min\",\"86 min\",\"86 min\",\"86 min\",\"86 min\",\"87 min\",\"87 min\",\"87 min\",\"87 min\",\"87 min\",\"87 min\",\"87 min\",\"87 min\",\"87 min\",\"87 min\",\"87 min\",\"87 min\",\"87 min\",\"87 min\",\"87 min\",\"87 min\",\"87 min\",\"87 min\",\"87 min\",\"87 min\",\"87 min\",\"87 min\",\"87 min\",\"87 min\",\"87 min\",\"87 min\",\"87 min\",\"87 min\",\"87 min\",\"87 min\",\"87 min\",\"87 min\",\"87 min\",\"87 min\",\"87 min\",\"87 min\",\"87 min\",\"87 min\",\"87 min\",\"87 min\",\"87 min\",\"87 min\",\"87 min\",\"87 min\",\"87 min\",\"87 min\",\"87 min\",\"87 min\",\"87 min\",\"87 min\",\"87 min\",\"87 min\",\"87 min\",\"87 min\",\"87 min\",\"87 min\",\"87 min\",\"87 min\",\"87 min\",\"87 min\",\"87 min\",\"87 min\",\"87 min\",\"87 min\",\"87 min\",\"87 min\",\"87 min\",\"87 min\",\"87 min\",\"87 min\",\"87 min\",\"87 min\",\"87 min\",\"87 min\",\"87 min\",\"87 min\",\"87 min\",\"87 min\",\"87 min\",\"87 min\",\"87 min\",\"87 min\",\"87 min\",\"87 min\",\"87 min\",\"87 min\",\"87 min\",\"87 min\",\"87 min\",\"87 min\",\"87 min\",\"87 min\",\"87 min\",\"87 min\",\"87 min\",\"87 min\",\"87 min\",\"87 min\",\"87 min\",\"87 min\",\"87 min\",\"88 min\",\"88 min\",\"88 min\",\"88 min\",\"88 min\",\"88 min\",\"88 min\",\"88 min\",\"88 min\",\"88 min\",\"88 min\",\"88 min\",\"88 min\",\"88 min\",\"88 min\",\"88 min\",\"88 min\",\"88 min\",\"88 min\",\"88 min\",\"88 min\",\"88 min\",\"88 min\",\"88 min\",\"88 min\",\"88 min\",\"88 min\",\"88 min\",\"88 min\",\"88 min\",\"88 min\",\"88 min\",\"88 min\",\"88 min\",\"88 min\",\"88 min\",\"88 min\",\"88 min\",\"88 min\",\"88 min\",\"88 min\",\"88 min\",\"88 min\",\"88 min\",\"88 min\",\"88 min\",\"88 min\",\"88 min\",\"88 min\",\"88 min\",\"88 min\",\"88 min\",\"88 min\",\"88 min\",\"88 min\",\"88 min\",\"88 min\",\"88 min\",\"88 min\",\"88 min\",\"88 min\",\"88 min\",\"88 min\",\"88 min\",\"88 min\",\"88 min\",\"88 min\",\"88 min\",\"88 min\",\"88 min\",\"88 min\",\"88 min\",\"88 min\",\"88 min\",\"88 min\",\"88 min\",\"88 min\",\"88 min\",\"88 min\",\"88 min\",\"88 min\",\"88 min\",\"88 min\",\"88 min\",\"88 min\",\"88 min\",\"88 min\",\"88 min\",\"88 min\",\"88 min\",\"88 min\",\"88 min\",\"88 min\",\"88 min\",\"88 min\",\"88 min\",\"88 min\",\"88 min\",\"88 min\",\"88 min\",\"88 min\",\"88 min\",\"88 min\",\"88 min\",\"88 min\",\"88 min\",\"88 min\",\"88 min\",\"88 min\",\"88 min\",\"88 min\",\"88 min\",\"88 min\",\"88 min\",\"88 min\",\"88 min\",\"89 min\",\"89 min\",\"89 min\",\"89 min\",\"89 min\",\"89 min\",\"89 min\",\"89 min\",\"89 min\",\"89 min\",\"89 min\",\"89 min\",\"89 min\",\"89 min\",\"89 min\",\"89 min\",\"89 min\",\"89 min\",\"89 min\",\"89 min\",\"89 min\",\"89 min\",\"89 min\",\"89 min\",\"89 min\",\"89 min\",\"89 min\",\"89 min\",\"89 min\",\"89 min\",\"89 min\",\"89 min\",\"89 min\",\"89 min\",\"89 min\",\"89 min\",\"89 min\",\"89 min\",\"89 min\",\"89 min\",\"89 min\",\"89 min\",\"89 min\",\"89 min\",\"89 min\",\"89 min\",\"89 min\",\"89 min\",\"89 min\",\"89 min\",\"89 min\",\"89 min\",\"89 min\",\"89 min\",\"89 min\",\"89 min\",\"89 min\",\"89 min\",\"89 min\",\"89 min\",\"89 min\",\"89 min\",\"89 min\",\"89 min\",\"89 min\",\"89 min\",\"89 min\",\"89 min\",\"89 min\",\"89 min\",\"89 min\",\"89 min\",\"89 min\",\"89 min\",\"89 min\",\"89 min\",\"89 min\",\"89 min\",\"89 min\",\"89 min\",\"89 min\",\"89 min\",\"89 min\",\"89 min\",\"89 min\",\"89 min\",\"89 min\",\"89 min\",\"89 min\",\"89 min\",\"89 min\",\"89 min\",\"89 min\",\"89 min\",\"89 min\",\"89 min\",\"89 min\",\"89 min\",\"89 min\",\"89 min\",\"89 min\",\"89 min\",\"89 min\",\"89 min\",\"89 min\",\"89 min\",\"9 Seasons\",\"9 Seasons\",\"9 Seasons\",\"9 Seasons\",\"9 Seasons\",\"9 Seasons\",\"9 Seasons\",\"9 Seasons\",\"9 Seasons\",\"9 min\",\"90 min\",\"90 min\",\"90 min\",\"90 min\",\"90 min\",\"90 min\",\"90 min\",\"90 min\",\"90 min\",\"90 min\",\"90 min\",\"90 min\",\"90 min\",\"90 min\",\"90 min\",\"90 min\",\"90 min\",\"90 min\",\"90 min\",\"90 min\",\"90 min\",\"90 min\",\"90 min\",\"90 min\",\"90 min\",\"90 min\",\"90 min\",\"90 min\",\"90 min\",\"90 min\",\"90 min\",\"90 min\",\"90 min\",\"90 min\",\"90 min\",\"90 min\",\"90 min\",\"90 min\",\"90 min\",\"90 min\",\"90 min\",\"90 min\",\"90 min\",\"90 min\",\"90 min\",\"90 min\",\"90 min\",\"90 min\",\"90 min\",\"90 min\",\"90 min\",\"90 min\",\"90 min\",\"90 min\",\"90 min\",\"90 min\",\"90 min\",\"90 min\",\"90 min\",\"90 min\",\"90 min\",\"90 min\",\"90 min\",\"90 min\",\"90 min\",\"90 min\",\"90 min\",\"90 min\",\"90 min\",\"90 min\",\"90 min\",\"90 min\",\"90 min\",\"90 min\",\"90 min\",\"90 min\",\"90 min\",\"90 min\",\"90 min\",\"90 min\",\"90 min\",\"90 min\",\"90 min\",\"90 min\",\"90 min\",\"90 min\",\"90 min\",\"90 min\",\"90 min\",\"90 min\",\"90 min\",\"90 min\",\"90 min\",\"90 min\",\"90 min\",\"90 min\",\"90 min\",\"90 min\",\"90 min\",\"90 min\",\"90 min\",\"90 min\",\"90 min\",\"90 min\",\"90 min\",\"90 min\",\"90 min\",\"90 min\",\"90 min\",\"90 min\",\"90 min\",\"90 min\",\"90 min\",\"90 min\",\"90 min\",\"90 min\",\"90 min\",\"90 min\",\"90 min\",\"90 min\",\"90 min\",\"90 min\",\"90 min\",\"90 min\",\"90 min\",\"90 min\",\"90 min\",\"90 min\",\"90 min\",\"90 min\",\"90 min\",\"90 min\",\"90 min\",\"90 min\",\"90 min\",\"90 min\",\"90 min\",\"90 min\",\"90 min\",\"90 min\",\"90 min\",\"90 min\",\"90 min\",\"90 min\",\"90 min\",\"90 min\",\"90 min\",\"90 min\",\"90 min\",\"90 min\",\"90 min\",\"90 min\",\"91 min\",\"91 min\",\"91 min\",\"91 min\",\"91 min\",\"91 min\",\"91 min\",\"91 min\",\"91 min\",\"91 min\",\"91 min\",\"91 min\",\"91 min\",\"91 min\",\"91 min\",\"91 min\",\"91 min\",\"91 min\",\"91 min\",\"91 min\",\"91 min\",\"91 min\",\"91 min\",\"91 min\",\"91 min\",\"91 min\",\"91 min\",\"91 min\",\"91 min\",\"91 min\",\"91 min\",\"91 min\",\"91 min\",\"91 min\",\"91 min\",\"91 min\",\"91 min\",\"91 min\",\"91 min\",\"91 min\",\"91 min\",\"91 min\",\"91 min\",\"91 min\",\"91 min\",\"91 min\",\"91 min\",\"91 min\",\"91 min\",\"91 min\",\"91 min\",\"91 min\",\"91 min\",\"91 min\",\"91 min\",\"91 min\",\"91 min\",\"91 min\",\"91 min\",\"91 min\",\"91 min\",\"91 min\",\"91 min\",\"91 min\",\"91 min\",\"91 min\",\"91 min\",\"91 min\",\"91 min\",\"91 min\",\"91 min\",\"91 min\",\"91 min\",\"91 min\",\"91 min\",\"91 min\",\"91 min\",\"91 min\",\"91 min\",\"91 min\",\"91 min\",\"91 min\",\"91 min\",\"91 min\",\"91 min\",\"91 min\",\"91 min\",\"91 min\",\"91 min\",\"91 min\",\"91 min\",\"91 min\",\"91 min\",\"91 min\",\"91 min\",\"91 min\",\"91 min\",\"91 min\",\"91 min\",\"91 min\",\"91 min\",\"91 min\",\"91 min\",\"91 min\",\"91 min\",\"91 min\",\"91 min\",\"91 min\",\"91 min\",\"91 min\",\"91 min\",\"91 min\",\"91 min\",\"91 min\",\"91 min\",\"91 min\",\"91 min\",\"91 min\",\"91 min\",\"91 min\",\"91 min\",\"91 min\",\"91 min\",\"91 min\",\"91 min\",\"91 min\",\"91 min\",\"91 min\",\"91 min\",\"91 min\",\"91 min\",\"91 min\",\"91 min\",\"91 min\",\"91 min\",\"91 min\",\"91 min\",\"91 min\",\"91 min\",\"91 min\",\"91 min\",\"91 min\",\"91 min\",\"91 min\",\"92 min\",\"92 min\",\"92 min\",\"92 min\",\"92 min\",\"92 min\",\"92 min\",\"92 min\",\"92 min\",\"92 min\",\"92 min\",\"92 min\",\"92 min\",\"92 min\",\"92 min\",\"92 min\",\"92 min\",\"92 min\",\"92 min\",\"92 min\",\"92 min\",\"92 min\",\"92 min\",\"92 min\",\"92 min\",\"92 min\",\"92 min\",\"92 min\",\"92 min\",\"92 min\",\"92 min\",\"92 min\",\"92 min\",\"92 min\",\"92 min\",\"92 min\",\"92 min\",\"92 min\",\"92 min\",\"92 min\",\"92 min\",\"92 min\",\"92 min\",\"92 min\",\"92 min\",\"92 min\",\"92 min\",\"92 min\",\"92 min\",\"92 min\",\"92 min\",\"92 min\",\"92 min\",\"92 min\",\"92 min\",\"92 min\",\"92 min\",\"92 min\",\"92 min\",\"92 min\",\"92 min\",\"92 min\",\"92 min\",\"92 min\",\"92 min\",\"92 min\",\"92 min\",\"92 min\",\"92 min\",\"92 min\",\"92 min\",\"92 min\",\"92 min\",\"92 min\",\"92 min\",\"92 min\",\"92 min\",\"92 min\",\"92 min\",\"92 min\",\"92 min\",\"92 min\",\"92 min\",\"92 min\",\"92 min\",\"92 min\",\"92 min\",\"92 min\",\"92 min\",\"92 min\",\"92 min\",\"92 min\",\"92 min\",\"92 min\",\"92 min\",\"92 min\",\"92 min\",\"92 min\",\"92 min\",\"92 min\",\"92 min\",\"92 min\",\"92 min\",\"92 min\",\"92 min\",\"92 min\",\"92 min\",\"92 min\",\"92 min\",\"92 min\",\"92 min\",\"92 min\",\"92 min\",\"92 min\",\"92 min\",\"92 min\",\"92 min\",\"92 min\",\"92 min\",\"92 min\",\"92 min\",\"92 min\",\"92 min\",\"92 min\",\"92 min\",\"92 min\",\"92 min\",\"92 min\",\"92 min\",\"93 min\",\"93 min\",\"93 min\",\"93 min\",\"93 min\",\"93 min\",\"93 min\",\"93 min\",\"93 min\",\"93 min\",\"93 min\",\"93 min\",\"93 min\",\"93 min\",\"93 min\",\"93 min\",\"93 min\",\"93 min\",\"93 min\",\"93 min\",\"93 min\",\"93 min\",\"93 min\",\"93 min\",\"93 min\",\"93 min\",\"93 min\",\"93 min\",\"93 min\",\"93 min\",\"93 min\",\"93 min\",\"93 min\",\"93 min\",\"93 min\",\"93 min\",\"93 min\",\"93 min\",\"93 min\",\"93 min\",\"93 min\",\"93 min\",\"93 min\",\"93 min\",\"93 min\",\"93 min\",\"93 min\",\"93 min\",\"93 min\",\"93 min\",\"93 min\",\"93 min\",\"93 min\",\"93 min\",\"93 min\",\"93 min\",\"93 min\",\"93 min\",\"93 min\",\"93 min\",\"93 min\",\"93 min\",\"93 min\",\"93 min\",\"93 min\",\"93 min\",\"93 min\",\"93 min\",\"93 min\",\"93 min\",\"93 min\",\"93 min\",\"93 min\",\"93 min\",\"93 min\",\"93 min\",\"93 min\",\"93 min\",\"93 min\",\"93 min\",\"93 min\",\"93 min\",\"93 min\",\"93 min\",\"93 min\",\"93 min\",\"93 min\",\"93 min\",\"93 min\",\"93 min\",\"93 min\",\"93 min\",\"93 min\",\"93 min\",\"93 min\",\"93 min\",\"93 min\",\"93 min\",\"93 min\",\"93 min\",\"93 min\",\"93 min\",\"93 min\",\"93 min\",\"93 min\",\"93 min\",\"93 min\",\"93 min\",\"93 min\",\"93 min\",\"93 min\",\"93 min\",\"93 min\",\"93 min\",\"93 min\",\"93 min\",\"93 min\",\"93 min\",\"93 min\",\"93 min\",\"93 min\",\"93 min\",\"93 min\",\"93 min\",\"93 min\",\"93 min\",\"93 min\",\"93 min\",\"93 min\",\"93 min\",\"93 min\",\"93 min\",\"93 min\",\"93 min\",\"93 min\",\"93 min\",\"93 min\",\"93 min\",\"93 min\",\"93 min\",\"93 min\",\"93 min\",\"93 min\",\"93 min\",\"93 min\",\"93 min\",\"94 min\",\"94 min\",\"94 min\",\"94 min\",\"94 min\",\"94 min\",\"94 min\",\"94 min\",\"94 min\",\"94 min\",\"94 min\",\"94 min\",\"94 min\",\"94 min\",\"94 min\",\"94 min\",\"94 min\",\"94 min\",\"94 min\",\"94 min\",\"94 min\",\"94 min\",\"94 min\",\"94 min\",\"94 min\",\"94 min\",\"94 min\",\"94 min\",\"94 min\",\"94 min\",\"94 min\",\"94 min\",\"94 min\",\"94 min\",\"94 min\",\"94 min\",\"94 min\",\"94 min\",\"94 min\",\"94 min\",\"94 min\",\"94 min\",\"94 min\",\"94 min\",\"94 min\",\"94 min\",\"94 min\",\"94 min\",\"94 min\",\"94 min\",\"94 min\",\"94 min\",\"94 min\",\"94 min\",\"94 min\",\"94 min\",\"94 min\",\"94 min\",\"94 min\",\"94 min\",\"94 min\",\"94 min\",\"94 min\",\"94 min\",\"94 min\",\"94 min\",\"94 min\",\"94 min\",\"94 min\",\"94 min\",\"94 min\",\"94 min\",\"94 min\",\"94 min\",\"94 min\",\"94 min\",\"94 min\",\"94 min\",\"94 min\",\"94 min\",\"94 min\",\"94 min\",\"94 min\",\"94 min\",\"94 min\",\"94 min\",\"94 min\",\"94 min\",\"94 min\",\"94 min\",\"94 min\",\"94 min\",\"94 min\",\"94 min\",\"94 min\",\"94 min\",\"94 min\",\"94 min\",\"94 min\",\"94 min\",\"94 min\",\"94 min\",\"94 min\",\"94 min\",\"94 min\",\"94 min\",\"94 min\",\"94 min\",\"94 min\",\"94 min\",\"94 min\",\"94 min\",\"94 min\",\"94 min\",\"94 min\",\"94 min\",\"94 min\",\"94 min\",\"94 min\",\"94 min\",\"94 min\",\"94 min\",\"94 min\",\"94 min\",\"94 min\",\"94 min\",\"94 min\",\"94 min\",\"94 min\",\"94 min\",\"94 min\",\"94 min\",\"94 min\",\"94 min\",\"94 min\",\"94 min\",\"94 min\",\"94 min\",\"94 min\",\"94 min\",\"94 min\",\"94 min\",\"94 min\",\"94 min\",\"94 min\",\"94 min\",\"95 min\",\"95 min\",\"95 min\",\"95 min\",\"95 min\",\"95 min\",\"95 min\",\"95 min\",\"95 min\",\"95 min\",\"95 min\",\"95 min\",\"95 min\",\"95 min\",\"95 min\",\"95 min\",\"95 min\",\"95 min\",\"95 min\",\"95 min\",\"95 min\",\"95 min\",\"95 min\",\"95 min\",\"95 min\",\"95 min\",\"95 min\",\"95 min\",\"95 min\",\"95 min\",\"95 min\",\"95 min\",\"95 min\",\"95 min\",\"95 min\",\"95 min\",\"95 min\",\"95 min\",\"95 min\",\"95 min\",\"95 min\",\"95 min\",\"95 min\",\"95 min\",\"95 min\",\"95 min\",\"95 min\",\"95 min\",\"95 min\",\"95 min\",\"95 min\",\"95 min\",\"95 min\",\"95 min\",\"95 min\",\"95 min\",\"95 min\",\"95 min\",\"95 min\",\"95 min\",\"95 min\",\"95 min\",\"95 min\",\"95 min\",\"95 min\",\"95 min\",\"95 min\",\"95 min\",\"95 min\",\"95 min\",\"95 min\",\"95 min\",\"95 min\",\"95 min\",\"95 min\",\"95 min\",\"95 min\",\"95 min\",\"95 min\",\"95 min\",\"95 min\",\"95 min\",\"95 min\",\"95 min\",\"95 min\",\"95 min\",\"95 min\",\"95 min\",\"95 min\",\"95 min\",\"95 min\",\"95 min\",\"95 min\",\"95 min\",\"95 min\",\"95 min\",\"95 min\",\"95 min\",\"95 min\",\"95 min\",\"95 min\",\"95 min\",\"95 min\",\"95 min\",\"95 min\",\"95 min\",\"95 min\",\"95 min\",\"95 min\",\"95 min\",\"95 min\",\"95 min\",\"95 min\",\"95 min\",\"95 min\",\"95 min\",\"95 min\",\"95 min\",\"95 min\",\"95 min\",\"95 min\",\"95 min\",\"95 min\",\"95 min\",\"95 min\",\"95 min\",\"95 min\",\"95 min\",\"95 min\",\"95 min\",\"95 min\",\"95 min\",\"95 min\",\"95 min\",\"95 min\",\"95 min\",\"95 min\",\"96 min\",\"96 min\",\"96 min\",\"96 min\",\"96 min\",\"96 min\",\"96 min\",\"96 min\",\"96 min\",\"96 min\",\"96 min\",\"96 min\",\"96 min\",\"96 min\",\"96 min\",\"96 min\",\"96 min\",\"96 min\",\"96 min\",\"96 min\",\"96 min\",\"96 min\",\"96 min\",\"96 min\",\"96 min\",\"96 min\",\"96 min\",\"96 min\",\"96 min\",\"96 min\",\"96 min\",\"96 min\",\"96 min\",\"96 min\",\"96 min\",\"96 min\",\"96 min\",\"96 min\",\"96 min\",\"96 min\",\"96 min\",\"96 min\",\"96 min\",\"96 min\",\"96 min\",\"96 min\",\"96 min\",\"96 min\",\"96 min\",\"96 min\",\"96 min\",\"96 min\",\"96 min\",\"96 min\",\"96 min\",\"96 min\",\"96 min\",\"96 min\",\"96 min\",\"96 min\",\"96 min\",\"96 min\",\"96 min\",\"96 min\",\"96 min\",\"96 min\",\"96 min\",\"96 min\",\"96 min\",\"96 min\",\"96 min\",\"96 min\",\"96 min\",\"96 min\",\"96 min\",\"96 min\",\"96 min\",\"96 min\",\"96 min\",\"96 min\",\"96 min\",\"96 min\",\"96 min\",\"96 min\",\"96 min\",\"96 min\",\"96 min\",\"96 min\",\"96 min\",\"96 min\",\"96 min\",\"96 min\",\"96 min\",\"96 min\",\"96 min\",\"96 min\",\"96 min\",\"96 min\",\"96 min\",\"96 min\",\"96 min\",\"96 min\",\"96 min\",\"96 min\",\"96 min\",\"96 min\",\"96 min\",\"96 min\",\"96 min\",\"96 min\",\"96 min\",\"96 min\",\"96 min\",\"96 min\",\"96 min\",\"96 min\",\"96 min\",\"96 min\",\"96 min\",\"96 min\",\"96 min\",\"96 min\",\"96 min\",\"96 min\",\"96 min\",\"96 min\",\"96 min\",\"96 min\",\"96 min\",\"96 min\",\"97 min\",\"97 min\",\"97 min\",\"97 min\",\"97 min\",\"97 min\",\"97 min\",\"97 min\",\"97 min\",\"97 min\",\"97 min\",\"97 min\",\"97 min\",\"97 min\",\"97 min\",\"97 min\",\"97 min\",\"97 min\",\"97 min\",\"97 min\",\"97 min\",\"97 min\",\"97 min\",\"97 min\",\"97 min\",\"97 min\",\"97 min\",\"97 min\",\"97 min\",\"97 min\",\"97 min\",\"97 min\",\"97 min\",\"97 min\",\"97 min\",\"97 min\",\"97 min\",\"97 min\",\"97 min\",\"97 min\",\"97 min\",\"97 min\",\"97 min\",\"97 min\",\"97 min\",\"97 min\",\"97 min\",\"97 min\",\"97 min\",\"97 min\",\"97 min\",\"97 min\",\"97 min\",\"97 min\",\"97 min\",\"97 min\",\"97 min\",\"97 min\",\"97 min\",\"97 min\",\"97 min\",\"97 min\",\"97 min\",\"97 min\",\"97 min\",\"97 min\",\"97 min\",\"97 min\",\"97 min\",\"97 min\",\"97 min\",\"97 min\",\"97 min\",\"97 min\",\"97 min\",\"97 min\",\"97 min\",\"97 min\",\"97 min\",\"97 min\",\"97 min\",\"97 min\",\"97 min\",\"97 min\",\"97 min\",\"97 min\",\"97 min\",\"97 min\",\"97 min\",\"97 min\",\"97 min\",\"97 min\",\"97 min\",\"97 min\",\"97 min\",\"97 min\",\"97 min\",\"97 min\",\"97 min\",\"97 min\",\"97 min\",\"97 min\",\"97 min\",\"97 min\",\"97 min\",\"97 min\",\"97 min\",\"97 min\",\"97 min\",\"97 min\",\"97 min\",\"97 min\",\"97 min\",\"97 min\",\"97 min\",\"97 min\",\"97 min\",\"97 min\",\"97 min\",\"97 min\",\"97 min\",\"97 min\",\"97 min\",\"97 min\",\"97 min\",\"97 min\",\"97 min\",\"97 min\",\"97 min\",\"97 min\",\"97 min\",\"97 min\",\"97 min\",\"97 min\",\"97 min\",\"97 min\",\"97 min\",\"97 min\",\"97 min\",\"97 min\",\"97 min\",\"97 min\",\"97 min\",\"97 min\",\"97 min\",\"97 min\",\"98 min\",\"98 min\",\"98 min\",\"98 min\",\"98 min\",\"98 min\",\"98 min\",\"98 min\",\"98 min\",\"98 min\",\"98 min\",\"98 min\",\"98 min\",\"98 min\",\"98 min\",\"98 min\",\"98 min\",\"98 min\",\"98 min\",\"98 min\",\"98 min\",\"98 min\",\"98 min\",\"98 min\",\"98 min\",\"98 min\",\"98 min\",\"98 min\",\"98 min\",\"98 min\",\"98 min\",\"98 min\",\"98 min\",\"98 min\",\"98 min\",\"98 min\",\"98 min\",\"98 min\",\"98 min\",\"98 min\",\"98 min\",\"98 min\",\"98 min\",\"98 min\",\"98 min\",\"98 min\",\"98 min\",\"98 min\",\"98 min\",\"98 min\",\"98 min\",\"98 min\",\"98 min\",\"98 min\",\"98 min\",\"98 min\",\"98 min\",\"98 min\",\"98 min\",\"98 min\",\"98 min\",\"98 min\",\"98 min\",\"98 min\",\"98 min\",\"98 min\",\"98 min\",\"98 min\",\"98 min\",\"98 min\",\"98 min\",\"98 min\",\"98 min\",\"98 min\",\"98 min\",\"98 min\",\"98 min\",\"98 min\",\"98 min\",\"98 min\",\"98 min\",\"98 min\",\"98 min\",\"98 min\",\"98 min\",\"98 min\",\"98 min\",\"98 min\",\"98 min\",\"98 min\",\"98 min\",\"98 min\",\"98 min\",\"98 min\",\"98 min\",\"98 min\",\"98 min\",\"98 min\",\"98 min\",\"98 min\",\"98 min\",\"98 min\",\"98 min\",\"98 min\",\"98 min\",\"98 min\",\"98 min\",\"98 min\",\"98 min\",\"98 min\",\"98 min\",\"98 min\",\"98 min\",\"98 min\",\"98 min\",\"98 min\",\"98 min\",\"98 min\",\"98 min\",\"98 min\",\"99 min\",\"99 min\",\"99 min\",\"99 min\",\"99 min\",\"99 min\",\"99 min\",\"99 min\",\"99 min\",\"99 min\",\"99 min\",\"99 min\",\"99 min\",\"99 min\",\"99 min\",\"99 min\",\"99 min\",\"99 min\",\"99 min\",\"99 min\",\"99 min\",\"99 min\",\"99 min\",\"99 min\",\"99 min\",\"99 min\",\"99 min\",\"99 min\",\"99 min\",\"99 min\",\"99 min\",\"99 min\",\"99 min\",\"99 min\",\"99 min\",\"99 min\",\"99 min\",\"99 min\",\"99 min\",\"99 min\",\"99 min\",\"99 min\",\"99 min\",\"99 min\",\"99 min\",\"99 min\",\"99 min\",\"99 min\",\"99 min\",\"99 min\",\"99 min\",\"99 min\",\"99 min\",\"99 min\",\"99 min\",\"99 min\",\"99 min\",\"99 min\",\"99 min\",\"99 min\",\"99 min\",\"99 min\",\"99 min\",\"99 min\",\"99 min\",\"99 min\",\"99 min\",\"99 min\",\"99 min\",\"99 min\",\"99 min\",\"99 min\",\"99 min\",\"99 min\",\"99 min\",\"99 min\",\"99 min\",\"99 min\",\"99 min\",\"99 min\",\"99 min\",\"99 min\",\"99 min\",\"99 min\",\"99 min\",\"99 min\",\"99 min\",\"99 min\",\"99 min\",\"99 min\",\"99 min\",\"99 min\",\"99 min\",\"99 min\",\"99 min\",\"99 min\",\"99 min\",\"99 min\",\"99 min\",\"99 min\",\"99 min\",\"99 min\",\"99 min\",\"99 min\",\"99 min\",\"99 min\",\"99 min\",\"99 min\",\"99 min\",\"99 min\",\"99 min\",\"99 min\",\"99 min\",\"99 min\",\"99 min\",\"99 min\",\"99 min\",\"99 min\"],\"type\":\"histogram\"}],                        {\"template\":{\"data\":{\"bar\":[{\"error_x\":{\"color\":\"#2a3f5f\"},\"error_y\":{\"color\":\"#2a3f5f\"},\"marker\":{\"line\":{\"color\":\"#E5ECF6\",\"width\":0.5},\"pattern\":{\"fillmode\":\"overlay\",\"size\":10,\"solidity\":0.2}},\"type\":\"bar\"}],\"barpolar\":[{\"marker\":{\"line\":{\"color\":\"#E5ECF6\",\"width\":0.5},\"pattern\":{\"fillmode\":\"overlay\",\"size\":10,\"solidity\":0.2}},\"type\":\"barpolar\"}],\"carpet\":[{\"aaxis\":{\"endlinecolor\":\"#2a3f5f\",\"gridcolor\":\"white\",\"linecolor\":\"white\",\"minorgridcolor\":\"white\",\"startlinecolor\":\"#2a3f5f\"},\"baxis\":{\"endlinecolor\":\"#2a3f5f\",\"gridcolor\":\"white\",\"linecolor\":\"white\",\"minorgridcolor\":\"white\",\"startlinecolor\":\"#2a3f5f\"},\"type\":\"carpet\"}],\"choropleth\":[{\"colorbar\":{\"outlinewidth\":0,\"ticks\":\"\"},\"type\":\"choropleth\"}],\"contour\":[{\"colorbar\":{\"outlinewidth\":0,\"ticks\":\"\"},\"colorscale\":[[0.0,\"#0d0887\"],[0.1111111111111111,\"#46039f\"],[0.2222222222222222,\"#7201a8\"],[0.3333333333333333,\"#9c179e\"],[0.4444444444444444,\"#bd3786\"],[0.5555555555555556,\"#d8576b\"],[0.6666666666666666,\"#ed7953\"],[0.7777777777777778,\"#fb9f3a\"],[0.8888888888888888,\"#fdca26\"],[1.0,\"#f0f921\"]],\"type\":\"contour\"}],\"contourcarpet\":[{\"colorbar\":{\"outlinewidth\":0,\"ticks\":\"\"},\"type\":\"contourcarpet\"}],\"heatmap\":[{\"colorbar\":{\"outlinewidth\":0,\"ticks\":\"\"},\"colorscale\":[[0.0,\"#0d0887\"],[0.1111111111111111,\"#46039f\"],[0.2222222222222222,\"#7201a8\"],[0.3333333333333333,\"#9c179e\"],[0.4444444444444444,\"#bd3786\"],[0.5555555555555556,\"#d8576b\"],[0.6666666666666666,\"#ed7953\"],[0.7777777777777778,\"#fb9f3a\"],[0.8888888888888888,\"#fdca26\"],[1.0,\"#f0f921\"]],\"type\":\"heatmap\"}],\"heatmapgl\":[{\"colorbar\":{\"outlinewidth\":0,\"ticks\":\"\"},\"colorscale\":[[0.0,\"#0d0887\"],[0.1111111111111111,\"#46039f\"],[0.2222222222222222,\"#7201a8\"],[0.3333333333333333,\"#9c179e\"],[0.4444444444444444,\"#bd3786\"],[0.5555555555555556,\"#d8576b\"],[0.6666666666666666,\"#ed7953\"],[0.7777777777777778,\"#fb9f3a\"],[0.8888888888888888,\"#fdca26\"],[1.0,\"#f0f921\"]],\"type\":\"heatmapgl\"}],\"histogram\":[{\"marker\":{\"pattern\":{\"fillmode\":\"overlay\",\"size\":10,\"solidity\":0.2}},\"type\":\"histogram\"}],\"histogram2d\":[{\"colorbar\":{\"outlinewidth\":0,\"ticks\":\"\"},\"colorscale\":[[0.0,\"#0d0887\"],[0.1111111111111111,\"#46039f\"],[0.2222222222222222,\"#7201a8\"],[0.3333333333333333,\"#9c179e\"],[0.4444444444444444,\"#bd3786\"],[0.5555555555555556,\"#d8576b\"],[0.6666666666666666,\"#ed7953\"],[0.7777777777777778,\"#fb9f3a\"],[0.8888888888888888,\"#fdca26\"],[1.0,\"#f0f921\"]],\"type\":\"histogram2d\"}],\"histogram2dcontour\":[{\"colorbar\":{\"outlinewidth\":0,\"ticks\":\"\"},\"colorscale\":[[0.0,\"#0d0887\"],[0.1111111111111111,\"#46039f\"],[0.2222222222222222,\"#7201a8\"],[0.3333333333333333,\"#9c179e\"],[0.4444444444444444,\"#bd3786\"],[0.5555555555555556,\"#d8576b\"],[0.6666666666666666,\"#ed7953\"],[0.7777777777777778,\"#fb9f3a\"],[0.8888888888888888,\"#fdca26\"],[1.0,\"#f0f921\"]],\"type\":\"histogram2dcontour\"}],\"mesh3d\":[{\"colorbar\":{\"outlinewidth\":0,\"ticks\":\"\"},\"type\":\"mesh3d\"}],\"parcoords\":[{\"line\":{\"colorbar\":{\"outlinewidth\":0,\"ticks\":\"\"}},\"type\":\"parcoords\"}],\"pie\":[{\"automargin\":true,\"type\":\"pie\"}],\"scatter\":[{\"marker\":{\"colorbar\":{\"outlinewidth\":0,\"ticks\":\"\"}},\"type\":\"scatter\"}],\"scatter3d\":[{\"line\":{\"colorbar\":{\"outlinewidth\":0,\"ticks\":\"\"}},\"marker\":{\"colorbar\":{\"outlinewidth\":0,\"ticks\":\"\"}},\"type\":\"scatter3d\"}],\"scattercarpet\":[{\"marker\":{\"colorbar\":{\"outlinewidth\":0,\"ticks\":\"\"}},\"type\":\"scattercarpet\"}],\"scattergeo\":[{\"marker\":{\"colorbar\":{\"outlinewidth\":0,\"ticks\":\"\"}},\"type\":\"scattergeo\"}],\"scattergl\":[{\"marker\":{\"colorbar\":{\"outlinewidth\":0,\"ticks\":\"\"}},\"type\":\"scattergl\"}],\"scattermapbox\":[{\"marker\":{\"colorbar\":{\"outlinewidth\":0,\"ticks\":\"\"}},\"type\":\"scattermapbox\"}],\"scatterpolar\":[{\"marker\":{\"colorbar\":{\"outlinewidth\":0,\"ticks\":\"\"}},\"type\":\"scatterpolar\"}],\"scatterpolargl\":[{\"marker\":{\"colorbar\":{\"outlinewidth\":0,\"ticks\":\"\"}},\"type\":\"scatterpolargl\"}],\"scatterternary\":[{\"marker\":{\"colorbar\":{\"outlinewidth\":0,\"ticks\":\"\"}},\"type\":\"scatterternary\"}],\"surface\":[{\"colorbar\":{\"outlinewidth\":0,\"ticks\":\"\"},\"colorscale\":[[0.0,\"#0d0887\"],[0.1111111111111111,\"#46039f\"],[0.2222222222222222,\"#7201a8\"],[0.3333333333333333,\"#9c179e\"],[0.4444444444444444,\"#bd3786\"],[0.5555555555555556,\"#d8576b\"],[0.6666666666666666,\"#ed7953\"],[0.7777777777777778,\"#fb9f3a\"],[0.8888888888888888,\"#fdca26\"],[1.0,\"#f0f921\"]],\"type\":\"surface\"}],\"table\":[{\"cells\":{\"fill\":{\"color\":\"#EBF0F8\"},\"line\":{\"color\":\"white\"}},\"header\":{\"fill\":{\"color\":\"#C8D4E3\"},\"line\":{\"color\":\"white\"}},\"type\":\"table\"}]},\"layout\":{\"annotationdefaults\":{\"arrowcolor\":\"#2a3f5f\",\"arrowhead\":0,\"arrowwidth\":1},\"autotypenumbers\":\"strict\",\"coloraxis\":{\"colorbar\":{\"outlinewidth\":0,\"ticks\":\"\"}},\"colorscale\":{\"diverging\":[[0,\"#8e0152\"],[0.1,\"#c51b7d\"],[0.2,\"#de77ae\"],[0.3,\"#f1b6da\"],[0.4,\"#fde0ef\"],[0.5,\"#f7f7f7\"],[0.6,\"#e6f5d0\"],[0.7,\"#b8e186\"],[0.8,\"#7fbc41\"],[0.9,\"#4d9221\"],[1,\"#276419\"]],\"sequential\":[[0.0,\"#0d0887\"],[0.1111111111111111,\"#46039f\"],[0.2222222222222222,\"#7201a8\"],[0.3333333333333333,\"#9c179e\"],[0.4444444444444444,\"#bd3786\"],[0.5555555555555556,\"#d8576b\"],[0.6666666666666666,\"#ed7953\"],[0.7777777777777778,\"#fb9f3a\"],[0.8888888888888888,\"#fdca26\"],[1.0,\"#f0f921\"]],\"sequentialminus\":[[0.0,\"#0d0887\"],[0.1111111111111111,\"#46039f\"],[0.2222222222222222,\"#7201a8\"],[0.3333333333333333,\"#9c179e\"],[0.4444444444444444,\"#bd3786\"],[0.5555555555555556,\"#d8576b\"],[0.6666666666666666,\"#ed7953\"],[0.7777777777777778,\"#fb9f3a\"],[0.8888888888888888,\"#fdca26\"],[1.0,\"#f0f921\"]]},\"colorway\":[\"#636efa\",\"#EF553B\",\"#00cc96\",\"#ab63fa\",\"#FFA15A\",\"#19d3f3\",\"#FF6692\",\"#B6E880\",\"#FF97FF\",\"#FECB52\"],\"font\":{\"color\":\"#2a3f5f\"},\"geo\":{\"bgcolor\":\"white\",\"lakecolor\":\"white\",\"landcolor\":\"#E5ECF6\",\"showlakes\":true,\"showland\":true,\"subunitcolor\":\"white\"},\"hoverlabel\":{\"align\":\"left\"},\"hovermode\":\"closest\",\"mapbox\":{\"style\":\"light\"},\"paper_bgcolor\":\"white\",\"plot_bgcolor\":\"#E5ECF6\",\"polar\":{\"angularaxis\":{\"gridcolor\":\"white\",\"linecolor\":\"white\",\"ticks\":\"\"},\"bgcolor\":\"#E5ECF6\",\"radialaxis\":{\"gridcolor\":\"white\",\"linecolor\":\"white\",\"ticks\":\"\"}},\"scene\":{\"xaxis\":{\"backgroundcolor\":\"#E5ECF6\",\"gridcolor\":\"white\",\"gridwidth\":2,\"linecolor\":\"white\",\"showbackground\":true,\"ticks\":\"\",\"zerolinecolor\":\"white\"},\"yaxis\":{\"backgroundcolor\":\"#E5ECF6\",\"gridcolor\":\"white\",\"gridwidth\":2,\"linecolor\":\"white\",\"showbackground\":true,\"ticks\":\"\",\"zerolinecolor\":\"white\"},\"zaxis\":{\"backgroundcolor\":\"#E5ECF6\",\"gridcolor\":\"white\",\"gridwidth\":2,\"linecolor\":\"white\",\"showbackground\":true,\"ticks\":\"\",\"zerolinecolor\":\"white\"}},\"shapedefaults\":{\"line\":{\"color\":\"#2a3f5f\"}},\"ternary\":{\"aaxis\":{\"gridcolor\":\"white\",\"linecolor\":\"white\",\"ticks\":\"\"},\"baxis\":{\"gridcolor\":\"white\",\"linecolor\":\"white\",\"ticks\":\"\"},\"bgcolor\":\"#E5ECF6\",\"caxis\":{\"gridcolor\":\"white\",\"linecolor\":\"white\",\"ticks\":\"\"}},\"title\":{\"x\":0.05},\"xaxis\":{\"automargin\":true,\"gridcolor\":\"white\",\"linecolor\":\"white\",\"ticks\":\"\",\"title\":{\"standoff\":15},\"zerolinecolor\":\"white\",\"zerolinewidth\":2},\"yaxis\":{\"automargin\":true,\"gridcolor\":\"white\",\"linecolor\":\"white\",\"ticks\":\"\",\"title\":{\"standoff\":15},\"zerolinecolor\":\"white\",\"zerolinewidth\":2}}}},                        {\"responsive\": true}                    ).then(function(){\n",
              "                            \n",
              "var gd = document.getElementById('ba8d39c9-6490-44bd-aadf-39248c9e3d08');\n",
              "var x = new MutationObserver(function (mutations, observer) {{\n",
              "        var display = window.getComputedStyle(gd).display;\n",
              "        if (!display || display === 'none') {{\n",
              "            console.log([gd, 'removed!']);\n",
              "            Plotly.purge(gd);\n",
              "            observer.disconnect();\n",
              "        }}\n",
              "}});\n",
              "\n",
              "// Listen for the removal of the full notebook cells\n",
              "var notebookContainer = gd.closest('#notebook-container');\n",
              "if (notebookContainer) {{\n",
              "    x.observe(notebookContainer, {childList: true});\n",
              "}}\n",
              "\n",
              "// Listen for the clearing of the current output cell\n",
              "var outputEl = gd.closest('.output');\n",
              "if (outputEl) {{\n",
              "    x.observe(outputEl, {childList: true});\n",
              "}}\n",
              "\n",
              "                        })                };                            </script>        </div>\n",
              "</body>\n",
              "</html>"
            ]
          },
          "metadata": {}
        }
      ]
    },
    {
      "cell_type": "markdown",
      "source": [
        "##8. Top kategori film Netflix?"
      ],
      "metadata": {
        "id": "0S3azHvrpbtr"
      },
      "id": "0S3azHvrpbtr"
    },
    {
      "cell_type": "code",
      "source": [
        "\n",
        "d2 = df[df[\"type\"] == \"Movie\"]\n",
        "col = \"listed_in\"\n",
        "categories = \", \".join(d2['listed_in']).split(\", \")\n",
        "counter_list = Counter(categories).most_common(50)\n",
        "labels = [_[0] for _ in counter_list][::-1]\n",
        "values = [_[1] for _ in counter_list][::-1]\n",
        "trace1 = go.Bar(y=labels, x=values, orientation=\"h\", name=\"TV Shows\", marker=dict(color=\"maroon\"))\n",
        "\n",
        "data = [trace1]\n",
        "layout = go.Layout(legend=dict(orientation=\"h\"))\n",
        "fig = go.Figure(data, layout=layout)\n",
        "fig.update_layout(\n",
        "    title='Most Categories Netflix Movies',title_font_color=\"maroon\",title_font_size=32,\n",
        "    xaxis_tickfont_size=14,xaxis_tickfont_color='maroon',xaxis_title='Count',xaxis_titlefont_color='maroon',\n",
        "    yaxis=dict(\n",
        "        title='Categories',\n",
        "        titlefont_size=16,\n",
        "        tickfont_size=14,\n",
        "        titlefont_color='maroon',\n",
        "        tickfont_color='maroon'\n",
        "    ))\n",
        "fig.show()"
      ],
      "metadata": {
        "colab": {
          "base_uri": "https://localhost:8080/",
          "height": 542
        },
        "id": "hEl6v5LrpcZt",
        "outputId": "880c094b-f3df-41d3-c74b-bd71e2032746"
      },
      "id": "hEl6v5LrpcZt",
      "execution_count": 21,
      "outputs": [
        {
          "output_type": "display_data",
          "data": {
            "text/html": [
              "<html>\n",
              "<head><meta charset=\"utf-8\" /></head>\n",
              "<body>\n",
              "    <div>            <script src=\"https://cdnjs.cloudflare.com/ajax/libs/mathjax/2.7.5/MathJax.js?config=TeX-AMS-MML_SVG\"></script><script type=\"text/javascript\">if (window.MathJax) {MathJax.Hub.Config({SVG: {font: \"STIX-Web\"}});}</script>                <script type=\"text/javascript\">window.PlotlyConfig = {MathJaxConfig: 'local'};</script>\n",
              "        <script src=\"https://cdn.plot.ly/plotly-2.8.3.min.js\"></script>                <div id=\"a1e817e3-fce2-4ee5-abc5-531622dac89c\" class=\"plotly-graph-div\" style=\"height:525px; width:100%;\"></div>            <script type=\"text/javascript\">                                    window.PLOTLYENV=window.PLOTLYENV || {};                                    if (document.getElementById(\"a1e817e3-fce2-4ee5-abc5-531622dac89c\")) {                    Plotly.newPlot(                        \"a1e817e3-fce2-4ee5-abc5-531622dac89c\",                        [{\"marker\":{\"color\":\"maroon\"},\"name\":\"TV Shows\",\"orientation\":\"h\",\"x\":[53,65,71,71,102,116,219,243,343,357,375,577,616,641,756,859,869,1674,2426,2752],\"y\":[\"Movies\",\"Faith & Spirituality\",\"Cult Movies\",\"Anime Features\",\"LGBTQ Movies\",\"Classic Movies\",\"Sports Movies\",\"Sci-Fi & Fantasy\",\"Stand-Up Comedy\",\"Horror Movies\",\"Music & Musicals\",\"Thrillers\",\"Romantic Movies\",\"Children & Family Movies\",\"Independent Movies\",\"Action & Adventure\",\"Documentaries\",\"Comedies\",\"Dramas\",\"International Movies\"],\"type\":\"bar\"}],                        {\"legend\":{\"orientation\":\"h\"},\"template\":{\"data\":{\"bar\":[{\"error_x\":{\"color\":\"#2a3f5f\"},\"error_y\":{\"color\":\"#2a3f5f\"},\"marker\":{\"line\":{\"color\":\"#E5ECF6\",\"width\":0.5},\"pattern\":{\"fillmode\":\"overlay\",\"size\":10,\"solidity\":0.2}},\"type\":\"bar\"}],\"barpolar\":[{\"marker\":{\"line\":{\"color\":\"#E5ECF6\",\"width\":0.5},\"pattern\":{\"fillmode\":\"overlay\",\"size\":10,\"solidity\":0.2}},\"type\":\"barpolar\"}],\"carpet\":[{\"aaxis\":{\"endlinecolor\":\"#2a3f5f\",\"gridcolor\":\"white\",\"linecolor\":\"white\",\"minorgridcolor\":\"white\",\"startlinecolor\":\"#2a3f5f\"},\"baxis\":{\"endlinecolor\":\"#2a3f5f\",\"gridcolor\":\"white\",\"linecolor\":\"white\",\"minorgridcolor\":\"white\",\"startlinecolor\":\"#2a3f5f\"},\"type\":\"carpet\"}],\"choropleth\":[{\"colorbar\":{\"outlinewidth\":0,\"ticks\":\"\"},\"type\":\"choropleth\"}],\"contour\":[{\"colorbar\":{\"outlinewidth\":0,\"ticks\":\"\"},\"colorscale\":[[0.0,\"#0d0887\"],[0.1111111111111111,\"#46039f\"],[0.2222222222222222,\"#7201a8\"],[0.3333333333333333,\"#9c179e\"],[0.4444444444444444,\"#bd3786\"],[0.5555555555555556,\"#d8576b\"],[0.6666666666666666,\"#ed7953\"],[0.7777777777777778,\"#fb9f3a\"],[0.8888888888888888,\"#fdca26\"],[1.0,\"#f0f921\"]],\"type\":\"contour\"}],\"contourcarpet\":[{\"colorbar\":{\"outlinewidth\":0,\"ticks\":\"\"},\"type\":\"contourcarpet\"}],\"heatmap\":[{\"colorbar\":{\"outlinewidth\":0,\"ticks\":\"\"},\"colorscale\":[[0.0,\"#0d0887\"],[0.1111111111111111,\"#46039f\"],[0.2222222222222222,\"#7201a8\"],[0.3333333333333333,\"#9c179e\"],[0.4444444444444444,\"#bd3786\"],[0.5555555555555556,\"#d8576b\"],[0.6666666666666666,\"#ed7953\"],[0.7777777777777778,\"#fb9f3a\"],[0.8888888888888888,\"#fdca26\"],[1.0,\"#f0f921\"]],\"type\":\"heatmap\"}],\"heatmapgl\":[{\"colorbar\":{\"outlinewidth\":0,\"ticks\":\"\"},\"colorscale\":[[0.0,\"#0d0887\"],[0.1111111111111111,\"#46039f\"],[0.2222222222222222,\"#7201a8\"],[0.3333333333333333,\"#9c179e\"],[0.4444444444444444,\"#bd3786\"],[0.5555555555555556,\"#d8576b\"],[0.6666666666666666,\"#ed7953\"],[0.7777777777777778,\"#fb9f3a\"],[0.8888888888888888,\"#fdca26\"],[1.0,\"#f0f921\"]],\"type\":\"heatmapgl\"}],\"histogram\":[{\"marker\":{\"pattern\":{\"fillmode\":\"overlay\",\"size\":10,\"solidity\":0.2}},\"type\":\"histogram\"}],\"histogram2d\":[{\"colorbar\":{\"outlinewidth\":0,\"ticks\":\"\"},\"colorscale\":[[0.0,\"#0d0887\"],[0.1111111111111111,\"#46039f\"],[0.2222222222222222,\"#7201a8\"],[0.3333333333333333,\"#9c179e\"],[0.4444444444444444,\"#bd3786\"],[0.5555555555555556,\"#d8576b\"],[0.6666666666666666,\"#ed7953\"],[0.7777777777777778,\"#fb9f3a\"],[0.8888888888888888,\"#fdca26\"],[1.0,\"#f0f921\"]],\"type\":\"histogram2d\"}],\"histogram2dcontour\":[{\"colorbar\":{\"outlinewidth\":0,\"ticks\":\"\"},\"colorscale\":[[0.0,\"#0d0887\"],[0.1111111111111111,\"#46039f\"],[0.2222222222222222,\"#7201a8\"],[0.3333333333333333,\"#9c179e\"],[0.4444444444444444,\"#bd3786\"],[0.5555555555555556,\"#d8576b\"],[0.6666666666666666,\"#ed7953\"],[0.7777777777777778,\"#fb9f3a\"],[0.8888888888888888,\"#fdca26\"],[1.0,\"#f0f921\"]],\"type\":\"histogram2dcontour\"}],\"mesh3d\":[{\"colorbar\":{\"outlinewidth\":0,\"ticks\":\"\"},\"type\":\"mesh3d\"}],\"parcoords\":[{\"line\":{\"colorbar\":{\"outlinewidth\":0,\"ticks\":\"\"}},\"type\":\"parcoords\"}],\"pie\":[{\"automargin\":true,\"type\":\"pie\"}],\"scatter\":[{\"marker\":{\"colorbar\":{\"outlinewidth\":0,\"ticks\":\"\"}},\"type\":\"scatter\"}],\"scatter3d\":[{\"line\":{\"colorbar\":{\"outlinewidth\":0,\"ticks\":\"\"}},\"marker\":{\"colorbar\":{\"outlinewidth\":0,\"ticks\":\"\"}},\"type\":\"scatter3d\"}],\"scattercarpet\":[{\"marker\":{\"colorbar\":{\"outlinewidth\":0,\"ticks\":\"\"}},\"type\":\"scattercarpet\"}],\"scattergeo\":[{\"marker\":{\"colorbar\":{\"outlinewidth\":0,\"ticks\":\"\"}},\"type\":\"scattergeo\"}],\"scattergl\":[{\"marker\":{\"colorbar\":{\"outlinewidth\":0,\"ticks\":\"\"}},\"type\":\"scattergl\"}],\"scattermapbox\":[{\"marker\":{\"colorbar\":{\"outlinewidth\":0,\"ticks\":\"\"}},\"type\":\"scattermapbox\"}],\"scatterpolar\":[{\"marker\":{\"colorbar\":{\"outlinewidth\":0,\"ticks\":\"\"}},\"type\":\"scatterpolar\"}],\"scatterpolargl\":[{\"marker\":{\"colorbar\":{\"outlinewidth\":0,\"ticks\":\"\"}},\"type\":\"scatterpolargl\"}],\"scatterternary\":[{\"marker\":{\"colorbar\":{\"outlinewidth\":0,\"ticks\":\"\"}},\"type\":\"scatterternary\"}],\"surface\":[{\"colorbar\":{\"outlinewidth\":0,\"ticks\":\"\"},\"colorscale\":[[0.0,\"#0d0887\"],[0.1111111111111111,\"#46039f\"],[0.2222222222222222,\"#7201a8\"],[0.3333333333333333,\"#9c179e\"],[0.4444444444444444,\"#bd3786\"],[0.5555555555555556,\"#d8576b\"],[0.6666666666666666,\"#ed7953\"],[0.7777777777777778,\"#fb9f3a\"],[0.8888888888888888,\"#fdca26\"],[1.0,\"#f0f921\"]],\"type\":\"surface\"}],\"table\":[{\"cells\":{\"fill\":{\"color\":\"#EBF0F8\"},\"line\":{\"color\":\"white\"}},\"header\":{\"fill\":{\"color\":\"#C8D4E3\"},\"line\":{\"color\":\"white\"}},\"type\":\"table\"}]},\"layout\":{\"annotationdefaults\":{\"arrowcolor\":\"#2a3f5f\",\"arrowhead\":0,\"arrowwidth\":1},\"autotypenumbers\":\"strict\",\"coloraxis\":{\"colorbar\":{\"outlinewidth\":0,\"ticks\":\"\"}},\"colorscale\":{\"diverging\":[[0,\"#8e0152\"],[0.1,\"#c51b7d\"],[0.2,\"#de77ae\"],[0.3,\"#f1b6da\"],[0.4,\"#fde0ef\"],[0.5,\"#f7f7f7\"],[0.6,\"#e6f5d0\"],[0.7,\"#b8e186\"],[0.8,\"#7fbc41\"],[0.9,\"#4d9221\"],[1,\"#276419\"]],\"sequential\":[[0.0,\"#0d0887\"],[0.1111111111111111,\"#46039f\"],[0.2222222222222222,\"#7201a8\"],[0.3333333333333333,\"#9c179e\"],[0.4444444444444444,\"#bd3786\"],[0.5555555555555556,\"#d8576b\"],[0.6666666666666666,\"#ed7953\"],[0.7777777777777778,\"#fb9f3a\"],[0.8888888888888888,\"#fdca26\"],[1.0,\"#f0f921\"]],\"sequentialminus\":[[0.0,\"#0d0887\"],[0.1111111111111111,\"#46039f\"],[0.2222222222222222,\"#7201a8\"],[0.3333333333333333,\"#9c179e\"],[0.4444444444444444,\"#bd3786\"],[0.5555555555555556,\"#d8576b\"],[0.6666666666666666,\"#ed7953\"],[0.7777777777777778,\"#fb9f3a\"],[0.8888888888888888,\"#fdca26\"],[1.0,\"#f0f921\"]]},\"colorway\":[\"#636efa\",\"#EF553B\",\"#00cc96\",\"#ab63fa\",\"#FFA15A\",\"#19d3f3\",\"#FF6692\",\"#B6E880\",\"#FF97FF\",\"#FECB52\"],\"font\":{\"color\":\"#2a3f5f\"},\"geo\":{\"bgcolor\":\"white\",\"lakecolor\":\"white\",\"landcolor\":\"#E5ECF6\",\"showlakes\":true,\"showland\":true,\"subunitcolor\":\"white\"},\"hoverlabel\":{\"align\":\"left\"},\"hovermode\":\"closest\",\"mapbox\":{\"style\":\"light\"},\"paper_bgcolor\":\"white\",\"plot_bgcolor\":\"#E5ECF6\",\"polar\":{\"angularaxis\":{\"gridcolor\":\"white\",\"linecolor\":\"white\",\"ticks\":\"\"},\"bgcolor\":\"#E5ECF6\",\"radialaxis\":{\"gridcolor\":\"white\",\"linecolor\":\"white\",\"ticks\":\"\"}},\"scene\":{\"xaxis\":{\"backgroundcolor\":\"#E5ECF6\",\"gridcolor\":\"white\",\"gridwidth\":2,\"linecolor\":\"white\",\"showbackground\":true,\"ticks\":\"\",\"zerolinecolor\":\"white\"},\"yaxis\":{\"backgroundcolor\":\"#E5ECF6\",\"gridcolor\":\"white\",\"gridwidth\":2,\"linecolor\":\"white\",\"showbackground\":true,\"ticks\":\"\",\"zerolinecolor\":\"white\"},\"zaxis\":{\"backgroundcolor\":\"#E5ECF6\",\"gridcolor\":\"white\",\"gridwidth\":2,\"linecolor\":\"white\",\"showbackground\":true,\"ticks\":\"\",\"zerolinecolor\":\"white\"}},\"shapedefaults\":{\"line\":{\"color\":\"#2a3f5f\"}},\"ternary\":{\"aaxis\":{\"gridcolor\":\"white\",\"linecolor\":\"white\",\"ticks\":\"\"},\"baxis\":{\"gridcolor\":\"white\",\"linecolor\":\"white\",\"ticks\":\"\"},\"bgcolor\":\"#E5ECF6\",\"caxis\":{\"gridcolor\":\"white\",\"linecolor\":\"white\",\"ticks\":\"\"}},\"title\":{\"x\":0.05},\"xaxis\":{\"automargin\":true,\"gridcolor\":\"white\",\"linecolor\":\"white\",\"ticks\":\"\",\"title\":{\"standoff\":15},\"zerolinecolor\":\"white\",\"zerolinewidth\":2},\"yaxis\":{\"automargin\":true,\"gridcolor\":\"white\",\"linecolor\":\"white\",\"ticks\":\"\",\"title\":{\"standoff\":15},\"zerolinecolor\":\"white\",\"zerolinewidth\":2}}},\"title\":{\"text\":\"Most Categories Netflix Movies\",\"font\":{\"color\":\"maroon\",\"size\":32}},\"xaxis\":{\"tickfont\":{\"size\":14,\"color\":\"maroon\"},\"title\":{\"text\":\"Count\",\"font\":{\"color\":\"maroon\"}}},\"yaxis\":{\"title\":{\"text\":\"Categories\",\"font\":{\"size\":16,\"color\":\"maroon\"}},\"tickfont\":{\"size\":14,\"color\":\"maroon\"}}},                        {\"responsive\": true}                    ).then(function(){\n",
              "                            \n",
              "var gd = document.getElementById('a1e817e3-fce2-4ee5-abc5-531622dac89c');\n",
              "var x = new MutationObserver(function (mutations, observer) {{\n",
              "        var display = window.getComputedStyle(gd).display;\n",
              "        if (!display || display === 'none') {{\n",
              "            console.log([gd, 'removed!']);\n",
              "            Plotly.purge(gd);\n",
              "            observer.disconnect();\n",
              "        }}\n",
              "}});\n",
              "\n",
              "// Listen for the removal of the full notebook cells\n",
              "var notebookContainer = gd.closest('#notebook-container');\n",
              "if (notebookContainer) {{\n",
              "    x.observe(notebookContainer, {childList: true});\n",
              "}}\n",
              "\n",
              "// Listen for the clearing of the current output cell\n",
              "var outputEl = gd.closest('.output');\n",
              "if (outputEl) {{\n",
              "    x.observe(outputEl, {childList: true});\n",
              "}}\n",
              "\n",
              "                        })                };                            </script>        </div>\n",
              "</body>\n",
              "</html>"
            ]
          },
          "metadata": {}
        }
      ]
    },
    {
      "cell_type": "code",
      "source": [
        "plt.hist(df.duration)"
      ],
      "metadata": {
        "colab": {
          "base_uri": "https://localhost:8080/",
          "height": 355
        },
        "id": "88SvNc8R7PhO",
        "outputId": "bef21deb-1cef-4e6f-ce08-e46e6a2aaa90"
      },
      "id": "88SvNc8R7PhO",
      "execution_count": 22,
      "outputs": [
        {
          "output_type": "execute_result",
          "data": {
            "text/plain": [
              "(array([3825., 1620., 1315.,  708.,  488.,  305.,  274.,  122.,   81.,\n",
              "          52.]),\n",
              " array([  0. ,  21.9,  43.8,  65.7,  87.6, 109.5, 131.4, 153.3, 175.2,\n",
              "        197.1, 219. ]),\n",
              " <a list of 10 Patch objects>)"
            ]
          },
          "metadata": {},
          "execution_count": 22
        },
        {
          "output_type": "display_data",
          "data": {
            "text/plain": [
              "<Figure size 432x288 with 1 Axes>"
            ],
            "image/png": "[encoded data removed]"
          },
          "metadata": {
            "needs_background": "light"
          }
        }
      ]
    },
    {
      "cell_type": "code",
      "source": [],
      "metadata": {
        "id": "tH6zYjCF7UIB"
      },
      "id": "tH6zYjCF7UIB",
      "execution_count": 22,
      "outputs": []
    }
  ],
  "metadata": {
    "language_info": {
      "name": "python",
      "version": "3.8.10",
      "mimetype": "text/x-python",
      "codemirror_mode": {
        "name": "ipython",
        "version": 3
      },
      "pygments_lexer": "ipython3",
      "nbconvert_exporter": "python",
      "file_extension": ".py"
    },
    "kernelspec": {
      "display_name": "Python 3 (ipykernel)",
      "language": "python",
      "name": "python3"
    },
    "editor": "DataCamp Workspace",
    "colab": {
      "provenance": [],
      "collapsed_sections": [
        "c142e886-32c0-43a8-9f7f-48ebfea556ed",
        "f80725d1-f623-4ed3-a96f-c4b2b0867bc3",
        "NkQXGxvutO6N",
        "3yalXzHwZ2FX",
        "tK_2Va8wXFnr"
      ],
      "include_colab_link": true
    }
  },
  "nbformat": 4,
  "nbformat_minor": 5
}